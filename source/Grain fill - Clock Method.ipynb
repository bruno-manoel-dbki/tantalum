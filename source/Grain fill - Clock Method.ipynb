{
 "cells": [
  {
   "cell_type": "markdown",
   "id": "a8c8c1bc",
   "metadata": {},
   "source": [
    "# Calculating GB energy from DF"
   ]
  },
  {
   "cell_type": "markdown",
   "id": "7f96c1fc",
   "metadata": {},
   "source": [
    "## Objective\n",
    "\n",
    "(i) Select data from boundaries\n",
    "(ii) Organize it for all grains\n",
    "(iii) Calculate the energy with wield"
   ]
  },
  {
   "cell_type": "markdown",
   "id": "961bc087",
   "metadata": {},
   "source": [
    "## Method\n",
    "\n",
    "    * Open Dataframe\n",
    "    * Select attributes of interest from boundaries\n",
    "    * Create a new DF with grain information\n",
    "    * Convert data to wield\n",
    "    * Run wield for all grains\n",
    "    * Store energy in Dataframe"
   ]
  },
  {
   "cell_type": "code",
   "execution_count": 1,
   "id": "8e745837",
   "metadata": {},
   "outputs": [],
   "source": [
    "import pandas as pd\n",
    "import numpy as np\n",
    "from skimage import draw,io\n",
    "from skimage.segmentation import flood, flood_fill\n",
    "from scipy.spatial import ConvexHull, convex_hull_plot_2d\n",
    "import cv2\n",
    "from matplotlib import pyplot as plt\n",
    "\n",
    "from IPython.display import set_matplotlib_formats\n",
    "plt.rcParams['figure.dpi'] = 200\n",
    "plt.rcParams['savefig.dpi'] = 200\n"
   ]
  },
  {
   "cell_type": "markdown",
   "id": "3a77d4b0",
   "metadata": {},
   "source": [
    "### Open Dataframe\n"
   ]
  },
  {
   "cell_type": "code",
   "execution_count": 2,
   "id": "2b431e03",
   "metadata": {},
   "outputs": [],
   "source": [
    "\n",
    "folder = \"../data/\"\n",
    "file = \"1_001\"\n",
    "path = folder + file\n",
    "\n",
    "#%%\n",
    "\n",
    "sample = np.loadtxt(path+ \".txt\")\n",
    "\n",
    "'''\n",
    "# Column 1-3:   right hand average orientation (phi1, PHI, phi2 in radians)\n",
    "# Column 4-6:   left hand average orientation (phi1, PHI, phi2 in radians)\n",
    "# Column 7:     Misorientation Angle\n",
    "# Column 8-10:  Misorientation Axis in Right Hand grain\n",
    "# Column 11-13: Misorientation Axis in Left Hand grain\n",
    "# Column 14:    length (in microns)\n",
    "# Column 15:    trace angle (in degrees)\n",
    "# Column 16-19: x,y coordinates of endpoints (in microns)\n",
    "# Column 20-21: IDs of right hand and left hand grains\n",
    "\n",
    "'''\n",
    "\n",
    "\n",
    "df = pd.DataFrame(  data = sample, \n",
    "                    columns = [\"right_phi1\",\"right_PHI\",\"right_phi2\",                 #1-3\n",
    "                               \"left_phi1\",\"left_PHI\",\"left_phi2\",                    #4-6 \n",
    "                               \"ori_angle\",                                           #7\n",
    "                               \"right_ori_x\",\"right_ori_y\",\"right_ori_z\",              #8-10\n",
    "                               \"left_ori_x\",\"left_ori_y\",\"left_ori_z\",                 #11-13  \n",
    "                               \"length\",                                              #14\n",
    "                               \"trace_angle\",                                         #15\n",
    "                               \"x_start\", \"y_start\", \"x_end\", \"y_end\",                #16-19\n",
    "                               \"grain_right\",\"grain_left\"                             #20-21\n",
    "                               ]                    \n",
    "                 )\n"
   ]
  },
  {
   "cell_type": "code",
   "execution_count": 3,
   "id": "93f6c643",
   "metadata": {},
   "outputs": [
    {
     "data": {
      "text/plain": [
       "3        149.0\n",
       "6        216.0\n",
       "7        264.0\n",
       "9        286.0\n",
       "12       381.0\n",
       "         ...  \n",
       "3918    1229.0\n",
       "3926    2569.0\n",
       "3929     291.0\n",
       "3931     495.0\n",
       "3933     604.0\n",
       "Name: grain_right, Length: 250, dtype: float64"
      ]
     },
     "execution_count": 3,
     "metadata": {},
     "output_type": "execute_result"
    }
   ],
   "source": [
    "df.grain_right.drop_duplicates(keep = False)"
   ]
  },
  {
   "cell_type": "markdown",
   "id": "d59bca62",
   "metadata": {},
   "source": [
    "### Select attributes of interest from boundaries\n",
    "\n",
    "The group of information that is directly related to the grain: \n",
    "* Column 1-3:   right hand average orientation (phi1, PHI, phi2 in radians)\n",
    "* Column 4-6:   left hand average orientation (phi1, PHI, phi2 in radians)\n",
    "* Column 7:     Misorientation Angle\n",
    "* Column 8-10:  Misorientation Axis in Right Hand grain\n",
    "* Column 11-13: Misorientation Axis in Left Hand grain\n",
    "* Column 20-21: IDs of right hand and left hand grains\n",
    "\n",
    "The Columns 20-21 describe the grain of interest\n",
    "\n",
    "The Columns 1-6 depends on grain itself, **here we are interested**\n",
    "\n",
    "The Columns 7-13 depends on left and right grains"
   ]
  },
  {
   "cell_type": "code",
   "execution_count": 4,
   "id": "7b1419bd",
   "metadata": {},
   "outputs": [],
   "source": [
    "#df_left = df[['ori_angle','left_phi1','left_PHI','left_phi2','left_ori_x','left_ori_y','left_ori_z','grain_left']]\n",
    "#df_right = d|f[['right_phi1','right_PHI','right_phi2','right_ori_x','right_ori_y','right_ori_z','grain_right']]\n",
    "\n",
    "# left_ori is related with other grain, than is not interesting to keep in this case\n",
    "\n",
    "df_left = df[['left_phi1','left_PHI','left_phi2','grain_left']]\n",
    "df_left = df_left.rename(columns={\"grain_left\": \"grain\"})\n",
    "\n",
    "\n",
    "df_right = df[['right_phi1','right_PHI','right_phi2','grain_right']]\n",
    "df_right = df_right.rename(columns={\"grain_right\": \"grain\"})\n"
   ]
  },
  {
   "cell_type": "code",
   "execution_count": 5,
   "id": "6e035e21",
   "metadata": {},
   "outputs": [],
   "source": [
    "df_left = df_left[~df_left.grain.duplicated()].sort_values('grain')\n",
    "df_left = df_left.set_index('grain')\n"
   ]
  },
  {
   "cell_type": "code",
   "execution_count": 6,
   "id": "bbe1bafa",
   "metadata": {},
   "outputs": [],
   "source": [
    "df_right = df_right[~df_right.grain.duplicated()].sort_values('grain')\n",
    "df_right = df_right.set_index('grain')\n"
   ]
  },
  {
   "cell_type": "code",
   "execution_count": 7,
   "id": "48b6ded0",
   "metadata": {},
   "outputs": [],
   "source": [
    "#df_grains = pd.concat([df_left,df_right])\n",
    "df_grains = df_left.join(df_right)\n",
    "df_grains_l = df_left.join(df_right)\n",
    "df_grains_r = df_right.join(df_left)"
   ]
  },
  {
   "cell_type": "code",
   "execution_count": 8,
   "id": "fc902745",
   "metadata": {},
   "outputs": [
    {
     "data": {
      "text/plain": [
       "(left_phi1      0\n",
       " left_PHI       0\n",
       " left_phi2      0\n",
       " right_phi1    51\n",
       " right_PHI     51\n",
       " right_phi2    51\n",
       " dtype: int64,\n",
       " right_phi1     0\n",
       " right_PHI      0\n",
       " right_phi2     0\n",
       " left_phi1     35\n",
       " left_PHI      35\n",
       " left_phi2     35\n",
       " dtype: int64)"
      ]
     },
     "execution_count": 8,
     "metadata": {},
     "output_type": "execute_result"
    }
   ],
   "source": [
    "df_grains_l.isnull().sum(),df_grains_r.isnull().sum()"
   ]
  },
  {
   "cell_type": "code",
   "execution_count": 9,
   "id": "477f7afd",
   "metadata": {},
   "outputs": [
    {
     "data": {
      "text/html": [
       "<div>\n",
       "<style scoped>\n",
       "    .dataframe tbody tr th:only-of-type {\n",
       "        vertical-align: middle;\n",
       "    }\n",
       "\n",
       "    .dataframe tbody tr th {\n",
       "        vertical-align: top;\n",
       "    }\n",
       "\n",
       "    .dataframe thead th {\n",
       "        text-align: right;\n",
       "    }\n",
       "</style>\n",
       "<table border=\"1\" class=\"dataframe\">\n",
       "  <thead>\n",
       "    <tr style=\"text-align: right;\">\n",
       "      <th></th>\n",
       "      <th>left_phi1</th>\n",
       "      <th>left_PHI</th>\n",
       "      <th>left_phi2</th>\n",
       "      <th>right_phi1</th>\n",
       "      <th>right_PHI</th>\n",
       "      <th>right_phi2</th>\n",
       "    </tr>\n",
       "    <tr>\n",
       "      <th>grain</th>\n",
       "      <th></th>\n",
       "      <th></th>\n",
       "      <th></th>\n",
       "      <th></th>\n",
       "      <th></th>\n",
       "      <th></th>\n",
       "    </tr>\n",
       "  </thead>\n",
       "  <tbody>\n",
       "    <tr>\n",
       "      <th>1.0</th>\n",
       "      <td>5.039</td>\n",
       "      <td>0.678</td>\n",
       "      <td>1.946</td>\n",
       "      <td>5.039</td>\n",
       "      <td>0.678</td>\n",
       "      <td>1.946</td>\n",
       "    </tr>\n",
       "    <tr>\n",
       "      <th>2.0</th>\n",
       "      <td>0.241</td>\n",
       "      <td>0.410</td>\n",
       "      <td>6.087</td>\n",
       "      <td>0.241</td>\n",
       "      <td>0.410</td>\n",
       "      <td>6.087</td>\n",
       "    </tr>\n",
       "    <tr>\n",
       "      <th>3.0</th>\n",
       "      <td>0.259</td>\n",
       "      <td>0.637</td>\n",
       "      <td>6.253</td>\n",
       "      <td>0.259</td>\n",
       "      <td>0.637</td>\n",
       "      <td>6.253</td>\n",
       "    </tr>\n",
       "    <tr>\n",
       "      <th>4.0</th>\n",
       "      <td>4.502</td>\n",
       "      <td>0.759</td>\n",
       "      <td>1.253</td>\n",
       "      <td>4.502</td>\n",
       "      <td>0.759</td>\n",
       "      <td>1.253</td>\n",
       "    </tr>\n",
       "    <tr>\n",
       "      <th>5.0</th>\n",
       "      <td>4.443</td>\n",
       "      <td>0.631</td>\n",
       "      <td>1.231</td>\n",
       "      <td>4.443</td>\n",
       "      <td>0.631</td>\n",
       "      <td>1.231</td>\n",
       "    </tr>\n",
       "    <tr>\n",
       "      <th>...</th>\n",
       "      <td>...</td>\n",
       "      <td>...</td>\n",
       "      <td>...</td>\n",
       "      <td>...</td>\n",
       "      <td>...</td>\n",
       "      <td>...</td>\n",
       "    </tr>\n",
       "    <tr>\n",
       "      <th>2785.0</th>\n",
       "      <td>2.677</td>\n",
       "      <td>0.281</td>\n",
       "      <td>3.545</td>\n",
       "      <td>2.677</td>\n",
       "      <td>0.281</td>\n",
       "      <td>3.545</td>\n",
       "    </tr>\n",
       "    <tr>\n",
       "      <th>2786.0</th>\n",
       "      <td>6.142</td>\n",
       "      <td>0.384</td>\n",
       "      <td>0.133</td>\n",
       "      <td>6.142</td>\n",
       "      <td>0.384</td>\n",
       "      <td>0.133</td>\n",
       "    </tr>\n",
       "    <tr>\n",
       "      <th>2788.0</th>\n",
       "      <td>0.027</td>\n",
       "      <td>0.126</td>\n",
       "      <td>6.158</td>\n",
       "      <td>0.027</td>\n",
       "      <td>0.126</td>\n",
       "      <td>6.158</td>\n",
       "    </tr>\n",
       "    <tr>\n",
       "      <th>2790.0</th>\n",
       "      <td>0.618</td>\n",
       "      <td>0.189</td>\n",
       "      <td>5.739</td>\n",
       "      <td>0.618</td>\n",
       "      <td>0.189</td>\n",
       "      <td>5.739</td>\n",
       "    </tr>\n",
       "    <tr>\n",
       "      <th>2793.0</th>\n",
       "      <td>4.042</td>\n",
       "      <td>0.611</td>\n",
       "      <td>2.868</td>\n",
       "      <td>4.042</td>\n",
       "      <td>0.611</td>\n",
       "      <td>2.868</td>\n",
       "    </tr>\n",
       "  </tbody>\n",
       "</table>\n",
       "<p>1275 rows × 6 columns</p>\n",
       "</div>"
      ],
      "text/plain": [
       "        left_phi1  left_PHI  left_phi2  right_phi1  right_PHI  right_phi2\n",
       "grain                                                                    \n",
       "1.0         5.039     0.678      1.946       5.039      0.678       1.946\n",
       "2.0         0.241     0.410      6.087       0.241      0.410       6.087\n",
       "3.0         0.259     0.637      6.253       0.259      0.637       6.253\n",
       "4.0         4.502     0.759      1.253       4.502      0.759       1.253\n",
       "5.0         4.443     0.631      1.231       4.443      0.631       1.231\n",
       "...           ...       ...        ...         ...        ...         ...\n",
       "2785.0      2.677     0.281      3.545       2.677      0.281       3.545\n",
       "2786.0      6.142     0.384      0.133       6.142      0.384       0.133\n",
       "2788.0      0.027     0.126      6.158       0.027      0.126       6.158\n",
       "2790.0      0.618     0.189      5.739       0.618      0.189       5.739\n",
       "2793.0      4.042     0.611      2.868       4.042      0.611       2.868\n",
       "\n",
       "[1275 rows x 6 columns]"
      ]
     },
     "execution_count": 9,
     "metadata": {},
     "output_type": "execute_result"
    }
   ],
   "source": [
    "df_grains.sort_values('grain')"
   ]
  },
  {
   "cell_type": "code",
   "execution_count": 10,
   "id": "ab3dda57",
   "metadata": {},
   "outputs": [
    {
     "data": {
      "text/plain": [
       "left_phi1      0\n",
       "left_PHI       0\n",
       "left_phi2      0\n",
       "right_phi1    51\n",
       "right_PHI     51\n",
       "right_phi2    51\n",
       "dtype: int64"
      ]
     },
     "execution_count": 10,
     "metadata": {},
     "output_type": "execute_result"
    }
   ],
   "source": [
    "df_grains.isnull().sum()"
   ]
  },
  {
   "cell_type": "markdown",
   "id": "d87e8679",
   "metadata": {},
   "source": [
    "## Fill Grains based on phi1, PHI, and phi2"
   ]
  },
  {
   "cell_type": "code",
   "execution_count": 11,
   "id": "f510b4b0",
   "metadata": {},
   "outputs": [],
   "source": [
    "df_grains_norm = (df_grains - df_grains.min()) / (df_grains.max() - df_grains.min())"
   ]
  },
  {
   "cell_type": "markdown",
   "id": "7810e0e4",
   "metadata": {},
   "source": [
    "The method polygon_fill do not work because it uses the Even–odd rule and fill all closed paths based on directions provided as parameters. As the order or parameters meters and in our case is not ordered, this method is not helpful.\n"
   ]
  },
  {
   "cell_type": "markdown",
   "id": "365f75de",
   "metadata": {},
   "source": [
    "## Flood Fill method"
   ]
  },
  {
   "cell_type": "markdown",
   "id": "d9777316",
   "metadata": {},
   "source": [
    "## Closing opened grains"
   ]
  },
  {
   "cell_type": "markdown",
   "id": "1626f13f",
   "metadata": {},
   "source": [
    "# New Method to draw and fill"
   ]
  },
  {
   "cell_type": "markdown",
   "id": "fd47b895",
   "metadata": {},
   "source": [
    "### Order points in clockwise direction and than draw"
   ]
  },
  {
   "cell_type": "code",
   "execution_count": 12,
   "id": "38f0ecd6",
   "metadata": {},
   "outputs": [],
   "source": [
    "import math\n",
    "\n",
    "origin = [0, 0]\n",
    "refvec = [0, 1]\n",
    "\n",
    "def clockwiseangle_and_distance(point):\n",
    "    # Vector between point and the origin: v = p - o\n",
    "    vector = [point[0]-origin[0], point[1]-origin[1]]\n",
    "    \n",
    "    # Length of vector: ||v||\n",
    "    lenvector = math.hypot(vector[0], vector[1])\n",
    "   \n",
    "    # If length is zero there is no angle\n",
    "    if lenvector == 0:\n",
    "        return -math.pi, 0\n",
    "    # Normalize vector: v/||v||\n",
    "    normalized = [vector[0]/lenvector, vector[1]/lenvector]\n",
    "    dotprod  = normalized[0]*refvec[0] + normalized[1]*refvec[1]     # x1*x2 + y1*y2\n",
    "    diffprod = refvec[1]*normalized[0] - refvec[0]*normalized[1]     # x1*y2 - y1*x2\n",
    "    angle = math.atan2(diffprod, dotprod)\n",
    "    # Negative angles represent counter-clockwise angles so we need to subtract them \n",
    "    # from 2*pi (360 degrees)\n",
    "    if angle < 0:\n",
    "        return 2*math.pi+angle, lenvector\n",
    "    # I return first the angle because that's the primary sorting criterium\n",
    "    # but if two vectors have the same angle then the shorter distance should come first.\n",
    "    return angle, lenvector"
   ]
  },
  {
   "cell_type": "code",
   "execution_count": 17,
   "id": "89020535",
   "metadata": {},
   "outputs": [
    {
     "data": {
      "text/plain": [
       "<matplotlib.image.AxesImage at 0x282391d80>"
      ]
     },
     "execution_count": 17,
     "metadata": {},
     "output_type": "execute_result"
    },
    {
     "data": {
      "image/png": "[encoded data removed]",
      "text/plain": [
       "<Figure size 432x288 with 1 Axes>"
      ]
     },
     "metadata": {
      "needs_background": "light"
     },
     "output_type": "display_data"
    }
   ],
   "source": [
    "\n",
    "\n",
    "width = int(max([max(df.x_end),max(df.x_start)]))+1\n",
    "height = int(max([max(df.y_end),max(df.y_start)]))+1\n",
    "\n",
    "flooded_grains = np.zeros([height, width, 3])\n",
    "overflood = np.sum(flooded_grains==0) * 0.8\n",
    "over = []\n",
    "\n",
    "for grain in df_grains.index:\n",
    "        One_grain = df[(df[\"grain_right\"] == grain) | (df[\"grain_left\"] == grain)]\n",
    "        grain_info = df_grains_norm.loc[grain,:]\n",
    "        np_img = np.zeros([height, width, 3])\n",
    "\n",
    "        #  width = int(max([max(One_grain.x_end),max(One_grain.x_start)]))+1\n",
    "        #  height = int(max([max(One_grain.y_end),max(One_grain.y_start)]))+1\n",
    "\n",
    "        x_center = math.floor(One_grain[['x_start','x_end']].mean().mean())\n",
    "        y_center = math.floor(One_grain[['y_start','y_end']].mean().mean())\n",
    "\n",
    "\n",
    "       # if(x_center < 200 and y_center < 200): \n",
    "        phi1,Phi,phi2 = grain_info[[\"right_phi1\",\"right_PHI\",\"right_phi2\"]]\n",
    "        #    cv2.putText(np_img, text=str(int(grain)), org=(x_center,y_center),fontFace=2, fontScale=0.4, color=(255,255,255), thickness=1)\n",
    "\n",
    "        for idx, row in One_grain.iterrows():\n",
    "\n",
    "            rr,cc,a = draw.line_aa(row.x_start.astype(\"uint16\"),row.y_start.astype(\"uint16\"),row.x_end.astype(\"uint16\"),row.y_end.astype(\"uint16\"))\n",
    "            np_img[cc,rr] = (1,1,1)\n",
    "\n",
    "        mask = flood(np_img, (y_center, x_center,0))\n",
    "        #        print(str(grain) + \" len \"+ str(np.count_nonzero(mask)))\n",
    "        #        print(str(grain) + \" len 0 \"+ str(np.sum(mask==1)))\n",
    "        np_img[np_img[:,:,1] !=0] =  [phi1,Phi,phi2]\n",
    "\n",
    "        if (np.sum(mask==1)<overflood):\n",
    "            flooded_grains[mask[:,:,1] !=0] = [phi1,Phi,phi2]\n",
    "            flooded_grains[np_img[:,:,1] !=0] =  [phi1,Phi,phi2]\n",
    "\n",
    "\n",
    "\n",
    "\n",
    "        else:\n",
    "            over.append(grain)\n",
    "            \n",
    "            One_grain = One_grain[One_grain[\"length\"]>10]\n",
    "\n",
    "            start = pd.DataFrame(columns=[\"x\",\"y\"])\n",
    "            end = pd.DataFrame(columns=[\"x\",\"y\"])\n",
    "            start[[\"x\",\"y\"]] = One_grain[['x_start','y_start']]\n",
    "            end[[\"x\",\"y\"]] = One_grain[['x_end','y_end']]\n",
    "            points = pd.concat([start,end])\n",
    "\n",
    "            p = points.drop_duplicates()\n",
    "            p1 = p.to_numpy()\n",
    "\n",
    "            origin = [x_center,y_center]\n",
    "            sort = sorted(p1, key=clockwiseangle_and_distance)\n",
    "            a = []\n",
    "            for b in sort:\n",
    "                a.append(tuple((int(b[0]),int(b[1]))))\n",
    "\n",
    "            cv2.polylines(np_img, np.array([a]), True, (phi1,Phi,phi2), 2)\n",
    "            \n",
    "\n",
    "            mask = flood(np_img, (y_center, x_center,0))\n",
    "            if(np.sum(mask==1)<overflood):\n",
    "#                np_img[mask[:,:,1] !=0] = [phi1,Phi,phi2]\n",
    "#                 cv2.imshow('f',flooded_grains)\n",
    "#                 cv2.waitKey(0)\n",
    "#                 cv2.destroyAllWindows()\n",
    "                \n",
    "                flooded_grains[mask[:,:,1] !=0] = [phi1,Phi,phi2]\n",
    "                flooded_grains[np_img[:,:,1] !=0] =  [phi1,Phi,phi2]\n",
    "\n",
    "\n",
    "        \n",
    "        \n",
    "plt.imshow(flooded_grains)\n",
    "\n"
   ]
  },
  {
   "cell_type": "code",
   "execution_count": 14,
   "id": "209fa380",
   "metadata": {
    "scrolled": true
   },
   "outputs": [
    {
     "ename": "NameError",
     "evalue": "name 'flood_grains' is not defined",
     "output_type": "error",
     "traceback": [
      "\u001b[0;31m---------------------------------------------------------------------------\u001b[0m",
      "\u001b[0;31mNameError\u001b[0m                                 Traceback (most recent call last)",
      "\u001b[0;32m/var/folders/cs/9snn7fmd4sz6wvcngh6vx9cm0000gp/T/ipykernel_3729/996601685.py\u001b[0m in \u001b[0;36m<module>\u001b[0;34m\u001b[0m\n\u001b[0;32m----> 1\u001b[0;31m \u001b[0mplt\u001b[0m\u001b[0;34m.\u001b[0m\u001b[0mimshow\u001b[0m\u001b[0;34m(\u001b[0m\u001b[0mflood_grains\u001b[0m\u001b[0;34m)\u001b[0m\u001b[0;34m\u001b[0m\u001b[0;34m\u001b[0m\u001b[0m\n\u001b[0m",
      "\u001b[0;31mNameError\u001b[0m: name 'flood_grains' is not defined"
     ]
    }
   ],
   "source": [
    "plt.imshow(flooded_grains)"
   ]
  },
  {
   "cell_type": "code",
   "execution_count": null,
   "id": "795ee073",
   "metadata": {},
   "outputs": [],
   "source": [
    "cv2.imshow('f',flood_grains)\n",
    "cv2.waitKey(0)\n",
    "cv2.destroyAllWindows()"
   ]
  },
  {
   "cell_type": "code",
   "execution_count": null,
   "id": "f242f410",
   "metadata": {},
   "outputs": [],
   "source": [
    "width/height"
   ]
  },
  {
   "cell_type": "code",
   "execution_count": null,
   "id": "973943d8",
   "metadata": {},
   "outputs": [],
   "source": [
    "1084/1024"
   ]
  },
  {
   "cell_type": "code",
   "execution_count": null,
   "id": "0b523bc8",
   "metadata": {},
   "outputs": [],
   "source": [
    "sort = sorted(p1, key=clockwiseangle_and_distance)\n",
    "a = []\n",
    "for b in sort:\n",
    "    a.append(tuple((int(b[0]),int(b[1]))))"
   ]
  },
  {
   "cell_type": "code",
   "execution_count": null,
   "id": "8a32459b",
   "metadata": {},
   "outputs": [],
   "source": [
    "# pts = [(50, 50), (300, 190), (400, 10)]\n",
    "# pt = [(1, 1150), (2, 1154), (3, 1194),(1, 1153),(1, 1160), (1, 1173),(1, 1180),(1, 1184), (1, 1188)]\n",
    "# np.shape(pt)"
   ]
  },
  {
   "cell_type": "code",
   "execution_count": null,
   "id": "9530c489",
   "metadata": {
    "scrolled": true
   },
   "outputs": [],
   "source": [
    "One_grain = One_grain[One_grain[\"length\"]>5]"
   ]
  },
  {
   "cell_type": "code",
   "execution_count": null,
   "id": "220e3791",
   "metadata": {},
   "outputs": [],
   "source": [
    "\n",
    "width = int(max([max(df.x_end),max(df.x_start)]))+1\n",
    "height = int(max([max(df.y_end),max(df.y_start)]))+1\n",
    "\n",
    "flood_grains = np.zeros([height, width, 3])\n",
    "overflood = np.sum(flood_grains==0) * 0.8\n",
    "print(overflood)\n",
    "\n",
    "#for grain in over:\n",
    "grain = 273\n",
    "\n",
    "One_grain = df[(df[\"grain_right\"] == grain) | (df[\"grain_left\"] == grain)]\n",
    "\n",
    "One_grain = One_grain[One_grain[\"length\"]>10]\n",
    "\n",
    "grain_info = df_grains_norm.loc[grain,:]\n",
    "np_img = np.zeros([height, width, 3])\n",
    "\n",
    "#  width = int(max([max(One_grain.x_end),max(One_grain.x_start)]))+1\n",
    "#  height = int(max([max(One_grain.y_end),max(One_grain.y_start)]))+1\n",
    "\n",
    "x_center = math.floor(One_grain[['x_start','x_end']].mean().mean())\n",
    "y_center = math.floor(One_grain[['y_start','y_end']].mean().mean())\n",
    "\n",
    "\n",
    "# if(x_center < 200 and y_center < 200): \n",
    "phi1,Phi,phi2 = grain_info[[\"right_phi1\",\"right_PHI\",\"right_phi2\"]]\n",
    "#    cv2.putText(np_img, text=str(int(grain)), org=(x_center,y_center),fontFace=2, fontScale=0.4, color=(255,255,255), thickness=1)\n",
    "\n",
    "\n",
    "over.append(grain)\n",
    "\n",
    "start = pd.DataFrame(columns=[\"x\",\"y\"])\n",
    "end = pd.DataFrame(columns=[\"x\",\"y\"])\n",
    "start[[\"x\",\"y\"]] = One_grain[['x_start','y_start']]\n",
    "end[[\"x\",\"y\"]] = One_grain[['x_end','y_end']]\n",
    "points = pd.concat([start,end])\n",
    "\n",
    "p = points.drop_duplicates()\n",
    "p1 = p.to_numpy()\n",
    "\n",
    "origin = [x_center,y_center]\n",
    "sort = sorted(p1, key=clockwiseangle_and_distance)\n",
    "a = []\n",
    "for b in sort:\n",
    "    a.append(tuple((int(b[0]),int(b[1]))))\n",
    "\n",
    "cv2.polylines(np_img, np.array([a]), True, (255,255,255), 2)\n",
    "\n",
    "mask = flood(np_img, (y_center, x_center,0))\n",
    "#     cv2.imshow('f',np_img)\n",
    "#     cv2.waitKey(0)\n",
    "#     cv2.destroyAllWindows()\n",
    "np_img[mask[:,:,1] !=0] = [phi1,Phi,phi2]\n",
    "flood_grains += np_img\n",
    "\n",
    "\n",
    "plt.imshow(flood_grains)#[340:400,1050:1150])\n",
    "\n",
    "\n",
    "\n"
   ]
  },
  {
   "cell_type": "code",
   "execution_count": null,
   "id": "61501dc7",
   "metadata": {},
   "outputs": [],
   "source": [
    "grain = 273\n",
    "width = int(max([max(df.x_end),max(df.x_start)]))+1\n",
    "height = int(max([max(df.y_end),max(df.y_start)]))+1\n",
    "np_img = np.zeros([height, width, 3])\n",
    "\n",
    "One_grain = df[(df[\"grain_right\"] == grain) | (df[\"grain_left\"] == grain)]\n",
    "\n",
    "for idx, row in One_grain[[\"x_start\",\"y_start\",\"x_end\",\"y_end\"]].astype('int32').iterrows():\n",
    "    rr,cc = draw.line(row.x_start,row.y_start,row.x_end,row.y_end)\n",
    "\n",
    "    np_img[cc,rr] = (255,255,255)"
   ]
  },
  {
   "cell_type": "code",
   "execution_count": null,
   "id": "7ee730a1",
   "metadata": {},
   "outputs": [],
   "source": [
    "plt.imshow(np_img)"
   ]
  },
  {
   "cell_type": "code",
   "execution_count": null,
   "id": "4a445f7c",
   "metadata": {},
   "outputs": [],
   "source": []
  }
 ],
 "metadata": {
  "kernelspec": {
   "display_name": "Python 3 (ipykernel)",
   "language": "python",
   "name": "python3"
  },
  "language_info": {
   "codemirror_mode": {
    "name": "ipython",
    "version": 3
   },
   "file_extension": ".py",
   "mimetype": "text/x-python",
   "name": "python",
   "nbconvert_exporter": "python",
   "pygments_lexer": "ipython3",
   "version": "3.10.4"
  }
 },
 "nbformat": 4,
 "nbformat_minor": 5
}
