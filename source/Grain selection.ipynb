{
 "cells": [
  {
   "cell_type": "markdown",
   "id": "a8c8c1bc",
   "metadata": {},
   "source": [
    "# Calculating GB energy from DF"
   ]
  },
  {
   "cell_type": "markdown",
   "id": "7f96c1fc",
   "metadata": {},
   "source": [
    "## Objective\n",
    "\n",
    "(i) Select data from boundaries\n",
    "(ii) Organize it for all grains\n",
    "(iii) Calculate the energy with wield"
   ]
  },
  {
   "cell_type": "markdown",
   "id": "961bc087",
   "metadata": {},
   "source": [
    "## Method\n",
    "\n",
    "    * Open Dataframe\n",
    "    * Select attributes of interest from boundaries\n",
    "    * Create a new DF with grain information\n",
    "    * Convert data to wield\n",
    "    * Run wield for all grains\n",
    "    * Store energy in Dataframe"
   ]
  },
  {
   "cell_type": "code",
   "execution_count": 1,
   "id": "8e745837",
   "metadata": {},
   "outputs": [],
   "source": [
    "import pandas as pd\n",
    "import numpy as np\n",
    "from skimage import draw,io\n",
    "from skimage.segmentation import flood, flood_fill\n",
    "\n",
    "from matplotlib import pyplot as plt\n"
   ]
  },
  {
   "cell_type": "markdown",
   "id": "3a77d4b0",
   "metadata": {},
   "source": [
    "### Open Dataframe\n"
   ]
  },
  {
   "cell_type": "code",
   "execution_count": 2,
   "id": "2b431e03",
   "metadata": {},
   "outputs": [],
   "source": [
    "\n",
    "folder = \"../data/\"\n",
    "file = \"1_005\"\n",
    "path = folder + file\n",
    "\n",
    "#%%\n",
    "\n",
    "sample = np.loadtxt(path+ \".txt\")\n",
    "\n",
    "'''\n",
    "# Column 1-3:   right hand average orientation (phi1, PHI, phi2 in radians)\n",
    "# Column 4-6:   left hand average orientation (phi1, PHI, phi2 in radians)\n",
    "# Column 7:     Misorientation Angle\n",
    "# Column 8-10:  Misorientation Axis in Right Hand grain\n",
    "# Column 11-13: Misorientation Axis in Left Hand grain\n",
    "# Column 14:    length (in microns)\n",
    "# Column 15:    trace angle (in degrees)\n",
    "# Column 16-19: x,y coordinates of endpoints (in microns)\n",
    "# Column 20-21: IDs of right hand and left hand grains\n",
    "\n",
    "'''\n",
    "\n",
    "\n",
    "df = pd.DataFrame(  data = sample, \n",
    "                    columns = [\"right_phi1\",\"right_PHI\",\"right_phi2\",                 #1-3\n",
    "                               \"left_phi1\",\"left_PHI\",\"left_phi2\",                    #4-6 \n",
    "                               \"ori_angle\",                                           #7\n",
    "                               \"right_ori_x\",\"right_ori_y\",\"right_ori_z\",              #8-10\n",
    "                               \"left_ori_x\",\"left_ori_y\",\"left_ori_z\",                 #11-13  \n",
    "                               \"length\",                                              #14\n",
    "                               \"trace_angle\",                                         #15\n",
    "                               \"x_start\", \"y_start\", \"x_end\", \"y_end\",                #16-19\n",
    "                               \"grain_right\",\"grain_left\"                             #20-21\n",
    "                               ]                    \n",
    "                 )\n"
   ]
  },
  {
   "cell_type": "code",
   "execution_count": 3,
   "id": "93f6c643",
   "metadata": {},
   "outputs": [
    {
     "data": {
      "text/plain": [
       "10      1120.0\n",
       "25      2455.0\n",
       "35      3207.0\n",
       "39      3372.0\n",
       "44      3595.0\n",
       "         ...  \n",
       "7311    1901.0\n",
       "7324    2874.0\n",
       "7328    2486.0\n",
       "7330    3008.0\n",
       "7340     130.0\n",
       "Name: grain_right, Length: 420, dtype: float64"
      ]
     },
     "execution_count": 3,
     "metadata": {},
     "output_type": "execute_result"
    }
   ],
   "source": [
    "df.grain_right.drop_duplicates(keep = False)"
   ]
  },
  {
   "cell_type": "markdown",
   "id": "d59bca62",
   "metadata": {},
   "source": [
    "### Select attributes of interest from boundaries\n",
    "\n",
    "The group of information that is directly related to the grain: \n",
    "* Column 1-3:   right hand average orientation (phi1, PHI, phi2 in radians)\n",
    "* Column 4-6:   left hand average orientation (phi1, PHI, phi2 in radians)\n",
    "* Column 7:     Misorientation Angle\n",
    "* Column 8-10:  Misorientation Axis in Right Hand grain\n",
    "* Column 11-13: Misorientation Axis in Left Hand grain\n",
    "* Column 20-21: IDs of right hand and left hand grains\n",
    "\n",
    "The Columns 20-21 describe the grain of interest\n",
    "\n",
    "The Columns 1-6 depends on grain itself, **here we are interested**\n",
    "\n",
    "The Columns 7-13 depends on left and right grains"
   ]
  },
  {
   "cell_type": "code",
   "execution_count": 4,
   "id": "7b1419bd",
   "metadata": {},
   "outputs": [],
   "source": [
    "#df_left = df[['ori_angle','left_phi1','left_PHI','left_phi2','left_ori_x','left_ori_y','left_ori_z','grain_left']]\n",
    "#df_right = df[['right_phi1','right_PHI','right_phi2','right_ori_x','right_ori_y','right_ori_z','grain_right']]\n",
    "\n",
    "# left_ori is related with other grain, than is not interesting to keep in this case\n",
    "\n",
    "df_left = df[['left_phi1','left_PHI','left_phi2','grain_left']]\n",
    "df_left = df_left.rename(columns={\"grain_left\": \"grain\"})\n",
    "\n",
    "\n",
    "df_right = df[['right_phi1','right_PHI','right_phi2','grain_right']]\n",
    "df_right = df_right.rename(columns={\"grain_right\": \"grain\"})\n"
   ]
  },
  {
   "cell_type": "code",
   "execution_count": 5,
   "id": "6e035e21",
   "metadata": {},
   "outputs": [],
   "source": [
    "df_left = df_left[~df_left.grain.duplicated()].sort_values('grain')\n",
    "df_left = df_left.set_index('grain')\n"
   ]
  },
  {
   "cell_type": "code",
   "execution_count": 6,
   "id": "bbe1bafa",
   "metadata": {},
   "outputs": [],
   "source": [
    "df_right = df_right[~df_right.grain.duplicated()].sort_values('grain')\n",
    "df_right = df_right.set_index('grain')\n"
   ]
  },
  {
   "cell_type": "code",
   "execution_count": 7,
   "id": "48b6ded0",
   "metadata": {},
   "outputs": [],
   "source": [
    "#df_grains = pd.concat([df_left,df_right])\n",
    "df_grains = df_left.join(df_right)\n",
    "df_grains_l = df_left.join(df_right)\n",
    "df_grains_r = df_right.join(df_left)"
   ]
  },
  {
   "cell_type": "code",
   "execution_count": 8,
   "id": "fc902745",
   "metadata": {},
   "outputs": [
    {
     "data": {
      "text/plain": [
       "(left_phi1      0\n",
       " left_PHI       0\n",
       " left_phi2      0\n",
       " right_phi1    67\n",
       " right_PHI     67\n",
       " right_phi2    67\n",
       " dtype: int64,\n",
       " right_phi1     0\n",
       " right_PHI      0\n",
       " right_phi2     0\n",
       " left_phi1     34\n",
       " left_PHI      34\n",
       " left_phi2     34\n",
       " dtype: int64)"
      ]
     },
     "execution_count": 8,
     "metadata": {},
     "output_type": "execute_result"
    }
   ],
   "source": [
    "df_grains_l.isnull().sum(),df_grains_r.isnull().sum()"
   ]
  },
  {
   "cell_type": "code",
   "execution_count": 9,
   "id": "477f7afd",
   "metadata": {},
   "outputs": [
    {
     "data": {
      "text/html": [
       "<div>\n",
       "<style scoped>\n",
       "    .dataframe tbody tr th:only-of-type {\n",
       "        vertical-align: middle;\n",
       "    }\n",
       "\n",
       "    .dataframe tbody tr th {\n",
       "        vertical-align: top;\n",
       "    }\n",
       "\n",
       "    .dataframe thead th {\n",
       "        text-align: right;\n",
       "    }\n",
       "</style>\n",
       "<table border=\"1\" class=\"dataframe\">\n",
       "  <thead>\n",
       "    <tr style=\"text-align: right;\">\n",
       "      <th></th>\n",
       "      <th>left_phi1</th>\n",
       "      <th>left_PHI</th>\n",
       "      <th>left_phi2</th>\n",
       "      <th>right_phi1</th>\n",
       "      <th>right_PHI</th>\n",
       "      <th>right_phi2</th>\n",
       "    </tr>\n",
       "    <tr>\n",
       "      <th>grain</th>\n",
       "      <th></th>\n",
       "      <th></th>\n",
       "      <th></th>\n",
       "      <th></th>\n",
       "      <th></th>\n",
       "      <th></th>\n",
       "    </tr>\n",
       "  </thead>\n",
       "  <tbody>\n",
       "    <tr>\n",
       "      <th>1.0</th>\n",
       "      <td>2.108</td>\n",
       "      <td>0.507</td>\n",
       "      <td>4.677</td>\n",
       "      <td>NaN</td>\n",
       "      <td>NaN</td>\n",
       "      <td>NaN</td>\n",
       "    </tr>\n",
       "    <tr>\n",
       "      <th>2.0</th>\n",
       "      <td>3.569</td>\n",
       "      <td>0.749</td>\n",
       "      <td>2.910</td>\n",
       "      <td>3.569</td>\n",
       "      <td>0.749</td>\n",
       "      <td>2.910</td>\n",
       "    </tr>\n",
       "    <tr>\n",
       "      <th>3.0</th>\n",
       "      <td>1.016</td>\n",
       "      <td>0.709</td>\n",
       "      <td>4.944</td>\n",
       "      <td>1.016</td>\n",
       "      <td>0.709</td>\n",
       "      <td>4.944</td>\n",
       "    </tr>\n",
       "    <tr>\n",
       "      <th>4.0</th>\n",
       "      <td>2.562</td>\n",
       "      <td>0.698</td>\n",
       "      <td>3.682</td>\n",
       "      <td>2.562</td>\n",
       "      <td>0.698</td>\n",
       "      <td>3.682</td>\n",
       "    </tr>\n",
       "    <tr>\n",
       "      <th>5.0</th>\n",
       "      <td>5.593</td>\n",
       "      <td>0.898</td>\n",
       "      <td>0.472</td>\n",
       "      <td>5.593</td>\n",
       "      <td>0.898</td>\n",
       "      <td>0.472</td>\n",
       "    </tr>\n",
       "    <tr>\n",
       "      <th>...</th>\n",
       "      <td>...</td>\n",
       "      <td>...</td>\n",
       "      <td>...</td>\n",
       "      <td>...</td>\n",
       "      <td>...</td>\n",
       "      <td>...</td>\n",
       "    </tr>\n",
       "    <tr>\n",
       "      <th>4217.0</th>\n",
       "      <td>3.249</td>\n",
       "      <td>0.193</td>\n",
       "      <td>3.117</td>\n",
       "      <td>3.249</td>\n",
       "      <td>0.193</td>\n",
       "      <td>3.117</td>\n",
       "    </tr>\n",
       "    <tr>\n",
       "      <th>4219.0</th>\n",
       "      <td>1.612</td>\n",
       "      <td>0.626</td>\n",
       "      <td>4.360</td>\n",
       "      <td>NaN</td>\n",
       "      <td>NaN</td>\n",
       "      <td>NaN</td>\n",
       "    </tr>\n",
       "    <tr>\n",
       "      <th>4220.0</th>\n",
       "      <td>1.188</td>\n",
       "      <td>0.543</td>\n",
       "      <td>4.660</td>\n",
       "      <td>1.188</td>\n",
       "      <td>0.543</td>\n",
       "      <td>4.660</td>\n",
       "    </tr>\n",
       "    <tr>\n",
       "      <th>4221.0</th>\n",
       "      <td>2.752</td>\n",
       "      <td>0.404</td>\n",
       "      <td>3.545</td>\n",
       "      <td>2.752</td>\n",
       "      <td>0.404</td>\n",
       "      <td>3.545</td>\n",
       "    </tr>\n",
       "    <tr>\n",
       "      <th>4223.0</th>\n",
       "      <td>5.347</td>\n",
       "      <td>0.361</td>\n",
       "      <td>1.495</td>\n",
       "      <td>NaN</td>\n",
       "      <td>NaN</td>\n",
       "      <td>NaN</td>\n",
       "    </tr>\n",
       "  </tbody>\n",
       "</table>\n",
       "<p>2361 rows × 6 columns</p>\n",
       "</div>"
      ],
      "text/plain": [
       "        left_phi1  left_PHI  left_phi2  right_phi1  right_PHI  right_phi2\n",
       "grain                                                                    \n",
       "1.0         2.108     0.507      4.677         NaN        NaN         NaN\n",
       "2.0         3.569     0.749      2.910       3.569      0.749       2.910\n",
       "3.0         1.016     0.709      4.944       1.016      0.709       4.944\n",
       "4.0         2.562     0.698      3.682       2.562      0.698       3.682\n",
       "5.0         5.593     0.898      0.472       5.593      0.898       0.472\n",
       "...           ...       ...        ...         ...        ...         ...\n",
       "4217.0      3.249     0.193      3.117       3.249      0.193       3.117\n",
       "4219.0      1.612     0.626      4.360         NaN        NaN         NaN\n",
       "4220.0      1.188     0.543      4.660       1.188      0.543       4.660\n",
       "4221.0      2.752     0.404      3.545       2.752      0.404       3.545\n",
       "4223.0      5.347     0.361      1.495         NaN        NaN         NaN\n",
       "\n",
       "[2361 rows x 6 columns]"
      ]
     },
     "execution_count": 9,
     "metadata": {},
     "output_type": "execute_result"
    }
   ],
   "source": [
    "df_grains.sort_values('grain')"
   ]
  },
  {
   "cell_type": "code",
   "execution_count": 10,
   "id": "ab3dda57",
   "metadata": {},
   "outputs": [
    {
     "data": {
      "text/plain": [
       "left_phi1      0\n",
       "left_PHI       0\n",
       "left_phi2      0\n",
       "right_phi1    67\n",
       "right_PHI     67\n",
       "right_phi2    67\n",
       "dtype: int64"
      ]
     },
     "execution_count": 10,
     "metadata": {},
     "output_type": "execute_result"
    }
   ],
   "source": [
    "df_grains.isnull().sum()"
   ]
  },
  {
   "cell_type": "markdown",
   "id": "d87e8679",
   "metadata": {},
   "source": [
    "## Fill Grains based on phi1, PHI, and phi2"
   ]
  },
  {
   "cell_type": "code",
   "execution_count": 11,
   "id": "f510b4b0",
   "metadata": {},
   "outputs": [],
   "source": [
    "df_grains_norm = (df_grains - df_grains.min()) / (df_grains.max() - df_grains.min())"
   ]
  },
  {
   "cell_type": "code",
   "execution_count": null,
   "id": "95dec6a6",
   "metadata": {},
   "outputs": [],
   "source": []
  },
  {
   "cell_type": "code",
   "execution_count": 12,
   "id": "c3095081",
   "metadata": {},
   "outputs": [
    {
     "data": {
      "text/html": [
       "<div>\n",
       "<style scoped>\n",
       "    .dataframe tbody tr th:only-of-type {\n",
       "        vertical-align: middle;\n",
       "    }\n",
       "\n",
       "    .dataframe tbody tr th {\n",
       "        vertical-align: top;\n",
       "    }\n",
       "\n",
       "    .dataframe thead th {\n",
       "        text-align: right;\n",
       "    }\n",
       "</style>\n",
       "<table border=\"1\" class=\"dataframe\">\n",
       "  <thead>\n",
       "    <tr style=\"text-align: right;\">\n",
       "      <th></th>\n",
       "      <th>right_phi1</th>\n",
       "      <th>right_PHI</th>\n",
       "      <th>right_phi2</th>\n",
       "      <th>left_phi1</th>\n",
       "      <th>left_PHI</th>\n",
       "      <th>left_phi2</th>\n",
       "      <th>ori_angle</th>\n",
       "      <th>right_ori_x</th>\n",
       "      <th>right_ori_y</th>\n",
       "      <th>right_ori_z</th>\n",
       "      <th>...</th>\n",
       "      <th>left_ori_y</th>\n",
       "      <th>left_ori_z</th>\n",
       "      <th>length</th>\n",
       "      <th>trace_angle</th>\n",
       "      <th>x_start</th>\n",
       "      <th>y_start</th>\n",
       "      <th>x_end</th>\n",
       "      <th>y_end</th>\n",
       "      <th>grain_right</th>\n",
       "      <th>grain_left</th>\n",
       "    </tr>\n",
       "  </thead>\n",
       "  <tbody>\n",
       "    <tr>\n",
       "      <th>408</th>\n",
       "      <td>1.917</td>\n",
       "      <td>0.639</td>\n",
       "      <td>5.135</td>\n",
       "      <td>6.271</td>\n",
       "      <td>0.745</td>\n",
       "      <td>0.120</td>\n",
       "      <td>51.29</td>\n",
       "      <td>-21.0</td>\n",
       "      <td>-18.0</td>\n",
       "      <td>-5.0</td>\n",
       "      <td>...</td>\n",
       "      <td>-18.0</td>\n",
       "      <td>-5.0</td>\n",
       "      <td>17.243</td>\n",
       "      <td>129.6</td>\n",
       "      <td>29.0</td>\n",
       "      <td>47.92</td>\n",
       "      <td>40.0</td>\n",
       "      <td>61.20</td>\n",
       "      <td>119.0</td>\n",
       "      <td>100.0</td>\n",
       "    </tr>\n",
       "    <tr>\n",
       "      <th>409</th>\n",
       "      <td>6.271</td>\n",
       "      <td>0.745</td>\n",
       "      <td>0.120</td>\n",
       "      <td>0.858</td>\n",
       "      <td>0.219</td>\n",
       "      <td>5.426</td>\n",
       "      <td>36.96</td>\n",
       "      <td>18.0</td>\n",
       "      <td>-6.0</td>\n",
       "      <td>5.0</td>\n",
       "      <td>...</td>\n",
       "      <td>-6.0</td>\n",
       "      <td>5.0</td>\n",
       "      <td>13.614</td>\n",
       "      <td>42.7</td>\n",
       "      <td>29.0</td>\n",
       "      <td>47.92</td>\n",
       "      <td>39.0</td>\n",
       "      <td>38.68</td>\n",
       "      <td>100.0</td>\n",
       "      <td>79.0</td>\n",
       "    </tr>\n",
       "    <tr>\n",
       "      <th>458</th>\n",
       "      <td>3.569</td>\n",
       "      <td>0.749</td>\n",
       "      <td>2.910</td>\n",
       "      <td>6.271</td>\n",
       "      <td>0.745</td>\n",
       "      <td>0.120</td>\n",
       "      <td>12.89</td>\n",
       "      <td>14.0</td>\n",
       "      <td>-22.0</td>\n",
       "      <td>9.0</td>\n",
       "      <td>...</td>\n",
       "      <td>-22.0</td>\n",
       "      <td>9.0</td>\n",
       "      <td>16.042</td>\n",
       "      <td>4.1</td>\n",
       "      <td>39.0</td>\n",
       "      <td>38.68</td>\n",
       "      <td>55.0</td>\n",
       "      <td>37.53</td>\n",
       "      <td>2.0</td>\n",
       "      <td>100.0</td>\n",
       "    </tr>\n",
       "    <tr>\n",
       "      <th>462</th>\n",
       "      <td>6.271</td>\n",
       "      <td>0.745</td>\n",
       "      <td>0.120</td>\n",
       "      <td>3.202</td>\n",
       "      <td>0.343</td>\n",
       "      <td>3.108</td>\n",
       "      <td>28.15</td>\n",
       "      <td>-17.0</td>\n",
       "      <td>0.0</td>\n",
       "      <td>3.0</td>\n",
       "      <td>...</td>\n",
       "      <td>0.0</td>\n",
       "      <td>3.0</td>\n",
       "      <td>27.301</td>\n",
       "      <td>171.5</td>\n",
       "      <td>40.0</td>\n",
       "      <td>61.20</td>\n",
       "      <td>67.0</td>\n",
       "      <td>65.24</td>\n",
       "      <td>100.0</td>\n",
       "      <td>133.0</td>\n",
       "    </tr>\n",
       "    <tr>\n",
       "      <th>463</th>\n",
       "      <td>6.271</td>\n",
       "      <td>0.745</td>\n",
       "      <td>0.120</td>\n",
       "      <td>3.202</td>\n",
       "      <td>0.343</td>\n",
       "      <td>3.108</td>\n",
       "      <td>28.15</td>\n",
       "      <td>-17.0</td>\n",
       "      <td>0.0</td>\n",
       "      <td>3.0</td>\n",
       "      <td>...</td>\n",
       "      <td>0.0</td>\n",
       "      <td>3.0</td>\n",
       "      <td>9.165</td>\n",
       "      <td>70.9</td>\n",
       "      <td>67.0</td>\n",
       "      <td>65.24</td>\n",
       "      <td>70.0</td>\n",
       "      <td>56.58</td>\n",
       "      <td>100.0</td>\n",
       "      <td>133.0</td>\n",
       "    </tr>\n",
       "    <tr>\n",
       "      <th>532</th>\n",
       "      <td>6.271</td>\n",
       "      <td>0.745</td>\n",
       "      <td>0.120</td>\n",
       "      <td>2.559</td>\n",
       "      <td>0.670</td>\n",
       "      <td>3.099</td>\n",
       "      <td>40.34</td>\n",
       "      <td>-3.0</td>\n",
       "      <td>12.0</td>\n",
       "      <td>13.0</td>\n",
       "      <td>...</td>\n",
       "      <td>12.0</td>\n",
       "      <td>13.0</td>\n",
       "      <td>11.136</td>\n",
       "      <td>128.9</td>\n",
       "      <td>55.0</td>\n",
       "      <td>37.53</td>\n",
       "      <td>62.0</td>\n",
       "      <td>46.19</td>\n",
       "      <td>100.0</td>\n",
       "      <td>80.0</td>\n",
       "    </tr>\n",
       "    <tr>\n",
       "      <th>566</th>\n",
       "      <td>6.271</td>\n",
       "      <td>0.745</td>\n",
       "      <td>0.120</td>\n",
       "      <td>0.695</td>\n",
       "      <td>0.562</td>\n",
       "      <td>6.276</td>\n",
       "      <td>36.48</td>\n",
       "      <td>7.0</td>\n",
       "      <td>-20.0</td>\n",
       "      <td>-20.0</td>\n",
       "      <td>...</td>\n",
       "      <td>-20.0</td>\n",
       "      <td>-20.0</td>\n",
       "      <td>13.115</td>\n",
       "      <td>127.6</td>\n",
       "      <td>62.0</td>\n",
       "      <td>46.19</td>\n",
       "      <td>70.0</td>\n",
       "      <td>56.58</td>\n",
       "      <td>100.0</td>\n",
       "      <td>103.0</td>\n",
       "    </tr>\n",
       "  </tbody>\n",
       "</table>\n",
       "<p>7 rows × 21 columns</p>\n",
       "</div>"
      ],
      "text/plain": [
       "     right_phi1  right_PHI  right_phi2  left_phi1  left_PHI  left_phi2  \\\n",
       "408       1.917      0.639       5.135      6.271     0.745      0.120   \n",
       "409       6.271      0.745       0.120      0.858     0.219      5.426   \n",
       "458       3.569      0.749       2.910      6.271     0.745      0.120   \n",
       "462       6.271      0.745       0.120      3.202     0.343      3.108   \n",
       "463       6.271      0.745       0.120      3.202     0.343      3.108   \n",
       "532       6.271      0.745       0.120      2.559     0.670      3.099   \n",
       "566       6.271      0.745       0.120      0.695     0.562      6.276   \n",
       "\n",
       "     ori_angle  right_ori_x  right_ori_y  right_ori_z  ...  left_ori_y  \\\n",
       "408      51.29        -21.0        -18.0         -5.0  ...       -18.0   \n",
       "409      36.96         18.0         -6.0          5.0  ...        -6.0   \n",
       "458      12.89         14.0        -22.0          9.0  ...       -22.0   \n",
       "462      28.15        -17.0          0.0          3.0  ...         0.0   \n",
       "463      28.15        -17.0          0.0          3.0  ...         0.0   \n",
       "532      40.34         -3.0         12.0         13.0  ...        12.0   \n",
       "566      36.48          7.0        -20.0        -20.0  ...       -20.0   \n",
       "\n",
       "     left_ori_z  length  trace_angle  x_start  y_start  x_end  y_end  \\\n",
       "408        -5.0  17.243        129.6     29.0    47.92   40.0  61.20   \n",
       "409         5.0  13.614         42.7     29.0    47.92   39.0  38.68   \n",
       "458         9.0  16.042          4.1     39.0    38.68   55.0  37.53   \n",
       "462         3.0  27.301        171.5     40.0    61.20   67.0  65.24   \n",
       "463         3.0   9.165         70.9     67.0    65.24   70.0  56.58   \n",
       "532        13.0  11.136        128.9     55.0    37.53   62.0  46.19   \n",
       "566       -20.0  13.115        127.6     62.0    46.19   70.0  56.58   \n",
       "\n",
       "     grain_right  grain_left  \n",
       "408        119.0       100.0  \n",
       "409        100.0        79.0  \n",
       "458          2.0       100.0  \n",
       "462        100.0       133.0  \n",
       "463        100.0       133.0  \n",
       "532        100.0        80.0  \n",
       "566        100.0       103.0  \n",
       "\n",
       "[7 rows x 21 columns]"
      ]
     },
     "execution_count": 12,
     "metadata": {},
     "output_type": "execute_result"
    }
   ],
   "source": [
    "grain = 100\n",
    "\n",
    "One_grain = df[(df[\"grain_right\"] == grain) | (df[\"grain_left\"] == grain)]\n",
    "One_grain"
   ]
  },
  {
   "cell_type": "code",
   "execution_count": 13,
   "id": "bab2509b",
   "metadata": {},
   "outputs": [
    {
     "data": {
      "text/plain": [
       "left_phi1     0.998248\n",
       "left_PHI      0.719960\n",
       "left_phi2     0.018946\n",
       "right_phi1    0.998248\n",
       "right_PHI     0.719960\n",
       "right_phi2    0.018946\n",
       "Name: 100.0, dtype: float64"
      ]
     },
     "execution_count": 13,
     "metadata": {},
     "output_type": "execute_result"
    }
   ],
   "source": [
    "#del mask\n",
    "grain_info = df_grains_norm.loc[grain,:]\n",
    "grain_info"
   ]
  },
  {
   "cell_type": "code",
   "execution_count": 14,
   "id": "31275ee1",
   "metadata": {},
   "outputs": [
    {
     "data": {
      "text/plain": [
       "(200, 100)"
      ]
     },
     "execution_count": 14,
     "metadata": {},
     "output_type": "execute_result"
    }
   ],
   "source": [
    "\n",
    "width = 200#int(max([max(One_grain.x_end),max(One_grain.x_start)]))+1\n",
    "height = 100#int(max([max(One_grain.y_end),max(One_grain.y_start)]))+1\n",
    "\n",
    "width,height"
   ]
  },
  {
   "cell_type": "code",
   "execution_count": 15,
   "id": "beed1295",
   "metadata": {},
   "outputs": [],
   "source": [
    "x_center = int(One_grain[['x_start','x_end']].mean().mean())\n",
    "y_center = int(One_grain[['y_start','y_end']].mean().mean())"
   ]
  },
  {
   "cell_type": "code",
   "execution_count": 16,
   "id": "6eefaf02",
   "metadata": {},
   "outputs": [
    {
     "data": {
      "text/plain": [
       "409    47.92\n",
       "458    38.68\n",
       "Name: y_start, dtype: float64"
      ]
     },
     "execution_count": 16,
     "metadata": {},
     "output_type": "execute_result"
    }
   ],
   "source": [
    "One_grain.y_start.iloc[1:3]"
   ]
  },
  {
   "cell_type": "markdown",
   "id": "7810e0e4",
   "metadata": {},
   "source": [
    "The method polygon_fill do not work because it uses the Even–odd rule and fill all closed paths based on directions provided as parameters. As the order or parameters meters and in our case is not ordered, this method is not helpful.\n"
   ]
  },
  {
   "cell_type": "markdown",
   "id": "365f75de",
   "metadata": {},
   "source": [
    "## Flood Fill method"
   ]
  },
  {
   "cell_type": "code",
   "execution_count": 17,
   "id": "a975acff",
   "metadata": {},
   "outputs": [
    {
     "data": {
      "text/plain": [
       "408    29.0\n",
       "409    29.0\n",
       "458    39.0\n",
       "462    40.0\n",
       "463    67.0\n",
       "532    55.0\n",
       "566    62.0\n",
       "Name: x_start, dtype: float64"
      ]
     },
     "execution_count": 17,
     "metadata": {},
     "output_type": "execute_result"
    }
   ],
   "source": [
    "One_grain.x_start"
   ]
  },
  {
   "cell_type": "code",
   "execution_count": 18,
   "id": "e4c88fb0",
   "metadata": {},
   "outputs": [
    {
     "data": {
      "text/plain": [
       "<matplotlib.image.AxesImage at 0x7f6d7c7c2d90>"
      ]
     },
     "execution_count": 18,
     "metadata": {},
     "output_type": "execute_result"
    },
    {
     "data": {
      "image/png": "[encoded data removed]",
      "text/plain": [
       "<Figure size 432x288 with 1 Axes>"
      ]
     },
     "metadata": {
      "needs_background": "light"
     },
     "output_type": "display_data"
    }
   ],
   "source": [
    "\n",
    "np_img = np.zeros([height, width, 3])\n",
    "np_img2 = np.zeros([height, width, 3])\n",
    "\n",
    "for idx, row in One_grain.iterrows():\n",
    "    #print(\"%d %d %d %d\\n\" %(row.x_start.astype(\"uint16\"),row.y_start.astype(\"uint16\"),row.x_end.astype(\"uint16\"),row.y_end.astype(\"uint16\")))\n",
    "    \n",
    "    rr,cc,a = draw.line_aa(row.x_start.astype(\"uint16\"),row.y_start.astype(\"uint16\"),row.x_end.astype(\"uint16\"),row.y_end.astype(\"uint16\"))\n",
    "    np_img[cc,rr,:3] = (1,1,1)\n",
    "    \n",
    "#mask = flood_fill(np_img, (50, 52,1), 255 )\n",
    "mask = flood(np_img, (y_center, x_center,0))\n",
    "#np_img = flood_fill(np_img, (50, 52,0), 155 )\n",
    "np.shape(mask[:,:,1])\n",
    "\n",
    "plt.imshow(np_img)"
   ]
  },
  {
   "cell_type": "code",
   "execution_count": 19,
   "id": "f104423e",
   "metadata": {},
   "outputs": [
    {
     "data": {
      "text/plain": [
       "<matplotlib.image.AxesImage at 0x7f6d7a6c7eb0>"
      ]
     },
     "execution_count": 19,
     "metadata": {},
     "output_type": "execute_result"
    },
    {
     "data": {
      "image/png": "[encoded data removed]",
      "text/plain": [
       "<Figure size 432x288 with 1 Axes>"
      ]
     },
     "metadata": {
      "needs_background": "light"
     },
     "output_type": "display_data"
    }
   ],
   "source": [
    "phi1,Phi,phi2 = grain_info[[\"right_phi1\",\"right_PHI\",\"right_phi2\"]]\n",
    "np_img2[mask[:,:,1]] = [phi1,Phi,phi2]\n",
    "np_img2[np_img[:,:,1] !=0] =  [phi1,Phi,phi2]\n",
    "\n",
    "\n",
    "plt.imshow(np_img2)"
   ]
  },
  {
   "cell_type": "code",
   "execution_count": 20,
   "id": "a719e026",
   "metadata": {},
   "outputs": [
    {
     "data": {
      "text/plain": [
       "<matplotlib.image.AxesImage at 0x7f6d7a649640>"
      ]
     },
     "execution_count": 20,
     "metadata": {},
     "output_type": "execute_result"
    },
    {
     "data": {
      "image/png": "[encoded data removed]",
      "text/plain": [
       "<Figure size 432x288 with 1 Axes>"
      ]
     },
     "metadata": {
      "needs_background": "light"
     },
     "output_type": "display_data"
    }
   ],
   "source": [
    "grain = 123\n",
    "\n",
    "One_grain = df[(df[\"grain_right\"] == grain) | (df[\"grain_left\"] == grain)]\n",
    "grain_info = df_grains_norm.loc[grain,:]\n",
    "x_center = int(One_grain[['x_start','x_end']].mean().mean())\n",
    "y_center = int(One_grain[['y_start','y_end']].mean().mean())\n",
    "\n",
    "np_img = np.zeros([height, width, 3])\n",
    "#np_img2 = np.zeros([height, width, 3])\n",
    "\n",
    "for idx, row in One_grain.iterrows():\n",
    "    #print(\"%d %d %d %d\\n\" %(row.x_start.astype(\"uint16\"),row.y_start.astype(\"uint16\"),row.x_end.astype(\"uint16\"),row.y_end.astype(\"uint16\")))\n",
    "    \n",
    "    rr,cc,a = draw.line_aa(row.x_start.astype(\"uint16\"),row.y_start.astype(\"uint16\"),row.x_end.astype(\"uint16\"),row.y_end.astype(\"uint16\"))\n",
    "    np_img[cc,rr,:3] = (1,1,1)\n",
    "    \n",
    "    \n",
    "#mask = flood_fill(np_img, (50, 52,1), 255 )\n",
    "mask = flood(np_img, (y_center, x_center,0))\n",
    "#np_img = flood_fill(np_img, (50, 52,0), 155 )\n",
    "np.shape(mask[:,:,1])\n",
    "\n",
    "plt.imshow(np_img)"
   ]
  },
  {
   "cell_type": "code",
   "execution_count": 21,
   "id": "27438adc",
   "metadata": {},
   "outputs": [
    {
     "data": {
      "text/plain": [
       "<matplotlib.image.AxesImage at 0x7f6d7a5a7be0>"
      ]
     },
     "execution_count": 21,
     "metadata": {},
     "output_type": "execute_result"
    },
    {
     "data": {
      "image/png": "[encoded data removed]",
      "text/plain": [
       "<Figure size 432x288 with 1 Axes>"
      ]
     },
     "metadata": {
      "needs_background": "light"
     },
     "output_type": "display_data"
    }
   ],
   "source": [
    "phi1,Phi,phi2 = grain_info[[\"right_phi1\",\"right_PHI\",\"right_phi2\"]]\n",
    "#np_img[np_img[:,:,1] !=0] =  [phi1,Phi,phi2]\n",
    "np_img[mask[:,:,1] !=0] = [phi1,Phi,phi2]\n",
    "np_img2 += np_img\n",
    "\n",
    "\n",
    "plt.imshow(np_img2)"
   ]
  },
  {
   "cell_type": "code",
   "execution_count": 22,
   "id": "5898f143",
   "metadata": {},
   "outputs": [
    {
     "name": "stderr",
     "output_type": "stream",
     "text": [
      "Clipping input data to the valid range for imshow with RGB data ([0..1] for floats or [0..255] for integers).\n"
     ]
    },
    {
     "data": {
      "text/plain": [
       "<matplotlib.image.AxesImage at 0x7f6d7a57cfd0>"
      ]
     },
     "execution_count": 22,
     "metadata": {},
     "output_type": "execute_result"
    },
    {
     "data": {
      "image/png": "[encoded data removed]",
      "text/plain": [
       "<Figure size 432x288 with 1 Axes>"
      ]
     },
     "metadata": {
      "needs_background": "light"
     },
     "output_type": "display_data"
    }
   ],
   "source": [
    "plt.imshow(np_img2+np_img)"
   ]
  },
  {
   "cell_type": "markdown",
   "id": "6bdff59b",
   "metadata": {},
   "source": [
    "Applying to all grains"
   ]
  },
  {
   "cell_type": "code",
   "execution_count": 30,
   "id": "84ff19fc",
   "metadata": {},
   "outputs": [],
   "source": [
    "from IPython.display import set_matplotlib_formats\n",
    "plt.rcParams['figure.dpi'] = 200\n",
    "plt.rcParams['savefig.dpi'] = 200\n",
    "import cv2\n",
    "import time\n",
    "import math\n",
    "\n",
    "\n",
    "\n",
    "df_grains_norm = (df_grains - df_grains.min()) / (df_grains.max() - df_grains.min())\n",
    "\n",
    "width = int(max([max(df.x_end),max(df.x_start)]))+1\n",
    "height = int(max([max(df.y_end),max(df.y_start)]))+1\n",
    "np_img = np.zeros([height, width, 3])\n",
    "flood_grains = np.zeros([height, width, 3])\n",
    "\n",
    "#for idx, row in df.iterrows():\n",
    "#    rr,cc,a = draw.line_aa(row.x_start.astype(\"uint16\"),row.y_start.astype(\"uint16\"),row.x_end.astype(\"uint16\"),row.y_end.astype(\"uint16\"))\n",
    "#    np_img[cc,rr,:3] = (1,1,1)\n",
    "    \n",
    "#plt.imshow(np_img)\n"
   ]
  },
  {
   "cell_type": "code",
   "execution_count": 31,
   "id": "776bfb9f",
   "metadata": {},
   "outputs": [
    {
     "data": {
      "text/plain": [
       "0.0"
      ]
     },
     "execution_count": 31,
     "metadata": {},
     "output_type": "execute_result"
    }
   ],
   "source": [
    "np.average(np_img)\n"
   ]
  },
  {
   "cell_type": "code",
   "execution_count": 32,
   "id": "d56e9dad",
   "metadata": {},
   "outputs": [
    {
     "data": {
      "text/plain": [
       "0.555629713358249"
      ]
     },
     "execution_count": 32,
     "metadata": {},
     "output_type": "execute_result"
    }
   ],
   "source": [
    "np.average([phi1,Phi,phi2])"
   ]
  },
  {
   "cell_type": "code",
   "execution_count": null,
   "id": "42966514",
   "metadata": {},
   "outputs": [],
   "source": []
  },
  {
   "cell_type": "code",
   "execution_count": null,
   "id": "91d1f436",
   "metadata": {},
   "outputs": [
    {
     "name": "stdout",
     "output_type": "stream",
     "text": [
      "1.0\n",
      "len\n",
      "18\n",
      "2.0\n",
      "len\n",
      "681\n",
      "3.0\n",
      "len\n",
      "222\n",
      "4.0\n",
      "len\n",
      "534\n",
      "5.0\n",
      "len\n",
      "84\n",
      "6.0\n",
      "len\n",
      "1263\n",
      "7.0\n",
      "len\n",
      "1242\n",
      "10.0\n",
      "len\n",
      "528\n",
      "11.0\n",
      "len\n",
      "72\n",
      "12.0\n",
      "len\n",
      "201\n",
      "14.0\n",
      "len\n",
      "726\n",
      "15.0\n",
      "len\n",
      "447\n",
      "16.0\n",
      "len\n",
      "123\n",
      "17.0\n",
      "len\n",
      "651\n",
      "18.0\n",
      "len\n",
      "303\n",
      "19.0\n",
      "len\n",
      "348\n",
      "21.0\n",
      "len\n",
      "537\n",
      "22.0\n",
      "len\n",
      "198\n",
      "23.0\n",
      "len\n",
      "1314\n",
      "24.0\n",
      "len\n",
      "348\n",
      "25.0\n",
      "len\n",
      "939\n",
      "26.0\n",
      "len\n",
      "54\n",
      "27.0\n",
      "len\n",
      "357\n",
      "28.0\n",
      "len\n",
      "447\n",
      "29.0\n",
      "len\n",
      "1218\n",
      "30.0\n",
      "len\n",
      "927\n",
      "31.0\n",
      "len\n",
      "855\n",
      "32.0\n",
      "len\n",
      "150\n",
      "33.0\n",
      "len\n",
      "882\n",
      "34.0\n",
      "len\n",
      "132\n",
      "35.0\n",
      "len\n",
      "273\n",
      "36.0\n",
      "len\n",
      "240\n",
      "37.0\n",
      "len\n",
      "96\n",
      "38.0\n",
      "len\n",
      "810\n",
      "39.0\n",
      "len\n",
      "576\n",
      "40.0\n",
      "len\n",
      "564\n"
     ]
    }
   ],
   "source": [
    "#%%time\n",
    "\n",
    "for grain in df_grains.index:\n",
    "    One_grain = df[(df[\"grain_right\"] == grain) | (df[\"grain_left\"] == grain)]\n",
    "    grain_info = df_grains_norm.loc[grain,:]\n",
    "    np_img = np.zeros([height, width, 3])\n",
    "\n",
    "  #  width = int(max([max(One_grain.x_end),max(One_grain.x_start)]))+1\n",
    "  #  height = int(max([max(One_grain.y_end),max(One_grain.y_start)]))+1\n",
    "\n",
    "    x_center = math.floor(One_grain[['x_start','x_end']].mean().mean())\n",
    "    y_center = math.floor(One_grain[['y_start','y_end']].mean().mean())\n",
    "\n",
    "\n",
    "    if(x_center <2100 and y_center < 2100):    \n",
    "        phi1,Phi,phi2 = grain_info[[\"right_phi1\",\"right_PHI\",\"right_phi2\"]]\n",
    "        #    cv2.putText(np_img, text=str(int(grain)), org=(x_center,y_center),fontFace=2, fontScale=0.4, color=(255,255,255), thickness=1)\n",
    "    \n",
    "        for idx, row in One_grain.iterrows():\n",
    "            \n",
    "            rr,cc,a = draw.line_aa(row.x_start.astype(\"uint16\"),row.y_start.astype(\"uint16\"),row.x_end.astype(\"uint16\"),row.y_end.astype(\"uint16\"))\n",
    "            np_img[cc,rr] = (1,1,1)\n",
    "        \n",
    "        mask = flood(np_img, (y_center, x_center,0))\n",
    "        print(grain)\n",
    "        print(\"len\")\n",
    "        print(np.count_nonzero(np_img))\n",
    "        \n",
    "        np_img[np_img[:,:,1] !=0] =  [phi1,Phi,phi2]\n",
    "        np_img[mask[:,:,1] !=0] = [phi1,Phi,phi2]\n",
    "#        cv2.imshow('NP',np_img)\n",
    "#        cv2.waitKey(0)\n",
    "#        cv2.destroyAllWindows()\n",
    "        flood_grains += np_img\n",
    "\n",
    "\n",
    "        cv2.imshow('Image',flood_grains)\n",
    "        cv2.waitKey(0)\n",
    "#        cv2.destroyAllWindows()\n",
    "\n",
    "plt.imshow(flood_grains)\n",
    "#io.imsave(\"processing/\"+ file +'.png',np_img)"
   ]
  },
  {
   "cell_type": "code",
   "execution_count": null,
   "id": "4e3dcb7a",
   "metadata": {},
   "outputs": [],
   "source": []
  },
  {
   "cell_type": "code",
   "execution_count": null,
   "id": "22f7ddd8",
   "metadata": {},
   "outputs": [],
   "source": [
    "cv2.imshow('f',flood_grains)\n",
    "cv2.waitKey(0)\n",
    "cv2.destroyAllWindows()"
   ]
  },
  {
   "cell_type": "code",
   "execution_count": null,
   "id": "24fdb8d9",
   "metadata": {},
   "outputs": [],
   "source": [
    "io.imsave(\"processing/\"+ file +'_partial.png',np_img)"
   ]
  },
  {
   "cell_type": "markdown",
   "id": "88645a2b",
   "metadata": {},
   "source": [
    "Some grains are not in the df_grains dataframe."
   ]
  },
  {
   "cell_type": "code",
   "execution_count": null,
   "id": "b2c74ec6",
   "metadata": {},
   "outputs": [],
   "source": [
    "df[df[\"grain_left\"].isnull()]"
   ]
  },
  {
   "cell_type": "code",
   "execution_count": null,
   "id": "f02de5c6",
   "metadata": {},
   "outputs": [],
   "source": [
    "df[\"grain_left\"].unique()"
   ]
  },
  {
   "cell_type": "code",
   "execution_count": null,
   "id": "7f00a8f6",
   "metadata": {},
   "outputs": [],
   "source": [
    "for a in df[\"grain_right\"].unique():\n",
    "    for b in df[\"grain_left\"].unique():\n",
    "        if a == b:\n",
    "          # print(\"right found \" + str(a))\n",
    "            break\n",
    "        if b == df[\"grain_left\"].unique()[-1]:\n",
    "            print(\"right not found \" + str(a))"
   ]
  },
  {
   "cell_type": "code",
   "execution_count": null,
   "id": "fa67474c",
   "metadata": {},
   "outputs": [],
   "source": [
    "for a in df[\"grain_left\"].unique():\n",
    "    for b in df[\"grain_right\"].unique():\n",
    "        if a == b:\n",
    "          # print(\"right found \" + str(a))\n",
    "            break\n",
    "        if b == df[\"grain_right\"].unique()[-1]:\n",
    "            print(\"left not found \" + str(a))"
   ]
  },
  {
   "cell_type": "code",
   "execution_count": null,
   "id": "1040e64c",
   "metadata": {},
   "outputs": [],
   "source": [
    "df"
   ]
  },
  {
   "cell_type": "code",
   "execution_count": null,
   "id": "14393447",
   "metadata": {},
   "outputs": [],
   "source": [
    "len(df_grains.index)"
   ]
  }
 ],
 "metadata": {
  "kernelspec": {
   "display_name": "Python 3 (ipykernel)",
   "language": "python",
   "name": "python3"
  },
  "language_info": {
   "codemirror_mode": {
    "name": "ipython",
    "version": 3
   },
   "file_extension": ".py",
   "mimetype": "text/x-python",
   "name": "python",
   "nbconvert_exporter": "python",
   "pygments_lexer": "ipython3",
   "version": "3.9.12"
  }
 },
 "nbformat": 4,
 "nbformat_minor": 5
}
