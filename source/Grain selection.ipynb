{
 "cells": [
  {
   "cell_type": "markdown",
   "id": "a8c8c1bc",
   "metadata": {},
   "source": [
    "# Calculating GB energy from DF"
   ]
  },
  {
   "cell_type": "markdown",
   "id": "7f96c1fc",
   "metadata": {},
   "source": [
    "## Objective\n",
    "\n",
    "(i) Select data from boundaries\n",
    "(ii) Organize it for all grains\n",
    "(iii) Calculate the energy with wield"
   ]
  },
  {
   "cell_type": "markdown",
   "id": "961bc087",
   "metadata": {},
   "source": [
    "## Method\n",
    "\n",
    "    * Open Dataframe\n",
    "    * Select attributes of interest from boundaries\n",
    "    * Create a new DF with grain information\n",
    "    * Convert data to wield\n",
    "    * Run wield for all grains\n",
    "    * Store energy in Dataframe"
   ]
  },
  {
   "cell_type": "code",
   "execution_count": null,
   "id": "8e745837",
   "metadata": {},
   "outputs": [],
   "source": [
    "import pandas as pd\n",
    "import numpy as np\n",
    "from skimage import draw,io\n",
    "from skimage.segmentation import flood, flood_fill\n",
    "from scipy.spatial import ConvexHull, convex_hull_plot_2d\n",
    "from matplotlib import pyplot as plt\n",
    "from IPython.display import set_matplotlib_formats\n",
    "plt.rcParams['figure.dpi'] = 200\n",
    "plt.rcParams['savefig.dpi'] = 200\n"
   ]
  },
  {
   "cell_type": "markdown",
   "id": "3a77d4b0",
   "metadata": {},
   "source": [
    "### Open Dataframe\n"
   ]
  },
  {
   "cell_type": "code",
   "execution_count": null,
   "id": "2b431e03",
   "metadata": {},
   "outputs": [],
   "source": [
    "\n",
    "folder = \"../data/\"\n",
    "file = \"1_005\"\n",
    "path = folder + file\n",
    "\n",
    "#%%\n",
    "\n",
    "sample = np.loadtxt(path+ \".txt\")\n",
    "\n",
    "'''\n",
    "# Column 1-3:   right hand average orientation (phi1, PHI, phi2 in radians)\n",
    "# Column 4-6:   left hand average orientation (phi1, PHI, phi2 in radians)\n",
    "# Column 7:     Misorientation Angle\n",
    "# Column 8-10:  Misorientation Axis in Right Hand grain\n",
    "# Column 11-13: Misorientation Axis in Left Hand grain\n",
    "# Column 14:    length (in microns)\n",
    "# Column 15:    trace angle (in degrees)\n",
    "# Column 16-19: x,y coordinates of endpoints (in microns)\n",
    "# Column 20-21: IDs of right hand and left hand grains\n",
    "\n",
    "'''\n",
    "\n",
    "\n",
    "df = pd.DataFrame(  data = sample, \n",
    "                    columns = [\"right_phi1\",\"right_PHI\",\"right_phi2\",                 #1-3\n",
    "                               \"left_phi1\",\"left_PHI\",\"left_phi2\",                    #4-6 \n",
    "                               \"ori_angle\",                                           #7\n",
    "                               \"right_ori_x\",\"right_ori_y\",\"right_ori_z\",              #8-10\n",
    "                               \"left_ori_x\",\"left_ori_y\",\"left_ori_z\",                 #11-13  \n",
    "                               \"length\",                                              #14\n",
    "                               \"trace_angle\",                                         #15\n",
    "                               \"x_start\", \"y_start\", \"x_end\", \"y_end\",                #16-19\n",
    "                               \"grain_right\",\"grain_left\"                             #20-21\n",
    "                               ]                    \n",
    "                 )\n"
   ]
  },
  {
   "cell_type": "code",
   "execution_count": null,
   "id": "93f6c643",
   "metadata": {},
   "outputs": [],
   "source": [
    "df.grain_right.drop_duplicates(keep = False)"
   ]
  },
  {
   "cell_type": "markdown",
   "id": "d59bca62",
   "metadata": {},
   "source": [
    "### Select attributes of interest from boundaries\n",
    "\n",
    "The group of information that is directly related to the grain: \n",
    "* Column 1-3:   right hand average orientation (phi1, PHI, phi2 in radians)\n",
    "* Column 4-6:   left hand average orientation (phi1, PHI, phi2 in radians)\n",
    "* Column 7:     Misorientation Angle\n",
    "* Column 8-10:  Misorientation Axis in Right Hand grain\n",
    "* Column 11-13: Misorientation Axis in Left Hand grain\n",
    "* Column 20-21: IDs of right hand and left hand grains\n",
    "\n",
    "The Columns 20-21 describe the grain of interest\n",
    "\n",
    "The Columns 1-6 depends on grain itself, **here we are interested**\n",
    "\n",
    "The Columns 7-13 depends on left and right grains"
   ]
  },
  {
   "cell_type": "code",
   "execution_count": null,
   "id": "7b1419bd",
   "metadata": {},
   "outputs": [],
   "source": [
    "#df_left = df[['ori_angle','left_phi1','left_PHI','left_phi2','left_ori_x','left_ori_y','left_ori_z','grain_left']]\n",
    "#df_right = d|f[['right_phi1','right_PHI','right_phi2','right_ori_x','right_ori_y','right_ori_z','grain_right']]\n",
    "\n",
    "# left_ori is related with other grain, than is not interesting to keep in this case\n",
    "\n",
    "df_left = df[['left_phi1','left_PHI','left_phi2','grain_left']]\n",
    "df_left = df_left.rename(columns={\"grain_left\": \"grain\"})\n",
    "\n",
    "\n",
    "df_right = df[['right_phi1','right_PHI','right_phi2','grain_right']]\n",
    "df_right = df_right.rename(columns={\"grain_right\": \"grain\"})\n"
   ]
  },
  {
   "cell_type": "code",
   "execution_count": null,
   "id": "6e035e21",
   "metadata": {},
   "outputs": [],
   "source": [
    "df_left = df_left[~df_left.grain.duplicated()].sort_values('grain')\n",
    "df_left = df_left.set_index('grain')\n"
   ]
  },
  {
   "cell_type": "code",
   "execution_count": null,
   "id": "bbe1bafa",
   "metadata": {},
   "outputs": [],
   "source": [
    "df_right = df_right[~df_right.grain.duplicated()].sort_values('grain')\n",
    "df_right = df_right.set_index('grain')\n"
   ]
  },
  {
   "cell_type": "code",
   "execution_count": null,
   "id": "48b6ded0",
   "metadata": {},
   "outputs": [],
   "source": [
    "#df_grains = pd.concat([df_left,df_right])\n",
    "df_grains = df_left.join(df_right)\n",
    "df_grains_l = df_left.join(df_right)\n",
    "df_grains_r = df_right.join(df_left)"
   ]
  },
  {
   "cell_type": "code",
   "execution_count": null,
   "id": "fc902745",
   "metadata": {},
   "outputs": [],
   "source": [
    "df_grains_l.isnull().sum(),df_grains_r.isnull().sum()"
   ]
  },
  {
   "cell_type": "code",
   "execution_count": null,
   "id": "477f7afd",
   "metadata": {},
   "outputs": [],
   "source": [
    "df_grains.sort_values('grain')"
   ]
  },
  {
   "cell_type": "code",
   "execution_count": null,
   "id": "ab3dda57",
   "metadata": {},
   "outputs": [],
   "source": [
    "df_grains.isnull().sum()"
   ]
  },
  {
   "cell_type": "markdown",
   "id": "d87e8679",
   "metadata": {},
   "source": [
    "## Fill Grains based on phi1, PHI, and phi2"
   ]
  },
  {
   "cell_type": "code",
   "execution_count": null,
   "id": "f510b4b0",
   "metadata": {},
   "outputs": [],
   "source": [
    "df_grains_norm = (df_grains - df_grains.min()) / (df_grains.max() - df_grains.min())"
   ]
  },
  {
   "cell_type": "code",
   "execution_count": null,
   "id": "95dec6a6",
   "metadata": {},
   "outputs": [],
   "source": []
  },
  {
   "cell_type": "code",
   "execution_count": null,
   "id": "c3095081",
   "metadata": {},
   "outputs": [],
   "source": [
    "grain = 1512\n",
    "\n",
    "One_grain = df[(df[\"grain_right\"] == grain) | (df[\"grain_left\"] == grain)]\n",
    "One_grain"
   ]
  },
  {
   "cell_type": "code",
   "execution_count": null,
   "id": "bab2509b",
   "metadata": {},
   "outputs": [],
   "source": [
    "#del mask\n",
    "grain_info = df_grains_norm.loc[grain,:]\n",
    "grain_info"
   ]
  },
  {
   "cell_type": "code",
   "execution_count": null,
   "id": "31275ee1",
   "metadata": {},
   "outputs": [],
   "source": [
    "\n",
    "width = int(max([max(One_grain.x_end),max(One_grain.x_start)]))+1\n",
    "height = int(max([max(One_grain.y_end),max(One_grain.y_start)]))+1\n",
    "\n",
    "width,height"
   ]
  },
  {
   "cell_type": "code",
   "execution_count": null,
   "id": "beed1295",
   "metadata": {},
   "outputs": [],
   "source": [
    "x_center = 1000#int(One_grain[['x_start','x_end']].mean().mean())\n",
    "y_center = 300#int(One_grain[['y_start','y_end']].mean().mean())"
   ]
  },
  {
   "cell_type": "code",
   "execution_count": null,
   "id": "6eefaf02",
   "metadata": {},
   "outputs": [],
   "source": [
    "One_grain.y_start.iloc[1:3]"
   ]
  },
  {
   "cell_type": "markdown",
   "id": "7810e0e4",
   "metadata": {},
   "source": [
    "The method polygon_fill do not work because it uses the Even–odd rule and fill all closed paths based on directions provided as parameters. As the order or parameters meters and in our case is not ordered, this method is not helpful.\n"
   ]
  },
  {
   "cell_type": "markdown",
   "id": "365f75de",
   "metadata": {},
   "source": [
    "## Flood Fill method"
   ]
  },
  {
   "cell_type": "code",
   "execution_count": null,
   "id": "a975acff",
   "metadata": {},
   "outputs": [],
   "source": [
    "One_grain.x_start"
   ]
  },
  {
   "cell_type": "code",
   "execution_count": null,
   "id": "e4c88fb0",
   "metadata": {},
   "outputs": [],
   "source": [
    "\n",
    "np_img = np.zeros([height, width, 3])\n",
    "np_img2 = np.zeros([height, width, 3])\n",
    "\n",
    "for idx, row in One_grain.iterrows():\n",
    "    #print(\"%d %d %d %d\\n\" %(row.x_start.astype(\"uint16\"),row.y_start.astype(\"uint16\"),row.x_end.astype(\"uint16\"),row.y_end.astype(\"uint16\")))\n",
    "    \n",
    "    rr,cc,a = draw.line_aa(row.x_start.astype(\"uint16\"),row.y_start.astype(\"uint16\"),row.x_end.astype(\"uint16\"),row.y_end.astype(\"uint16\"))\n",
    "    np_img[cc,rr,:3] = (1,1,1)\n",
    "    \n",
    "#mask = flood_fill(np_img, (50, 52,1), 255 )\n",
    "mask = flood(np_img, (y_center, x_center,0))\n",
    "#np_img = flood_fill(np_img, (50, 52,0), 155 )\n",
    "np.shape(mask[:,:,1])\n",
    "\n",
    "plt.imshow(np_img)"
   ]
  },
  {
   "cell_type": "code",
   "execution_count": null,
   "id": "f104423e",
   "metadata": {},
   "outputs": [],
   "source": [
    "phi1,Phi,phi2 = grain_info[[\"right_phi1\",\"right_PHI\",\"right_phi2\"]]\n",
    "np_img2[mask[:,:,1]] = [phi1,Phi,phi2]\n",
    "np_img2[np_img[:,:,1] !=0] =  [phi1,Phi,phi2]\n",
    "\n",
    "\n",
    "plt.imshow(np_img2)"
   ]
  },
  {
   "cell_type": "code",
   "execution_count": null,
   "id": "a719e026",
   "metadata": {},
   "outputs": [],
   "source": [
    "grain = 1512\n",
    "\n",
    "One_grain = df[(df[\"grain_right\"] == grain) | (df[\"grain_left\"] == grain)]\n",
    "grain_info = df_grains_norm.loc[grain,:]\n",
    "x_center = int(One_grain[['x_start','x_end']].mean().mean())\n",
    "y_center = int(One_grain[['y_start','y_end']].mean().mean())\n",
    "\n",
    "np_img = np.zeros([height, width, 3])\n",
    "#np_img2 = np.zeros([height, width, 3])\n",
    "\n",
    "for idx, row in One_grain.iterrows():\n",
    "    #print(\"%d %d %d %d\\n\" %(row.x_start.astype(\"uint16\"),row.y_start.astype(\"uint16\"),row.x_end.astype(\"uint16\"),row.y_end.astype(\"uint16\")))\n",
    "    \n",
    "    rr,cc,a = draw.line_aa(row.x_start.astype(\"uint16\"),row.y_start.astype(\"uint16\"),row.x_end.astype(\"uint16\"),row.y_end.astype(\"uint16\"))\n",
    "    np_img[cc,rr,:3] = (1,1,1)\n",
    "    \n",
    "    \n",
    "#mask = flood_fill(np_img, (50, 52,1), 255 )\n",
    "mask = flood(np_img, (y_center, x_center,0))\n",
    "#np_img = flood_fill(np_img, (50, 52,0), 155 )\n",
    "np.shape(mask[:,:,1])\n",
    "\n",
    "plt.imshow(np_img)"
   ]
  },
  {
   "cell_type": "code",
   "execution_count": null,
   "id": "27438adc",
   "metadata": {},
   "outputs": [],
   "source": [
    "phi1,Phi,phi2 = grain_info[[\"right_phi1\",\"right_PHI\",\"right_phi2\"]]\n",
    "np_img[np_img[:,:,1] !=0] =  [phi1,Phi,phi2]\n",
    "np_img[mask[:,:,1] !=0] = [phi1,Phi,phi2]\n",
    "np_img2 += np_img"
   ]
  },
  {
   "cell_type": "code",
   "execution_count": null,
   "id": "655c5bee",
   "metadata": {},
   "outputs": [],
   "source": [
    "plt.imshow(np_img)"
   ]
  },
  {
   "cell_type": "code",
   "execution_count": null,
   "id": "5898f143",
   "metadata": {},
   "outputs": [],
   "source": [
    "plt.imshow(np_img2)"
   ]
  },
  {
   "cell_type": "markdown",
   "id": "6bdff59b",
   "metadata": {},
   "source": [
    "Applying to all grains"
   ]
  },
  {
   "cell_type": "code",
   "execution_count": null,
   "id": "84ff19fc",
   "metadata": {},
   "outputs": [],
   "source": [
    "\n",
    "import cv2\n",
    "import time\n",
    "import math\n",
    "\n",
    "\n",
    "\n",
    "df_grains_norm = (df_grains - df_grains.min()) / (df_grains.max() - df_grains.min())\n",
    "\n",
    "width = int(max([max(df.x_end),max(df.x_start)]))+1\n",
    "height = int(max([max(df.y_end),max(df.y_start)]))+1\n",
    "\n",
    "#for idx, row in df.iterrows():\n",
    "#    rr,cc,a = draw.line_aa(row.x_start.astype(\"uint16\"),row.y_start.astype(\"uint16\"),row.x_end.astype(\"uint16\"),row.y_end.astype(\"uint16\"))\n",
    "#    np_img[cc,rr,:3] = (1,1,1)\n",
    "    \n",
    "#plt.imshow(np_img)\n"
   ]
  },
  {
   "cell_type": "code",
   "execution_count": null,
   "id": "e2151a11",
   "metadata": {},
   "outputs": [],
   "source": [
    "from multiprocessing import Process\n",
    " \n",
    "# execute a task\n",
    "def task(grain):\n",
    "    global flood_grains\n",
    "    overflood = np.sum(flood_grains==0) * 0.8\n",
    "    One_grain = df[(df[\"grain_right\"] == grain) | (df[\"grain_left\"] == grain)]\n",
    "    grain_info = df_grains_norm.loc[grain,:]\n",
    "    np_img = np.zeros([height, width, 3])\n",
    "\n",
    "  #  width = int(max([max(One_grain.x_end),max(One_grain.x_start)]))+1\n",
    "  #  height = int(max([max(One_grain.y_end),max(One_grain.y_start)]))+1\n",
    "\n",
    "    x_center = math.floor(One_grain[['x_start','x_end']].mean().mean())\n",
    "    y_center = math.floor(One_grain[['y_start','y_end']].mean().mean())\n",
    "\n",
    "\n",
    "    if(x_center < 200 and y_center < 200):    \n",
    "        phi1,Phi,phi2 = grain_info[[\"right_phi1\",\"right_PHI\",\"right_phi2\"]]\n",
    "        #    cv2.putText(np_img, text=str(int(grain)), org=(x_center,y_center),fontFace=2, fontScale=0.4, color=(255,255,255), thickness=1)\n",
    "    \n",
    "        for idx, row in One_grain.iterrows():\n",
    "            \n",
    "            rr,cc,a = draw.line_aa(row.x_start.astype(\"uint16\"),row.y_start.astype(\"uint16\"),row.x_end.astype(\"uint16\"),row.y_end.astype(\"uint16\"))\n",
    "            np_img[cc,rr] = (1,1,1)\n",
    "        \n",
    "        mask = flood(np_img, (y_center, x_center,0))\n",
    "#        print(str(grain) + \" len \"+ str(np.count_nonzero(mask)))\n",
    "#        print(str(grain) + \" len 0 \"+ str(np.sum(mask==1)))\n",
    "        np_img[np_img[:,:,1] !=0] =  [0,0,0]#[phi1,Phi,phi2]\n",
    "        \n",
    "\n",
    "\n",
    "        if (np.sum(mask==1)<overflood):\n",
    "            np_img[mask[:,:,1] !=0] = [phi1,Phi,phi2]\n",
    "            \n",
    "        else:\n",
    "            start = pd.DataFrame(columns=[\"x\",\"y\"])\n",
    "            end = pd.DataFrame(columns=[\"x\",\"y\"])\n",
    "            start[[\"x\",\"y\"]] = One_grain[['x_start','y_start']]\n",
    "            end[[\"x\",\"y\"]] = One_grain[['x_end','y_end']]\n",
    "            points = pd.concat([start,end])\n",
    "            \n",
    "\n",
    "            \n",
    "            try :\n",
    "                hull = ConvexHull(points)\n",
    "                for idx in range(len(hull.simplices)):\n",
    "                    x_s = hull.points[hull.simplices[idx,0], 0].astype(\"uint16\")\n",
    "                    y_s = hull.points[hull.simplices[idx,0], 1].astype(\"uint16\")\n",
    "                    x_e = hull.points[hull.simplices[idx,1], 0].astype(\"uint16\")\n",
    "                    y_e = hull.points[hull.simplices[idx,1], 1].astype(\"uint16\")\n",
    "\n",
    "                    rr,cc,a = draw.line_aa(x_s,y_s,x_e,y_e)\n",
    "                    \n",
    "                    np_img[cc,rr] = (1,1,1)\n",
    "                    mask = flood(np_img, (y_center, x_center,0))\n",
    "\n",
    "                    np_img[np_img[:,:,1] !=0] =  [0,0,0]\n",
    "                    np_img[mask[:,:,1] !=0] = [phi1,Phi,phi2]\n",
    "            except:\n",
    "#                 print(points)\n",
    "                pass\n",
    "           \n",
    "            \n",
    "\n",
    "            \n",
    "        flood_grains += np_img\n",
    "#         cv2.imshow('NP',flood_grains)\n",
    "#         cv2.waitKey(0)\n",
    "#         cv2.destroyAllWindows()\n",
    "        return np_img\n"
   ]
  },
  {
   "cell_type": "code",
   "execution_count": null,
   "id": "ac405b93",
   "metadata": {},
   "outputs": [],
   "source": [
    "plt.imshow(flood_grains)"
   ]
  },
  {
   "cell_type": "code",
   "execution_count": null,
   "id": "91d1f436",
   "metadata": {},
   "outputs": [],
   "source": [
    "%%time\n",
    "\n",
    "width = int(max([max(df.x_end),max(df.x_start)]))+1\n",
    "height = int(max([max(df.y_end),max(df.y_start)]))+1\n",
    "flood_grains = np.zeros([height, width, 3])\n",
    "overflood = np.sum(flood_grains==0) * 0.8\n",
    "\n",
    "for grain in df_grains.index:\n",
    "    One_grain = df[(df[\"grain_right\"] == grain) | (df[\"grain_left\"] == grain)]\n",
    "    grain_info = df_grains_norm.loc[grain,:]\n",
    "    np_img = np.zeros([height, width, 3])\n",
    "\n",
    "  #  width = int(max([max(One_grain.x_end),max(One_grain.x_start)]))+1\n",
    "  #  height = int(max([max(One_grain.y_end),max(One_grain.y_start)]))+1\n",
    "\n",
    "    x_center = math.floor(One_grain[['x_start','x_end']].mean().mean())\n",
    "    y_center = math.floor(One_grain[['y_start','y_end']].mean().mean())\n",
    "\n",
    "\n",
    "    if(x_center < 200 and y_center < 200): \n",
    "        phi1,Phi,phi2 = grain_info[[\"right_phi1\",\"right_PHI\",\"right_phi2\"]]\n",
    "        #    cv2.putText(np_img, text=str(int(grain)), org=(x_center,y_center),fontFace=2, fontScale=0.4, color=(255,255,255), thickness=1)\n",
    "    \n",
    "        for idx, row in One_grain.iterrows():\n",
    "            \n",
    "            rr,cc,a = draw.line_aa(row.x_start.astype(\"uint16\"),row.y_start.astype(\"uint16\"),row.x_end.astype(\"uint16\"),row.y_end.astype(\"uint16\"))\n",
    "            np_img[cc,rr] = (1,1,1)\n",
    "        \n",
    "        mask = flood(np_img, (y_center, x_center,0))\n",
    "#        print(str(grain) + \" len \"+ str(np.count_nonzero(mask)))\n",
    "#        print(str(grain) + \" len 0 \"+ str(np.sum(mask==1)))\n",
    "        np_img[np_img[:,:,1] !=0] =  [0,0,0]#[phi1,Phi,phi2]\n",
    "        \n",
    "        cv2.imshow('NP',np_img)\n",
    "        cv2.waitKey(0)\n",
    "        cv2.destroyAllWindows()\n",
    "\n",
    "        if (np.sum(mask==1)<overflood):\n",
    "            np_img[mask[:,:,1] !=0] = [phi1,Phi,phi2]\n",
    "            print(\"here\")\n",
    "            flood_grains += np_img\n",
    "            \n",
    "        else:\n",
    "            start = pd.DataFrame(columns=[\"x\",\"y\"])\n",
    "            end = pd.DataFrame(columns=[\"x\",\"y\"])\n",
    "            start[[\"x\",\"y\"]] = One_grain[['x_start','y_start']]\n",
    "            end[[\"x\",\"y\"]] = One_grain[['x_end','y_end']]\n",
    "            points = pd.concat([start,end])\n",
    "            \n",
    "\n",
    "            \n",
    "            try :\n",
    "                hull = ConvexHull(points)\n",
    "                for idx in range(len(hull.simplices)):\n",
    "                    x_s = hull.points[hull.simplices[idx,0], 0].astype(\"uint16\")\n",
    "                    y_s = hull.points[hull.simplices[idx,0], 1].astype(\"uint16\")\n",
    "                    x_e = hull.points[hull.simplices[idx,1], 0].astype(\"uint16\")\n",
    "                    y_e = hull.points[hull.simplices[idx,1], 1].astype(\"uint16\")\n",
    "\n",
    "                    rr,cc,a = draw.line_aa(x_s,y_s,x_e,y_e)\n",
    "                    \n",
    "                    np_img[cc,rr] = (1,1,1)\n",
    "                    mask = flood(np_img, (y_center, x_center,0))\n",
    "\n",
    "                    np_img[np_img[:,:,1] !=0] =  [0,0,0]\n",
    "                    np_img[mask[:,:,1] !=0] = [phi1,Phi,phi2]\n",
    "                    flood_grains += np_img\n",
    "                \n",
    "            except:\n",
    "           #     print(points)\n",
    "                pass\n",
    "           \n",
    "        \n",
    "#             cv2.imshow('Image',np_img)\n",
    "#             cv2.waitKey(0)\n",
    "#             cv2.destroyAllWindows()\n",
    "\n",
    "            \n",
    "        \n",
    "\n",
    "\n",
    "\n",
    "plt.imshow(flood_grains)\n",
    "#io.imsave(\"processing/\"+ file +'.png',np_img)"
   ]
  },
  {
   "cell_type": "code",
   "execution_count": null,
   "id": "37a7e51e",
   "metadata": {},
   "outputs": [],
   "source": [
    "cv2.imshow('F',flood_grains)\n",
    "cv2.waitKey(0)\n",
    "cv2.destroyAllWindows()"
   ]
  },
  {
   "cell_type": "code",
   "execution_count": null,
   "id": "5c3c359d",
   "metadata": {},
   "outputs": [],
   "source": [
    "io.imsave(\"processing/\"+ file +'.png',flood_grains)"
   ]
  },
  {
   "cell_type": "code",
   "execution_count": null,
   "id": "4e3dcb7a",
   "metadata": {},
   "outputs": [],
   "source": [
    "grain = 1512\n",
    "One_grain = df[(df[\"grain_right\"] == grain) | (df[\"grain_left\"] == grain)]\n",
    "\n",
    "\n",
    "width = int(max([max(df.x_end),max(df.x_start)]))+1\n",
    "height = int(max([max(df.y_end),max(df.y_start)]))+1\n",
    "\n",
    "\n",
    "grain_info = df_grains_norm.loc[grain,:]\n",
    "np_img = np.zeros([height, width, 3])\n",
    "\n",
    "\n",
    "x_center = math.floor(One_grain[['x_start','x_end']].mean().mean())\n",
    "y_center = math.floor(One_grain[['y_start','y_end']].mean().mean())\n",
    "\n",
    "\n",
    "if(x_center <2100 and y_center < 2100):    \n",
    "    phi1,Phi,phi2 = grain_info[[\"right_phi1\",\"right_PHI\",\"right_phi2\"]]\n",
    "    #    cv2.putText(np_img, text=str(int(grain)), org=(x_center,y_center),fontFace=2, fontScale=0.4, color=(255,255,255), thickness=1)\n",
    "\n",
    "    start = pd.DataFrame(columns=[\"x\",\"y\"])\n",
    "    end = pd.DataFrame(columns=[\"x\",\"y\"])\n",
    "    start[[\"x\",\"y\"]] = One_grain[['x_start','y_start']]\n",
    "    end[[\"x\",\"y\"]] = One_grain[['x_end','y_end']]\n",
    "    points = pd.concat([start,end])\n",
    "    points.reset_index()\n",
    "\n",
    "\n",
    "\n",
    "    hull = ConvexHull(points)\n",
    "    for idx in range(len(hull.simplices)):\n",
    "        x_s = hull.points[hull.simplices[idx,0], 0].astype(\"uint16\")\n",
    "        y_s = hull.points[hull.simplices[idx,0], 1].astype(\"uint16\")\n",
    "        x_e = hull.points[hull.simplices[idx,1], 0].astype(\"uint16\")\n",
    "        y_e = hull.points[hull.simplices[idx,1], 1].astype(\"uint16\")\n",
    "\n",
    "        rr,cc,a = draw.line_aa(x_s,y_s,x_e,y_e)\n",
    "        np_img[cc,rr] = (1,1,1)\n",
    "\n",
    "    mask = flood(np_img, (y_center, x_center,0))\n",
    "    \n",
    "    np_img[np_img[:,:,1] !=0] =  [phi1,Phi,phi2]\n",
    "    np_img[mask[:,:,1] !=0] = [phi1,Phi,phi2]\n",
    "    \n",
    "plt.imshow(np_img)\n",
    "print(np.sum(mask==1))"
   ]
  },
  {
   "cell_type": "code",
   "execution_count": null,
   "id": "9034b76f",
   "metadata": {},
   "outputs": [],
   "source": [
    "\n",
    "full_img = np_img\n",
    "\n",
    "for idx, row in df.iterrows():\n",
    "    #print(\"%d %d %d %d\\n\" %(row.x_start.astype(\"uint16\"),row.y_start.astype(\"uint16\"),row.x_end.astype(\"uint16\"),row.y_end.astype(\"uint16\")))    \n",
    "    rr,cc= draw.line(row.x_start.astype(\"uint16\"),row.y_start.astype(\"uint16\"),row.x_end.astype(\"uint16\"),row.y_end.astype(\"uint16\"))\n",
    "    full_img[cc,rr,:3] = (1,1,1)\n",
    "\n",
    "plt.imshow(full_img)"
   ]
  },
  {
   "cell_type": "code",
   "execution_count": null,
   "id": "22f7ddd8",
   "metadata": {},
   "outputs": [],
   "source": [
    "cv2.imshow('f',flood_grains)\n",
    "cv2.waitKey(0)\n",
    "cv2.destroyAllWindows()"
   ]
  },
  {
   "cell_type": "code",
   "execution_count": null,
   "id": "24fdb8d9",
   "metadata": {},
   "outputs": [],
   "source": [
    "io.imsave(\"processing/\"+ file +'_partial.png',np_img)"
   ]
  },
  {
   "cell_type": "markdown",
   "id": "88645a2b",
   "metadata": {},
   "source": [
    "Some grains are not in the df_grains dataframe."
   ]
  },
  {
   "cell_type": "code",
   "execution_count": null,
   "id": "b2c74ec6",
   "metadata": {},
   "outputs": [],
   "source": [
    "df[df[\"grain_left\"].isnull()]"
   ]
  },
  {
   "cell_type": "code",
   "execution_count": null,
   "id": "f02de5c6",
   "metadata": {},
   "outputs": [],
   "source": [
    "df[\"grain_left\"].unique()"
   ]
  },
  {
   "cell_type": "code",
   "execution_count": null,
   "id": "7f00a8f6",
   "metadata": {},
   "outputs": [],
   "source": [
    "for a in df[\"grain_right\"].unique():\n",
    "    for b in df[\"grain_left\"].unique():\n",
    "        if a == b:\n",
    "          # print(\"right found \" + str(a))\n",
    "            break\n",
    "        if b == df[\"grain_left\"].unique()[-1]:\n",
    "            print(\"right not found \" + str(a))"
   ]
  },
  {
   "cell_type": "code",
   "execution_count": null,
   "id": "fa67474c",
   "metadata": {},
   "outputs": [],
   "source": [
    "for a in df[\"grain_left\"].unique():\n",
    "    for b in df[\"grain_right\"].unique():\n",
    "        if a == b:\n",
    "          # print(\"right found \" + str(a))\n",
    "            break\n",
    "        if b == df[\"grain_right\"].unique()[-1]:\n",
    "            print(\"left not found \" + str(a))"
   ]
  },
  {
   "cell_type": "markdown",
   "id": "d9777316",
   "metadata": {},
   "source": [
    "## Closing opened grains"
   ]
  },
  {
   "cell_type": "code",
   "execution_count": null,
   "id": "ba084813",
   "metadata": {},
   "outputs": [],
   "source": [
    "\n",
    "grain = 1512\n",
    "\n",
    "\n",
    "One_grain = df[(df[\"grain_right\"] == grain) | (df[\"grain_left\"] == grain)]\n",
    "\n",
    "\n",
    "grain_info = df_grains_norm.loc[grain,:]\n",
    "np_img = np.zeros([height, width, 3])\n",
    "\n",
    "start = pd.DataFrame(columns=[\"x\",\"y\"])\n",
    "end = pd.DataFrame(columns=[\"x\",\"y\"])\n",
    "start[[\"x\",\"y\"]] = One_grain[['x_start','y_start']]\n",
    "end[[\"x\",\"y\"]] = One_grain[['x_end','y_end']]\n",
    "points = pd.concat([start,end])\n",
    "#points.reset_index()\n",
    "\n",
    "    \n",
    "points"
   ]
  },
  {
   "cell_type": "code",
   "execution_count": null,
   "id": "2710583d",
   "metadata": {},
   "outputs": [],
   "source": [
    "One_grain[['x_start','y_start','x_end','y_end']]"
   ]
  },
  {
   "cell_type": "code",
   "execution_count": null,
   "id": "3f937736",
   "metadata": {},
   "outputs": [],
   "source": [
    "points.drop_duplicates(keep=False).astype('int32')"
   ]
  },
  {
   "cell_type": "code",
   "execution_count": null,
   "id": "08e20eba",
   "metadata": {},
   "outputs": [],
   "source": [
    "img = np.zeros([height+1,width+1, 3])\n",
    "\n",
    "#rr,cc = draw.line(int(One_grain.iloc[0].x_start),int(One_grain.iloc[0].y_start),int(One_grain.iloc[-1].x_end),int(One_grain.iloc[-1].y_end))\n",
    "#img[cc,rr] = (255,255,0)\n",
    "    \n",
    "for idx, row in One_grain[[\"x_start\",\"y_start\",\"x_end\",\"y_end\"]].astype('int32').iterrows():\n",
    "    rr,cc = draw.line(row.x_start,row.y_start,row.x_end,row.y_end)\n",
    "\n",
    "    img[cc,rr] = (0,200,0)\n",
    "\n",
    "plt.imshow(img[350:400,1070:1150])  "
   ]
  },
  {
   "cell_type": "code",
   "execution_count": null,
   "id": "f5a20536",
   "metadata": {},
   "outputs": [],
   "source": [
    "\n",
    "\n",
    "width = int(max([max(df.x_end),max(One_grain.x_start)]))+1\n",
    "height = int(max([max(One_grain.y_end),max(One_grain.y_start)]))+1\n",
    "np_img = np.zeros([height, width, 3])\n",
    "\n",
    "hull = ConvexHull(points)\n",
    "for idx in range(len(hull.simplices)):\n",
    "    x_s = hull.points[hull.simplices[idx,0], 0].astype(\"uint16\")\n",
    "    y_s = hull.points[hull.simplices[idx,0], 1].astype(\"uint16\")\n",
    "    x_e = hull.points[hull.simplices[idx,1], 0].astype(\"uint16\")\n",
    "    y_e = hull.points[hull.simplices[idx,1], 1].astype(\"uint16\")\n",
    "    \n",
    "    rr,cc,a = draw.line_aa(x_s,y_s,x_e,y_e)\n",
    "    np_img[cc,rr] = (1,1,1)\n"
   ]
  },
  {
   "cell_type": "code",
   "execution_count": null,
   "id": "2230cbc2",
   "metadata": {},
   "outputs": [],
   "source": [
    "plt.imshow(np_img)"
   ]
  },
  {
   "cell_type": "code",
   "execution_count": null,
   "id": "6a4c0ef8",
   "metadata": {},
   "outputs": [],
   "source": [
    "len(hull.simplices)"
   ]
  },
  {
   "cell_type": "code",
   "execution_count": null,
   "id": "3684a5a6",
   "metadata": {},
   "outputs": [],
   "source": [
    "hull = ConvexHull(points)\n",
    "a = convex_hull_plot_2d(hull)\n",
    "plt.show()\n"
   ]
  },
  {
   "cell_type": "code",
   "execution_count": null,
   "id": "df57d00c",
   "metadata": {},
   "outputs": [],
   "source": [
    "import cv2\n",
    "np_img = np.zeros([50, 50, 3])\n",
    "test = cv2.fillPoly(np_img, pts = [points.values.tolist()], color =(255,255,255))\n",
    "plt.imshow(test)"
   ]
  },
  {
   "cell_type": "code",
   "execution_count": null,
   "id": "4a14edbd",
   "metadata": {},
   "outputs": [],
   "source": [
    "hull.points[hull.simplices[0,1], :] "
   ]
  },
  {
   "cell_type": "markdown",
   "id": "af914038",
   "metadata": {},
   "source": [
    "# New Method to draw and fill"
   ]
  },
  {
   "cell_type": "markdown",
   "id": "fd47b895",
   "metadata": {},
   "source": [
    "### Order points in clockwise direction"
   ]
  },
  {
   "cell_type": "code",
   "execution_count": null,
   "id": "38f0ecd6",
   "metadata": {},
   "outputs": [],
   "source": [
    "import math\n",
    "\n",
    "origin = [0, 0]\n",
    "refvec = [0, 1]\n",
    "\n",
    "def clockwiseangle_and_distance(point):\n",
    "    # Vector between point and the origin: v = p - o\n",
    "    vector = [point[0]-origin[0], point[1]-origin[1]]\n",
    "    \n",
    "    # Length of vector: ||v||\n",
    "    lenvector = math.hypot(vector[0], vector[1])\n",
    "   \n",
    "    # If length is zero there is no angle\n",
    "    if lenvector == 0:\n",
    "        return -math.pi, 0\n",
    "    # Normalize vector: v/||v||\n",
    "    normalized = [vector[0]/lenvector, vector[1]/lenvector]\n",
    "    dotprod  = normalized[0]*refvec[0] + normalized[1]*refvec[1]     # x1*x2 + y1*y2\n",
    "    diffprod = refvec[1]*normalized[0] - refvec[0]*normalized[1]     # x1*y2 - y1*x2\n",
    "    angle = math.atan2(diffprod, dotprod)\n",
    "    # Negative angles represent counter-clockwise angles so we need to subtract them \n",
    "    # from 2*pi (360 degrees)\n",
    "    if angle < 0:\n",
    "        return 2*math.pi+angle, lenvector\n",
    "    # I return first the angle because that's the primary sorting criterium\n",
    "    # but if two vectors have the same angle then the shorter distance should come first.\n",
    "    return angle, lenvector"
   ]
  },
  {
   "cell_type": "code",
   "execution_count": null,
   "id": "b016b539",
   "metadata": {},
   "outputs": [],
   "source": [
    "p1"
   ]
  },
  {
   "cell_type": "code",
   "execution_count": null,
   "id": "654291c1",
   "metadata": {},
   "outputs": [],
   "source": [
    "One_grain"
   ]
  },
  {
   "cell_type": "code",
   "execution_count": null,
   "id": "89020535",
   "metadata": {},
   "outputs": [],
   "source": [
    "\n",
    "\n",
    "width = int(max([max(df.x_end),max(df.x_start)]))+1\n",
    "height = int(max([max(df.y_end),max(df.y_start)]))+1\n",
    "\n",
    "flood_grains = np.zeros([height, width, 3])\n",
    "overflood = np.sum(flood_grains==0) * 0.8\n",
    "print(overflood)\n",
    "\n",
    "\n",
    "#for grain in df_grains.index:\n",
    "grain = 1512\n",
    "One_grain = df[(df[\"grain_right\"] == grain) | (df[\"grain_left\"] == grain)]\n",
    "grain_info = df_grains_norm.loc[grain,:]\n",
    "np_img = np.zeros([height, width, 3])\n",
    "\n",
    "#  width = int(max([max(One_grain.x_end),max(One_grain.x_start)]))+1\n",
    "#  height = int(max([max(One_grain.y_end),max(One_grain.y_start)]))+1\n",
    "\n",
    "x_center = math.floor(One_grain[['x_start','x_end']].mean().mean())\n",
    "y_center = math.floor(One_grain[['y_start','y_end']].mean().mean())\n",
    "\n",
    "\n",
    "if(x_center < 200 and y_center < 200): \n",
    "    phi1,Phi,phi2 = grain_info[[\"right_phi1\",\"right_PHI\",\"right_phi2\"]]\n",
    "    #    cv2.putText(np_img, text=str(int(grain)), org=(x_center,y_center),fontFace=2, fontScale=0.4, color=(255,255,255), thickness=1)\n",
    "\n",
    "    for idx, row in One_grain.iterrows():\n",
    "\n",
    "        rr,cc,a = draw.line_aa(row.x_start.astype(\"uint16\"),row.y_start.astype(\"uint16\"),row.x_end.astype(\"uint16\"),row.y_end.astype(\"uint16\"))\n",
    "        np_img[cc,rr] = (1,1,1)\n",
    "\n",
    "    mask = flood(np_img, (y_center, x_center,0))\n",
    "#        print(str(grain) + \" len \"+ str(np.count_nonzero(mask)))\n",
    "#        print(str(grain) + \" len 0 \"+ str(np.sum(mask==1)))\n",
    "    np_img[np_img[:,:,1] !=0] =  [0,0,0]#[phi1,Phi,phi2]\n",
    "\n",
    "    if (np.sum(mask==1)<overflood):\n",
    "        np_img[mask[:,:,1] !=0] = [phi1,Phi,phi2]\n",
    "       # print(\"Grain\" + str(grain))\n",
    "\n",
    "\n",
    "    else:\n",
    "\n",
    "        start = pd.DataFrame(columns=[\"x\",\"y\"])\n",
    "        end = pd.DataFrame(columns=[\"x\",\"y\"])\n",
    "        start[[\"x\",\"y\"]] = One_grain[['x_start','y_start']]\n",
    "        end[[\"x\",\"y\"]] = One_grain[['x_end','y_end']]\n",
    "        points = pd.concat([start,end])\n",
    "\n",
    "        p = points.drop_duplicates()\n",
    "        p1 = p.to_numpy()\n",
    "\n",
    "        origin = p1[0]\n",
    "        sort = sorted(p1, key=clockwiseangle_and_distance)\n",
    "        a = []\n",
    "        for b in sort:\n",
    "            a.append(tuple((int(b[0]),int(b[1]))))\n",
    "\n",
    "        cv2.polylines(np_img, np.array([a]), True, (255,255,255), 1)\n",
    "\n",
    "        mask = flood(np_img, (y_center, x_center,0))\n",
    "\n",
    "    flood_grains += np_img\n",
    "plt.imshow(np_img)#[340:400,1050:1150])\n",
    "\n",
    "cv2.imshow('f',np_img)\n",
    "cv2.waitKey(0)\n",
    "cv2.destroyAllWindows()"
   ]
  },
  {
   "cell_type": "code",
   "execution_count": null,
   "id": "0b523bc8",
   "metadata": {},
   "outputs": [],
   "source": [
    "sort = sorted(p1, key=clockwiseangle_and_distance)\n",
    "a = []\n",
    "for b in sort:\n",
    "    a.append(tuple((int(b[0]),int(b[1]))))"
   ]
  },
  {
   "cell_type": "code",
   "execution_count": null,
   "id": "8a32459b",
   "metadata": {},
   "outputs": [],
   "source": [
    "# pts = [(50, 50), (300, 190), (400, 10)]\n",
    "# pt = [(1, 1150), (2, 1154), (3, 1194),(1, 1153),(1, 1160), (1, 1173),(1, 1180),(1, 1184), (1, 1188)]\n",
    "# np.shape(pt)"
   ]
  },
  {
   "cell_type": "code",
   "execution_count": null,
   "id": "220e3791",
   "metadata": {},
   "outputs": [],
   "source": [
    "import cv2\n",
    "\n",
    "\n",
    "\n",
    "\n",
    "\n"
   ]
  },
  {
   "cell_type": "code",
   "execution_count": null,
   "id": "04b491ff",
   "metadata": {},
   "outputs": [],
   "source": []
  }
 ],
 "metadata": {
  "kernelspec": {
   "display_name": "Python 3 (ipykernel)",
   "language": "python",
   "name": "python3"
  },
  "language_info": {
   "codemirror_mode": {
    "name": "ipython",
    "version": 3
   },
   "file_extension": ".py",
   "mimetype": "text/x-python",
   "name": "python",
   "nbconvert_exporter": "python",
   "pygments_lexer": "ipython3",
   "version": "3.10.4"
  }
 },
 "nbformat": 4,
 "nbformat_minor": 5
}
