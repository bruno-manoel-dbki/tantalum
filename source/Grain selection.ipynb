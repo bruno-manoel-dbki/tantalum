{
 "cells": [
  {
   "cell_type": "markdown",
   "id": "a8c8c1bc",
   "metadata": {},
   "source": [
    "# Calculating GB energy from DF"
   ]
  },
  {
   "cell_type": "markdown",
   "id": "7f96c1fc",
   "metadata": {},
   "source": [
    "## Objective\n",
    "\n",
    "(i) Select data from boundaries\n",
    "(ii) Organize it for all grains\n",
    "(iii) Calculate the energy with wield"
   ]
  },
  {
   "cell_type": "markdown",
   "id": "961bc087",
   "metadata": {},
   "source": [
    "## Method\n",
    "\n",
    "    * Open Dataframe\n",
    "    * Select attributes of interest from boundaries\n",
    "    * Create a new DF with grain information\n",
    "    * Convert data to wield\n",
    "    * Run wield for all grains\n",
    "    * Store energy in Dataframe"
   ]
  },
  {
   "cell_type": "code",
   "execution_count": 3,
   "id": "8e745837",
   "metadata": {},
   "outputs": [],
   "source": [
    "import pandas as pd\n",
    "import numpy as np\n",
    "from skimage import draw,io\n",
    "from skimage.segmentation import flood, flood_fill\n",
    "\n",
    "from matplotlib import pyplot as plt\n"
   ]
  },
  {
   "cell_type": "markdown",
   "id": "3a77d4b0",
   "metadata": {},
   "source": [
    "### Open Dataframe\n"
   ]
  },
  {
   "cell_type": "code",
   "execution_count": 4,
   "id": "2b431e03",
   "metadata": {},
   "outputs": [],
   "source": [
    "\n",
    "folder = \"../data/\"\n",
    "file = \"1_005\"\n",
    "path = folder + file\n",
    "\n",
    "#%%\n",
    "\n",
    "sample = np.loadtxt(path+ \".txt\")\n",
    "\n",
    "'''\n",
    "# Column 1-3:   right hand average orientation (phi1, PHI, phi2 in radians)\n",
    "# Column 4-6:   left hand average orientation (phi1, PHI, phi2 in radians)\n",
    "# Column 7:     Misorientation Angle\n",
    "# Column 8-10:  Misorientation Axis in Right Hand grain\n",
    "# Column 11-13: Misorientation Axis in Left Hand grain\n",
    "# Column 14:    length (in microns)\n",
    "# Column 15:    trace angle (in degrees)\n",
    "# Column 16-19: x,y coordinates of endpoints (in microns)\n",
    "# Column 20-21: IDs of right hand and left hand grains\n",
    "\n",
    "'''\n",
    "\n",
    "\n",
    "df = pd.DataFrame(  data = sample, \n",
    "                    columns = [\"right_phi1\",\"right_PHI\",\"right_phi2\",                 #1-3\n",
    "                               \"left_phi1\",\"left_PHI\",\"left_phi2\",                    #4-6 \n",
    "                               \"ori_angle\",                                           #7\n",
    "                               \"right_ori_x\",\"right_ori_y\",\"right_ori_z\",              #8-10\n",
    "                               \"left_ori_x\",\"left_ori_y\",\"left_ori_z\",                 #11-13  \n",
    "                               \"length\",                                              #14\n",
    "                               \"trace_angle\",                                         #15\n",
    "                               \"x_start\", \"y_start\", \"x_end\", \"y_end\",                #16-19\n",
    "                               \"grain_right\",\"grain_left\"                             #20-21\n",
    "                               ]                    \n",
    "                 )\n"
   ]
  },
  {
   "cell_type": "code",
   "execution_count": 5,
   "id": "93f6c643",
   "metadata": {},
   "outputs": [
    {
     "data": {
      "text/plain": [
       "10      1120.0\n",
       "25      2455.0\n",
       "35      3207.0\n",
       "39      3372.0\n",
       "44      3595.0\n",
       "         ...  \n",
       "7311    1901.0\n",
       "7324    2874.0\n",
       "7328    2486.0\n",
       "7330    3008.0\n",
       "7340     130.0\n",
       "Name: grain_right, Length: 420, dtype: float64"
      ]
     },
     "execution_count": 5,
     "metadata": {},
     "output_type": "execute_result"
    }
   ],
   "source": [
    "df.grain_right.drop_duplicates(keep = False)"
   ]
  },
  {
   "cell_type": "markdown",
   "id": "d59bca62",
   "metadata": {},
   "source": [
    "### Select attributes of interest from boundaries\n",
    "\n",
    "The group of information that is directly related to the grain: \n",
    "* Column 1-3:   right hand average orientation (phi1, PHI, phi2 in radians)\n",
    "* Column 4-6:   left hand average orientation (phi1, PHI, phi2 in radians)\n",
    "* Column 7:     Misorientation Angle\n",
    "* Column 8-10:  Misorientation Axis in Right Hand grain\n",
    "* Column 11-13: Misorientation Axis in Left Hand grain\n",
    "* Column 20-21: IDs of right hand and left hand grains\n",
    "\n",
    "The Columns 20-21 describe the grain of interest\n",
    "\n",
    "The Columns 1-6 depends on grain itself, **here we are interested**\n",
    "\n",
    "The Columns 7-13 depends on left and right grains"
   ]
  },
  {
   "cell_type": "code",
   "execution_count": 6,
   "id": "7b1419bd",
   "metadata": {},
   "outputs": [],
   "source": [
    "#df_left = df[['ori_angle','left_phi1','left_PHI','left_phi2','left_ori_x','left_ori_y','left_ori_z','grain_left']]\n",
    "#df_right = df[['right_phi1','right_PHI','right_phi2','right_ori_x','right_ori_y','right_ori_z','grain_right']]\n",
    "\n",
    "# left_ori is related with other grain, than is not interesting to keep in this case\n",
    "\n",
    "df_left = df[['left_phi1','left_PHI','left_phi2','grain_left']]\n",
    "df_left = df_left.rename(columns={\"grain_left\": \"grain\"})\n",
    "\n",
    "\n",
    "df_right = df[['right_phi1','right_PHI','right_phi2','grain_right']]\n",
    "df_right = df_right.rename(columns={\"grain_right\": \"grain\"})\n"
   ]
  },
  {
   "cell_type": "code",
   "execution_count": 7,
   "id": "6e035e21",
   "metadata": {},
   "outputs": [],
   "source": [
    "df_left = df_left[~df_left.grain.duplicated()].sort_values('grain')\n",
    "df_left = df_left.set_index('grain')\n"
   ]
  },
  {
   "cell_type": "code",
   "execution_count": 8,
   "id": "bbe1bafa",
   "metadata": {},
   "outputs": [],
   "source": [
    "df_right = df_right[~df_right.grain.duplicated()].sort_values('grain')\n",
    "df_right = df_right.set_index('grain')\n"
   ]
  },
  {
   "cell_type": "code",
   "execution_count": 9,
   "id": "48b6ded0",
   "metadata": {},
   "outputs": [],
   "source": [
    "#df_grains = pd.concat([df_left,df_right])\n",
    "df_grains = df_left.join(df_right)\n",
    "df_grains_l = df_left.join(df_right)\n",
    "df_grains_r = df_right.join(df_left)"
   ]
  },
  {
   "cell_type": "code",
   "execution_count": 10,
   "id": "fc902745",
   "metadata": {},
   "outputs": [
    {
     "data": {
      "text/plain": [
       "(left_phi1      0\n",
       " left_PHI       0\n",
       " left_phi2      0\n",
       " right_phi1    67\n",
       " right_PHI     67\n",
       " right_phi2    67\n",
       " dtype: int64,\n",
       " right_phi1     0\n",
       " right_PHI      0\n",
       " right_phi2     0\n",
       " left_phi1     34\n",
       " left_PHI      34\n",
       " left_phi2     34\n",
       " dtype: int64)"
      ]
     },
     "execution_count": 10,
     "metadata": {},
     "output_type": "execute_result"
    }
   ],
   "source": [
    "df_grains_l.isnull().sum(),df_grains_r.isnull().sum()"
   ]
  },
  {
   "cell_type": "code",
   "execution_count": 11,
   "id": "477f7afd",
   "metadata": {},
   "outputs": [
    {
     "data": {
      "text/html": [
       "<div>\n",
       "<style scoped>\n",
       "    .dataframe tbody tr th:only-of-type {\n",
       "        vertical-align: middle;\n",
       "    }\n",
       "\n",
       "    .dataframe tbody tr th {\n",
       "        vertical-align: top;\n",
       "    }\n",
       "\n",
       "    .dataframe thead th {\n",
       "        text-align: right;\n",
       "    }\n",
       "</style>\n",
       "<table border=\"1\" class=\"dataframe\">\n",
       "  <thead>\n",
       "    <tr style=\"text-align: right;\">\n",
       "      <th></th>\n",
       "      <th>left_phi1</th>\n",
       "      <th>left_PHI</th>\n",
       "      <th>left_phi2</th>\n",
       "      <th>right_phi1</th>\n",
       "      <th>right_PHI</th>\n",
       "      <th>right_phi2</th>\n",
       "    </tr>\n",
       "    <tr>\n",
       "      <th>grain</th>\n",
       "      <th></th>\n",
       "      <th></th>\n",
       "      <th></th>\n",
       "      <th></th>\n",
       "      <th></th>\n",
       "      <th></th>\n",
       "    </tr>\n",
       "  </thead>\n",
       "  <tbody>\n",
       "    <tr>\n",
       "      <th>1.0</th>\n",
       "      <td>2.108</td>\n",
       "      <td>0.507</td>\n",
       "      <td>4.677</td>\n",
       "      <td>NaN</td>\n",
       "      <td>NaN</td>\n",
       "      <td>NaN</td>\n",
       "    </tr>\n",
       "    <tr>\n",
       "      <th>2.0</th>\n",
       "      <td>3.569</td>\n",
       "      <td>0.749</td>\n",
       "      <td>2.910</td>\n",
       "      <td>3.569</td>\n",
       "      <td>0.749</td>\n",
       "      <td>2.910</td>\n",
       "    </tr>\n",
       "    <tr>\n",
       "      <th>3.0</th>\n",
       "      <td>1.016</td>\n",
       "      <td>0.709</td>\n",
       "      <td>4.944</td>\n",
       "      <td>1.016</td>\n",
       "      <td>0.709</td>\n",
       "      <td>4.944</td>\n",
       "    </tr>\n",
       "    <tr>\n",
       "      <th>4.0</th>\n",
       "      <td>2.562</td>\n",
       "      <td>0.698</td>\n",
       "      <td>3.682</td>\n",
       "      <td>2.562</td>\n",
       "      <td>0.698</td>\n",
       "      <td>3.682</td>\n",
       "    </tr>\n",
       "    <tr>\n",
       "      <th>5.0</th>\n",
       "      <td>5.593</td>\n",
       "      <td>0.898</td>\n",
       "      <td>0.472</td>\n",
       "      <td>5.593</td>\n",
       "      <td>0.898</td>\n",
       "      <td>0.472</td>\n",
       "    </tr>\n",
       "    <tr>\n",
       "      <th>...</th>\n",
       "      <td>...</td>\n",
       "      <td>...</td>\n",
       "      <td>...</td>\n",
       "      <td>...</td>\n",
       "      <td>...</td>\n",
       "      <td>...</td>\n",
       "    </tr>\n",
       "    <tr>\n",
       "      <th>4217.0</th>\n",
       "      <td>3.249</td>\n",
       "      <td>0.193</td>\n",
       "      <td>3.117</td>\n",
       "      <td>3.249</td>\n",
       "      <td>0.193</td>\n",
       "      <td>3.117</td>\n",
       "    </tr>\n",
       "    <tr>\n",
       "      <th>4219.0</th>\n",
       "      <td>1.612</td>\n",
       "      <td>0.626</td>\n",
       "      <td>4.360</td>\n",
       "      <td>NaN</td>\n",
       "      <td>NaN</td>\n",
       "      <td>NaN</td>\n",
       "    </tr>\n",
       "    <tr>\n",
       "      <th>4220.0</th>\n",
       "      <td>1.188</td>\n",
       "      <td>0.543</td>\n",
       "      <td>4.660</td>\n",
       "      <td>1.188</td>\n",
       "      <td>0.543</td>\n",
       "      <td>4.660</td>\n",
       "    </tr>\n",
       "    <tr>\n",
       "      <th>4221.0</th>\n",
       "      <td>2.752</td>\n",
       "      <td>0.404</td>\n",
       "      <td>3.545</td>\n",
       "      <td>2.752</td>\n",
       "      <td>0.404</td>\n",
       "      <td>3.545</td>\n",
       "    </tr>\n",
       "    <tr>\n",
       "      <th>4223.0</th>\n",
       "      <td>5.347</td>\n",
       "      <td>0.361</td>\n",
       "      <td>1.495</td>\n",
       "      <td>NaN</td>\n",
       "      <td>NaN</td>\n",
       "      <td>NaN</td>\n",
       "    </tr>\n",
       "  </tbody>\n",
       "</table>\n",
       "<p>2361 rows × 6 columns</p>\n",
       "</div>"
      ],
      "text/plain": [
       "        left_phi1  left_PHI  left_phi2  right_phi1  right_PHI  right_phi2\n",
       "grain                                                                    \n",
       "1.0         2.108     0.507      4.677         NaN        NaN         NaN\n",
       "2.0         3.569     0.749      2.910       3.569      0.749       2.910\n",
       "3.0         1.016     0.709      4.944       1.016      0.709       4.944\n",
       "4.0         2.562     0.698      3.682       2.562      0.698       3.682\n",
       "5.0         5.593     0.898      0.472       5.593      0.898       0.472\n",
       "...           ...       ...        ...         ...        ...         ...\n",
       "4217.0      3.249     0.193      3.117       3.249      0.193       3.117\n",
       "4219.0      1.612     0.626      4.360         NaN        NaN         NaN\n",
       "4220.0      1.188     0.543      4.660       1.188      0.543       4.660\n",
       "4221.0      2.752     0.404      3.545       2.752      0.404       3.545\n",
       "4223.0      5.347     0.361      1.495         NaN        NaN         NaN\n",
       "\n",
       "[2361 rows x 6 columns]"
      ]
     },
     "execution_count": 11,
     "metadata": {},
     "output_type": "execute_result"
    }
   ],
   "source": [
    "df_grains.sort_values('grain')"
   ]
  },
  {
   "cell_type": "code",
   "execution_count": 12,
   "id": "ab3dda57",
   "metadata": {},
   "outputs": [
    {
     "data": {
      "text/plain": [
       "left_phi1      0\n",
       "left_PHI       0\n",
       "left_phi2      0\n",
       "right_phi1    67\n",
       "right_PHI     67\n",
       "right_phi2    67\n",
       "dtype: int64"
      ]
     },
     "execution_count": 12,
     "metadata": {},
     "output_type": "execute_result"
    }
   ],
   "source": [
    "df_grains.isnull().sum()"
   ]
  },
  {
   "cell_type": "markdown",
   "id": "d87e8679",
   "metadata": {},
   "source": [
    "## Fill Grains based on phi1, PHI, and phi2"
   ]
  },
  {
   "cell_type": "code",
   "execution_count": 13,
   "id": "f510b4b0",
   "metadata": {},
   "outputs": [],
   "source": [
    "df_grains_norm = (df_grains - df_grains.min()) / (df_grains.max() - df_grains.min())"
   ]
  },
  {
   "cell_type": "code",
   "execution_count": null,
   "id": "95dec6a6",
   "metadata": {},
   "outputs": [],
   "source": []
  },
  {
   "cell_type": "code",
   "execution_count": 23,
   "id": "c3095081",
   "metadata": {},
   "outputs": [
    {
     "data": {
      "text/html": [
       "<div>\n",
       "<style scoped>\n",
       "    .dataframe tbody tr th:only-of-type {\n",
       "        vertical-align: middle;\n",
       "    }\n",
       "\n",
       "    .dataframe tbody tr th {\n",
       "        vertical-align: top;\n",
       "    }\n",
       "\n",
       "    .dataframe thead th {\n",
       "        text-align: right;\n",
       "    }\n",
       "</style>\n",
       "<table border=\"1\" class=\"dataframe\">\n",
       "  <thead>\n",
       "    <tr style=\"text-align: right;\">\n",
       "      <th></th>\n",
       "      <th>right_phi1</th>\n",
       "      <th>right_PHI</th>\n",
       "      <th>right_phi2</th>\n",
       "      <th>left_phi1</th>\n",
       "      <th>left_PHI</th>\n",
       "      <th>left_phi2</th>\n",
       "      <th>ori_angle</th>\n",
       "      <th>right_ori_x</th>\n",
       "      <th>right_ori_y</th>\n",
       "      <th>right_ori_z</th>\n",
       "      <th>...</th>\n",
       "      <th>left_ori_y</th>\n",
       "      <th>left_ori_z</th>\n",
       "      <th>length</th>\n",
       "      <th>trace_angle</th>\n",
       "      <th>x_start</th>\n",
       "      <th>y_start</th>\n",
       "      <th>x_end</th>\n",
       "      <th>y_end</th>\n",
       "      <th>grain_right</th>\n",
       "      <th>grain_left</th>\n",
       "    </tr>\n",
       "  </thead>\n",
       "  <tbody>\n",
       "    <tr>\n",
       "      <th>5766</th>\n",
       "      <td>3.095</td>\n",
       "      <td>0.064</td>\n",
       "      <td>3.177</td>\n",
       "      <td>4.203</td>\n",
       "      <td>0.598</td>\n",
       "      <td>1.343</td>\n",
       "      <td>53.25</td>\n",
       "      <td>1.0</td>\n",
       "      <td>18.0</td>\n",
       "      <td>22.0</td>\n",
       "      <td>...</td>\n",
       "      <td>18.0</td>\n",
       "      <td>22.0</td>\n",
       "      <td>6.000</td>\n",
       "      <td>120.0</td>\n",
       "      <td>1091.0</td>\n",
       "      <td>373.55</td>\n",
       "      <td>1094.0</td>\n",
       "      <td>378.74</td>\n",
       "      <td>1721.0</td>\n",
       "      <td>1512.0</td>\n",
       "    </tr>\n",
       "    <tr>\n",
       "      <th>5767</th>\n",
       "      <td>4.203</td>\n",
       "      <td>0.598</td>\n",
       "      <td>1.343</td>\n",
       "      <td>4.401</td>\n",
       "      <td>0.759</td>\n",
       "      <td>1.291</td>\n",
       "      <td>13.02</td>\n",
       "      <td>-14.0</td>\n",
       "      <td>11.0</td>\n",
       "      <td>-9.0</td>\n",
       "      <td>...</td>\n",
       "      <td>11.0</td>\n",
       "      <td>-9.0</td>\n",
       "      <td>18.000</td>\n",
       "      <td>60.0</td>\n",
       "      <td>1091.0</td>\n",
       "      <td>373.55</td>\n",
       "      <td>1100.0</td>\n",
       "      <td>357.96</td>\n",
       "      <td>1512.0</td>\n",
       "      <td>1537.0</td>\n",
       "    </tr>\n",
       "    <tr>\n",
       "      <th>5778</th>\n",
       "      <td>4.675</td>\n",
       "      <td>0.693</td>\n",
       "      <td>0.902</td>\n",
       "      <td>4.203</td>\n",
       "      <td>0.598</td>\n",
       "      <td>1.343</td>\n",
       "      <td>17.38</td>\n",
       "      <td>24.0</td>\n",
       "      <td>3.0</td>\n",
       "      <td>-5.0</td>\n",
       "      <td>...</td>\n",
       "      <td>3.0</td>\n",
       "      <td>-5.0</td>\n",
       "      <td>40.596</td>\n",
       "      <td>170.2</td>\n",
       "      <td>1094.0</td>\n",
       "      <td>378.74</td>\n",
       "      <td>1134.0</td>\n",
       "      <td>385.67</td>\n",
       "      <td>1791.0</td>\n",
       "      <td>1512.0</td>\n",
       "    </tr>\n",
       "    <tr>\n",
       "      <th>5779</th>\n",
       "      <td>4.675</td>\n",
       "      <td>0.693</td>\n",
       "      <td>0.902</td>\n",
       "      <td>4.203</td>\n",
       "      <td>0.598</td>\n",
       "      <td>1.343</td>\n",
       "      <td>17.38</td>\n",
       "      <td>24.0</td>\n",
       "      <td>3.0</td>\n",
       "      <td>-5.0</td>\n",
       "      <td>...</td>\n",
       "      <td>3.0</td>\n",
       "      <td>-5.0</td>\n",
       "      <td>15.144</td>\n",
       "      <td>22.4</td>\n",
       "      <td>1134.0</td>\n",
       "      <td>385.67</td>\n",
       "      <td>1148.0</td>\n",
       "      <td>379.90</td>\n",
       "      <td>1791.0</td>\n",
       "      <td>1512.0</td>\n",
       "    </tr>\n",
       "    <tr>\n",
       "      <th>5811</th>\n",
       "      <td>4.203</td>\n",
       "      <td>0.598</td>\n",
       "      <td>1.343</td>\n",
       "      <td>4.766</td>\n",
       "      <td>0.284</td>\n",
       "      <td>1.534</td>\n",
       "      <td>45.95</td>\n",
       "      <td>-6.0</td>\n",
       "      <td>-10.0</td>\n",
       "      <td>-21.0</td>\n",
       "      <td>...</td>\n",
       "      <td>-10.0</td>\n",
       "      <td>-21.0</td>\n",
       "      <td>10.392</td>\n",
       "      <td>30.0</td>\n",
       "      <td>1100.0</td>\n",
       "      <td>357.96</td>\n",
       "      <td>1109.0</td>\n",
       "      <td>352.76</td>\n",
       "      <td>1512.0</td>\n",
       "      <td>1240.0</td>\n",
       "    </tr>\n",
       "    <tr>\n",
       "      <th>5861</th>\n",
       "      <td>4.203</td>\n",
       "      <td>0.598</td>\n",
       "      <td>1.343</td>\n",
       "      <td>3.706</td>\n",
       "      <td>0.245</td>\n",
       "      <td>2.503</td>\n",
       "      <td>45.73</td>\n",
       "      <td>2.0</td>\n",
       "      <td>-11.0</td>\n",
       "      <td>-19.0</td>\n",
       "      <td>...</td>\n",
       "      <td>-11.0</td>\n",
       "      <td>-19.0</td>\n",
       "      <td>1.155</td>\n",
       "      <td>30.0</td>\n",
       "      <td>1109.0</td>\n",
       "      <td>352.76</td>\n",
       "      <td>1110.0</td>\n",
       "      <td>352.18</td>\n",
       "      <td>1512.0</td>\n",
       "      <td>1460.0</td>\n",
       "    </tr>\n",
       "    <tr>\n",
       "      <th>5909</th>\n",
       "      <td>4.203</td>\n",
       "      <td>0.598</td>\n",
       "      <td>1.343</td>\n",
       "      <td>4.345</td>\n",
       "      <td>0.671</td>\n",
       "      <td>1.232</td>\n",
       "      <td>6.37</td>\n",
       "      <td>-26.0</td>\n",
       "      <td>12.0</td>\n",
       "      <td>-1.0</td>\n",
       "      <td>...</td>\n",
       "      <td>12.0</td>\n",
       "      <td>-1.0</td>\n",
       "      <td>3.055</td>\n",
       "      <td>10.9</td>\n",
       "      <td>1122.0</td>\n",
       "      <td>354.49</td>\n",
       "      <td>1125.0</td>\n",
       "      <td>353.92</td>\n",
       "      <td>1512.0</td>\n",
       "      <td>1516.0</td>\n",
       "    </tr>\n",
       "    <tr>\n",
       "      <th>5941</th>\n",
       "      <td>4.179</td>\n",
       "      <td>0.805</td>\n",
       "      <td>2.434</td>\n",
       "      <td>4.203</td>\n",
       "      <td>0.598</td>\n",
       "      <td>1.343</td>\n",
       "      <td>30.92</td>\n",
       "      <td>-7.0</td>\n",
       "      <td>-3.0</td>\n",
       "      <td>-18.0</td>\n",
       "      <td>...</td>\n",
       "      <td>-3.0</td>\n",
       "      <td>-18.0</td>\n",
       "      <td>4.000</td>\n",
       "      <td>180.0</td>\n",
       "      <td>1129.0</td>\n",
       "      <td>353.92</td>\n",
       "      <td>1133.0</td>\n",
       "      <td>353.92</td>\n",
       "      <td>1519.0</td>\n",
       "      <td>1512.0</td>\n",
       "    </tr>\n",
       "    <tr>\n",
       "      <th>5973</th>\n",
       "      <td>3.728</td>\n",
       "      <td>0.134</td>\n",
       "      <td>2.642</td>\n",
       "      <td>4.203</td>\n",
       "      <td>0.598</td>\n",
       "      <td>1.343</td>\n",
       "      <td>49.73</td>\n",
       "      <td>11.0</td>\n",
       "      <td>10.0</td>\n",
       "      <td>-22.0</td>\n",
       "      <td>...</td>\n",
       "      <td>10.0</td>\n",
       "      <td>-22.0</td>\n",
       "      <td>4.000</td>\n",
       "      <td>180.0</td>\n",
       "      <td>1133.0</td>\n",
       "      <td>353.92</td>\n",
       "      <td>1137.0</td>\n",
       "      <td>353.92</td>\n",
       "      <td>1520.0</td>\n",
       "      <td>1512.0</td>\n",
       "    </tr>\n",
       "    <tr>\n",
       "      <th>6018</th>\n",
       "      <td>5.336</td>\n",
       "      <td>0.748</td>\n",
       "      <td>1.376</td>\n",
       "      <td>4.203</td>\n",
       "      <td>0.598</td>\n",
       "      <td>1.343</td>\n",
       "      <td>52.61</td>\n",
       "      <td>15.0</td>\n",
       "      <td>-14.0</td>\n",
       "      <td>-17.0</td>\n",
       "      <td>...</td>\n",
       "      <td>-14.0</td>\n",
       "      <td>-17.0</td>\n",
       "      <td>1.155</td>\n",
       "      <td>150.0</td>\n",
       "      <td>1139.0</td>\n",
       "      <td>353.92</td>\n",
       "      <td>1140.0</td>\n",
       "      <td>354.49</td>\n",
       "      <td>1496.0</td>\n",
       "      <td>1512.0</td>\n",
       "    </tr>\n",
       "    <tr>\n",
       "      <th>6021</th>\n",
       "      <td>4.203</td>\n",
       "      <td>0.598</td>\n",
       "      <td>1.343</td>\n",
       "      <td>3.204</td>\n",
       "      <td>0.760</td>\n",
       "      <td>3.163</td>\n",
       "      <td>47.77</td>\n",
       "      <td>20.0</td>\n",
       "      <td>7.0</td>\n",
       "      <td>18.0</td>\n",
       "      <td>...</td>\n",
       "      <td>7.0</td>\n",
       "      <td>18.0</td>\n",
       "      <td>14.000</td>\n",
       "      <td>120.0</td>\n",
       "      <td>1140.0</td>\n",
       "      <td>354.49</td>\n",
       "      <td>1147.0</td>\n",
       "      <td>366.62</td>\n",
       "      <td>1512.0</td>\n",
       "      <td>1497.0</td>\n",
       "    </tr>\n",
       "    <tr>\n",
       "      <th>6053</th>\n",
       "      <td>4.203</td>\n",
       "      <td>0.598</td>\n",
       "      <td>1.343</td>\n",
       "      <td>0.198</td>\n",
       "      <td>0.486</td>\n",
       "      <td>6.017</td>\n",
       "      <td>53.21</td>\n",
       "      <td>-22.0</td>\n",
       "      <td>21.0</td>\n",
       "      <td>-1.0</td>\n",
       "      <td>...</td>\n",
       "      <td>21.0</td>\n",
       "      <td>-1.0</td>\n",
       "      <td>13.317</td>\n",
       "      <td>94.3</td>\n",
       "      <td>1147.0</td>\n",
       "      <td>366.62</td>\n",
       "      <td>1148.0</td>\n",
       "      <td>379.90</td>\n",
       "      <td>1512.0</td>\n",
       "      <td>1687.0</td>\n",
       "    </tr>\n",
       "  </tbody>\n",
       "</table>\n",
       "<p>12 rows × 21 columns</p>\n",
       "</div>"
      ],
      "text/plain": [
       "      right_phi1  right_PHI  right_phi2  left_phi1  left_PHI  left_phi2  \\\n",
       "5766       3.095      0.064       3.177      4.203     0.598      1.343   \n",
       "5767       4.203      0.598       1.343      4.401     0.759      1.291   \n",
       "5778       4.675      0.693       0.902      4.203     0.598      1.343   \n",
       "5779       4.675      0.693       0.902      4.203     0.598      1.343   \n",
       "5811       4.203      0.598       1.343      4.766     0.284      1.534   \n",
       "5861       4.203      0.598       1.343      3.706     0.245      2.503   \n",
       "5909       4.203      0.598       1.343      4.345     0.671      1.232   \n",
       "5941       4.179      0.805       2.434      4.203     0.598      1.343   \n",
       "5973       3.728      0.134       2.642      4.203     0.598      1.343   \n",
       "6018       5.336      0.748       1.376      4.203     0.598      1.343   \n",
       "6021       4.203      0.598       1.343      3.204     0.760      3.163   \n",
       "6053       4.203      0.598       1.343      0.198     0.486      6.017   \n",
       "\n",
       "      ori_angle  right_ori_x  right_ori_y  right_ori_z  ...  left_ori_y  \\\n",
       "5766      53.25          1.0         18.0         22.0  ...        18.0   \n",
       "5767      13.02        -14.0         11.0         -9.0  ...        11.0   \n",
       "5778      17.38         24.0          3.0         -5.0  ...         3.0   \n",
       "5779      17.38         24.0          3.0         -5.0  ...         3.0   \n",
       "5811      45.95         -6.0        -10.0        -21.0  ...       -10.0   \n",
       "5861      45.73          2.0        -11.0        -19.0  ...       -11.0   \n",
       "5909       6.37        -26.0         12.0         -1.0  ...        12.0   \n",
       "5941      30.92         -7.0         -3.0        -18.0  ...        -3.0   \n",
       "5973      49.73         11.0         10.0        -22.0  ...        10.0   \n",
       "6018      52.61         15.0        -14.0        -17.0  ...       -14.0   \n",
       "6021      47.77         20.0          7.0         18.0  ...         7.0   \n",
       "6053      53.21        -22.0         21.0         -1.0  ...        21.0   \n",
       "\n",
       "      left_ori_z  length  trace_angle  x_start  y_start   x_end   y_end  \\\n",
       "5766        22.0   6.000        120.0   1091.0   373.55  1094.0  378.74   \n",
       "5767        -9.0  18.000         60.0   1091.0   373.55  1100.0  357.96   \n",
       "5778        -5.0  40.596        170.2   1094.0   378.74  1134.0  385.67   \n",
       "5779        -5.0  15.144         22.4   1134.0   385.67  1148.0  379.90   \n",
       "5811       -21.0  10.392         30.0   1100.0   357.96  1109.0  352.76   \n",
       "5861       -19.0   1.155         30.0   1109.0   352.76  1110.0  352.18   \n",
       "5909        -1.0   3.055         10.9   1122.0   354.49  1125.0  353.92   \n",
       "5941       -18.0   4.000        180.0   1129.0   353.92  1133.0  353.92   \n",
       "5973       -22.0   4.000        180.0   1133.0   353.92  1137.0  353.92   \n",
       "6018       -17.0   1.155        150.0   1139.0   353.92  1140.0  354.49   \n",
       "6021        18.0  14.000        120.0   1140.0   354.49  1147.0  366.62   \n",
       "6053        -1.0  13.317         94.3   1147.0   366.62  1148.0  379.90   \n",
       "\n",
       "      grain_right  grain_left  \n",
       "5766       1721.0      1512.0  \n",
       "5767       1512.0      1537.0  \n",
       "5778       1791.0      1512.0  \n",
       "5779       1791.0      1512.0  \n",
       "5811       1512.0      1240.0  \n",
       "5861       1512.0      1460.0  \n",
       "5909       1512.0      1516.0  \n",
       "5941       1519.0      1512.0  \n",
       "5973       1520.0      1512.0  \n",
       "6018       1496.0      1512.0  \n",
       "6021       1512.0      1497.0  \n",
       "6053       1512.0      1687.0  \n",
       "\n",
       "[12 rows x 21 columns]"
      ]
     },
     "execution_count": 23,
     "metadata": {},
     "output_type": "execute_result"
    }
   ],
   "source": [
    "grain = 1512\n",
    "\n",
    "One_grain = df[(df[\"grain_right\"] == grain) | (df[\"grain_left\"] == grain)]\n",
    "One_grain"
   ]
  },
  {
   "cell_type": "code",
   "execution_count": 46,
   "id": "bab2509b",
   "metadata": {},
   "outputs": [
    {
     "data": {
      "text/plain": [
       "left_phi1     0.668896\n",
       "left_PHI      0.573982\n",
       "left_phi2     0.213660\n",
       "right_phi1    0.668896\n",
       "right_PHI     0.573982\n",
       "right_phi2    0.213660\n",
       "Name: 1512.0, dtype: float64"
      ]
     },
     "execution_count": 46,
     "metadata": {},
     "output_type": "execute_result"
    }
   ],
   "source": [
    "#del mask\n",
    "grain_info = df_grains_norm.loc[grain,:]\n",
    "grain_info"
   ]
  },
  {
   "cell_type": "code",
   "execution_count": 47,
   "id": "31275ee1",
   "metadata": {},
   "outputs": [
    {
     "data": {
      "text/plain": [
       "(1149, 386)"
      ]
     },
     "execution_count": 47,
     "metadata": {},
     "output_type": "execute_result"
    }
   ],
   "source": [
    "\n",
    "width = int(max([max(One_grain.x_end),max(One_grain.x_start)]))+1\n",
    "height = int(max([max(One_grain.y_end),max(One_grain.y_start)]))+1\n",
    "\n",
    "width,height"
   ]
  },
  {
   "cell_type": "code",
   "execution_count": 48,
   "id": "beed1295",
   "metadata": {},
   "outputs": [],
   "source": [
    "x_center = 1000#int(One_grain[['x_start','x_end']].mean().mean())\n",
    "y_center = 300#int(One_grain[['y_start','y_end']].mean().mean())"
   ]
  },
  {
   "cell_type": "code",
   "execution_count": 49,
   "id": "6eefaf02",
   "metadata": {},
   "outputs": [
    {
     "data": {
      "text/plain": [
       "5767    373.55\n",
       "5778    378.74\n",
       "Name: y_start, dtype: float64"
      ]
     },
     "execution_count": 49,
     "metadata": {},
     "output_type": "execute_result"
    }
   ],
   "source": [
    "One_grain.y_start.iloc[1:3]"
   ]
  },
  {
   "cell_type": "markdown",
   "id": "7810e0e4",
   "metadata": {},
   "source": [
    "The method polygon_fill do not work because it uses the Even–odd rule and fill all closed paths based on directions provided as parameters. As the order or parameters meters and in our case is not ordered, this method is not helpful.\n"
   ]
  },
  {
   "cell_type": "markdown",
   "id": "365f75de",
   "metadata": {},
   "source": [
    "## Flood Fill method"
   ]
  },
  {
   "cell_type": "code",
   "execution_count": 50,
   "id": "a975acff",
   "metadata": {},
   "outputs": [
    {
     "data": {
      "text/plain": [
       "5766    1091.0\n",
       "5767    1091.0\n",
       "5778    1094.0\n",
       "5779    1134.0\n",
       "5811    1100.0\n",
       "5861    1109.0\n",
       "5909    1122.0\n",
       "5941    1129.0\n",
       "5973    1133.0\n",
       "6018    1139.0\n",
       "6021    1140.0\n",
       "6053    1147.0\n",
       "Name: x_start, dtype: float64"
      ]
     },
     "execution_count": 50,
     "metadata": {},
     "output_type": "execute_result"
    }
   ],
   "source": [
    "One_grain.x_start"
   ]
  },
  {
   "cell_type": "code",
   "execution_count": 51,
   "id": "e4c88fb0",
   "metadata": {},
   "outputs": [
    {
     "data": {
      "text/plain": [
       "<matplotlib.image.AxesImage at 0x17fcea0b0>"
      ]
     },
     "execution_count": 51,
     "metadata": {},
     "output_type": "execute_result"
    },
    {
     "data": {
      "image/png": "[encoded data removed]",
      "text/plain": [
       "<Figure size 432x288 with 1 Axes>"
      ]
     },
     "metadata": {
      "needs_background": "light"
     },
     "output_type": "display_data"
    }
   ],
   "source": [
    "\n",
    "np_img = np.zeros([height, width, 3])\n",
    "np_img2 = np.zeros([height, width, 3])\n",
    "\n",
    "for idx, row in One_grain.iterrows():\n",
    "    #print(\"%d %d %d %d\\n\" %(row.x_start.astype(\"uint16\"),row.y_start.astype(\"uint16\"),row.x_end.astype(\"uint16\"),row.y_end.astype(\"uint16\")))\n",
    "    \n",
    "    rr,cc,a = draw.line_aa(row.x_start.astype(\"uint16\"),row.y_start.astype(\"uint16\"),row.x_end.astype(\"uint16\"),row.y_end.astype(\"uint16\"))\n",
    "    np_img[cc,rr,:3] = (1,1,1)\n",
    "    \n",
    "#mask = flood_fill(np_img, (50, 52,1), 255 )\n",
    "mask = flood(np_img, (y_center, x_center,0))\n",
    "#np_img = flood_fill(np_img, (50, 52,0), 155 )\n",
    "np.shape(mask[:,:,1])\n",
    "\n",
    "plt.imshow(np_img)"
   ]
  },
  {
   "cell_type": "code",
   "execution_count": 52,
   "id": "f104423e",
   "metadata": {},
   "outputs": [
    {
     "data": {
      "text/plain": [
       "<matplotlib.image.AxesImage at 0x17fd54af0>"
      ]
     },
     "execution_count": 52,
     "metadata": {},
     "output_type": "execute_result"
    },
    {
     "data": {
      "image/png": "[encoded data removed]",
      "text/plain": [
       "<Figure size 432x288 with 1 Axes>"
      ]
     },
     "metadata": {
      "needs_background": "light"
     },
     "output_type": "display_data"
    }
   ],
   "source": [
    "phi1,Phi,phi2 = grain_info[[\"right_phi1\",\"right_PHI\",\"right_phi2\"]]\n",
    "np_img2[mask[:,:,1]] = [phi1,Phi,phi2]\n",
    "np_img2[np_img[:,:,1] !=0] =  [phi1,Phi,phi2]\n",
    "\n",
    "\n",
    "plt.imshow(np_img2)"
   ]
  },
  {
   "cell_type": "code",
   "execution_count": 53,
   "id": "a719e026",
   "metadata": {},
   "outputs": [
    {
     "data": {
      "text/plain": [
       "<matplotlib.image.AxesImage at 0x17e935540>"
      ]
     },
     "execution_count": 53,
     "metadata": {},
     "output_type": "execute_result"
    },
    {
     "data": {
      "image/png": "[encoded data removed]",
      "text/plain": [
       "<Figure size 432x288 with 1 Axes>"
      ]
     },
     "metadata": {
      "needs_background": "light"
     },
     "output_type": "display_data"
    }
   ],
   "source": [
    "grain = 1512\n",
    "\n",
    "One_grain = df[(df[\"grain_right\"] == grain) | (df[\"grain_left\"] == grain)]\n",
    "grain_info = df_grains_norm.loc[grain,:]\n",
    "x_center = int(One_grain[['x_start','x_end']].mean().mean())\n",
    "y_center = int(One_grain[['y_start','y_end']].mean().mean())\n",
    "\n",
    "np_img = np.zeros([height, width, 3])\n",
    "#np_img2 = np.zeros([height, width, 3])\n",
    "\n",
    "for idx, row in One_grain.iterrows():\n",
    "    #print(\"%d %d %d %d\\n\" %(row.x_start.astype(\"uint16\"),row.y_start.astype(\"uint16\"),row.x_end.astype(\"uint16\"),row.y_end.astype(\"uint16\")))\n",
    "    \n",
    "    rr,cc,a = draw.line_aa(row.x_start.astype(\"uint16\"),row.y_start.astype(\"uint16\"),row.x_end.astype(\"uint16\"),row.y_end.astype(\"uint16\"))\n",
    "    np_img[cc,rr,:3] = (1,1,1)\n",
    "    \n",
    "    \n",
    "#mask = flood_fill(np_img, (50, 52,1), 255 )\n",
    "mask = flood(np_img, (y_center, x_center,0))\n",
    "#np_img = flood_fill(np_img, (50, 52,0), 155 )\n",
    "np.shape(mask[:,:,1])\n",
    "\n",
    "plt.imshow(np_img)"
   ]
  },
  {
   "cell_type": "code",
   "execution_count": 54,
   "id": "27438adc",
   "metadata": {},
   "outputs": [],
   "source": [
    "phi1,Phi,phi2 = grain_info[[\"right_phi1\",\"right_PHI\",\"right_phi2\"]]\n",
    "np_img[np_img[:,:,1] !=0] =  [phi1,Phi,phi2]\n",
    "np_img[mask[:,:,1] !=0] = [phi1,Phi,phi2]\n",
    "np_img2 += np_img"
   ]
  },
  {
   "cell_type": "code",
   "execution_count": 55,
   "id": "655c5bee",
   "metadata": {},
   "outputs": [
    {
     "data": {
      "text/plain": [
       "<matplotlib.image.AxesImage at 0x17e98f250>"
      ]
     },
     "execution_count": 55,
     "metadata": {},
     "output_type": "execute_result"
    },
    {
     "data": {
      "image/png": "[encoded data removed]",
      "text/plain": [
       "<Figure size 432x288 with 1 Axes>"
      ]
     },
     "metadata": {
      "needs_background": "light"
     },
     "output_type": "display_data"
    }
   ],
   "source": [
    "plt.imshow(np_img)"
   ]
  },
  {
   "cell_type": "code",
   "execution_count": 56,
   "id": "5898f143",
   "metadata": {},
   "outputs": [
    {
     "name": "stderr",
     "output_type": "stream",
     "text": [
      "Clipping input data to the valid range for imshow with RGB data ([0..1] for floats or [0..255] for integers).\n"
     ]
    },
    {
     "data": {
      "text/plain": [
       "<matplotlib.image.AxesImage at 0x17e9f29b0>"
      ]
     },
     "execution_count": 56,
     "metadata": {},
     "output_type": "execute_result"
    },
    {
     "data": {
      "image/png": "[encoded data removed]",
      "text/plain": [
       "<Figure size 432x288 with 1 Axes>"
      ]
     },
     "metadata": {
      "needs_background": "light"
     },
     "output_type": "display_data"
    }
   ],
   "source": [
    "plt.imshow(np_img2)"
   ]
  },
  {
   "cell_type": "markdown",
   "id": "6bdff59b",
   "metadata": {},
   "source": [
    "Applying to all grains"
   ]
  },
  {
   "cell_type": "code",
   "execution_count": 57,
   "id": "84ff19fc",
   "metadata": {},
   "outputs": [],
   "source": [
    "from IPython.display import set_matplotlib_formats\n",
    "plt.rcParams['figure.dpi'] = 200\n",
    "plt.rcParams['savefig.dpi'] = 200\n",
    "import cv2\n",
    "import time\n",
    "import math\n",
    "\n",
    "\n",
    "\n",
    "df_grains_norm = (df_grains - df_grains.min()) / (df_grains.max() - df_grains.min())\n",
    "\n",
    "width = int(max([max(df.x_end),max(df.x_start)]))+1\n",
    "height = int(max([max(df.y_end),max(df.y_start)]))+1\n",
    "\n",
    "#for idx, row in df.iterrows():\n",
    "#    rr,cc,a = draw.line_aa(row.x_start.astype(\"uint16\"),row.y_start.astype(\"uint16\"),row.x_end.astype(\"uint16\"),row.y_end.astype(\"uint16\"))\n",
    "#    np_img[cc,rr,:3] = (1,1,1)\n",
    "    \n",
    "#plt.imshow(np_img)\n"
   ]
  },
  {
   "cell_type": "code",
   "execution_count": 58,
   "id": "91d1f436",
   "metadata": {},
   "outputs": [
    {
     "ename": "KeyboardInterrupt",
     "evalue": "",
     "output_type": "error",
     "traceback": [
      "\u001b[0;31m---------------------------------------------------------------------------\u001b[0m",
      "\u001b[0;31mKeyboardInterrupt\u001b[0m                         Traceback (most recent call last)",
      "\u001b[0;32m<timed exec>\u001b[0m in \u001b[0;36m<module>\u001b[0;34m\u001b[0m\n",
      "\u001b[0;31mKeyboardInterrupt\u001b[0m: "
     ]
    }
   ],
   "source": [
    "%%time\n",
    "\n",
    "np_img = np.zeros([height, width, 3])\n",
    "flood_grains = np.zeros([height, width, 3])\n",
    "\n",
    "\n",
    "width = int(max([max(df.x_end),max(df.x_start)]))+1\n",
    "height = int(max([max(df.y_end),max(df.y_start)]))+1\n",
    "flood_grains = np.zeros([height, width, 3])\n",
    "overflood = np.sum(flood_grains==0) * 0.8\n",
    "\n",
    "for grain in df_grains.index:\n",
    "    One_grain = df[(df[\"grain_right\"] == grain) | (df[\"grain_left\"] == grain)]\n",
    "    grain_info = df_grains_norm.loc[grain,:]\n",
    "    np_img = np.zeros([height, width, 3])\n",
    "\n",
    "  #  width = int(max([max(One_grain.x_end),max(One_grain.x_start)]))+1\n",
    "  #  height = int(max([max(One_grain.y_end),max(One_grain.y_start)]))+1\n",
    "\n",
    "    x_center = math.floor(One_grain[['x_start','x_end']].mean().mean())\n",
    "    y_center = math.floor(One_grain[['y_start','y_end']].mean().mean())\n",
    "\n",
    "\n",
    "    if(y_center < 2100 and y_center < 2400):    \n",
    "        phi1,Phi,phi2 = grain_info[[\"right_phi1\",\"right_PHI\",\"right_phi2\"]]\n",
    "        #    cv2.putText(np_img, text=str(int(grain)), org=(x_center,y_center),fontFace=2, fontScale=0.4, color=(255,255,255), thickness=1)\n",
    "    \n",
    "        for idx, row in One_grain.iterrows():\n",
    "            \n",
    "            rr,cc,a = draw.line_aa(row.x_start.astype(\"uint16\"),row.y_start.astype(\"uint16\"),row.x_end.astype(\"uint16\"),row.y_end.astype(\"uint16\"))\n",
    "            np_img[cc,rr] = (1,1,1)\n",
    "        \n",
    "        mask = flood(np_img, (y_center, x_center,0))\n",
    "#        print(str(grain) + \" len \"+ str(np.count_nonzero(mask)))\n",
    "#        print(str(grain) + \" len 0 \"+ str(np.sum(mask==1)))\n",
    "        np_img[np_img[:,:,1] !=0] =  [0,0,0]#[phi1,Phi,phi2]\n",
    "        \n",
    "#         cv2.imshow('NP',np_img)\n",
    "#         cv2.waitKey(0)\n",
    "#         cv2.destroyAllWindows()\n",
    "\n",
    "        if (np.sum(mask==1)<overflood):\n",
    "            np_img[mask[:,:,1] !=0] = [phi1,Phi,phi2]\n",
    "            \n",
    "        else:\n",
    "            start = pd.DataFrame(columns=[\"x\",\"y\"])\n",
    "            end = pd.DataFrame(columns=[\"x\",\"y\"])\n",
    "            start[[\"x\",\"y\"]] = One_grain[['x_start','y_start']]\n",
    "            end[[\"x\",\"y\"]] = One_grain[['x_end','y_end']]\n",
    "            points = pd.concat([start,end])\n",
    "            \n",
    "\n",
    "            \n",
    "            try :\n",
    "                hull = ConvexHull(points)\n",
    "                for idx in range(len(hull.simplices)):\n",
    "                    x_s = hull.points[hull.simplices[idx,0], 0].astype(\"uint16\")\n",
    "                    y_s = hull.points[hull.simplices[idx,0], 1].astype(\"uint16\")\n",
    "                    x_e = hull.points[hull.simplices[idx,1], 0].astype(\"uint16\")\n",
    "                    y_e = hull.points[hull.simplices[idx,1], 1].astype(\"uint16\")\n",
    "\n",
    "                    rr,cc,a = draw.line_aa(x_s,y_s,x_e,y_e)\n",
    "                    \n",
    "                    np_img[cc,rr] = (1,1,1)\n",
    "            except:\n",
    "                print(points)\n",
    "                pass\n",
    "           \n",
    "            \n",
    "            mask = flood(np_img, (y_center, x_center,0))\n",
    "\n",
    "            np_img[np_img[:,:,1] !=0] =  [0,0,0]\n",
    "            np_img[mask[:,:,1] !=0] = [phi1,Phi,phi2]\n",
    "            \n",
    "        flood_grains += np_img\n",
    "\n",
    "\n",
    "        cv2.imshow('Image',flood_grains)\n",
    "        cv2.waitKey(0)\n",
    "        cv2.destroyAllWindows()\n",
    "\n",
    "plt.imshow(flood_grains)\n",
    "io.imsave(\"processing/\"+ file +'.png',np_img)"
   ]
  },
  {
   "cell_type": "code",
   "execution_count": 59,
   "id": "37a7e51e",
   "metadata": {},
   "outputs": [],
   "source": [
    "cv2.imshow('F',flood_grains)\n",
    "cv2.waitKey(0)\n",
    "cv2.destroyAllWindows()"
   ]
  },
  {
   "cell_type": "code",
   "execution_count": 60,
   "id": "5c3c359d",
   "metadata": {},
   "outputs": [
    {
     "name": "stderr",
     "output_type": "stream",
     "text": [
      "Lossy conversion from float64 to uint8. Range [0, 1]. Convert image to uint8 prior to saving to suppress this warning.\n"
     ]
    }
   ],
   "source": [
    "io.imsave(\"processing/\"+ file +'.png',flood_grains)"
   ]
  },
  {
   "cell_type": "code",
   "execution_count": 61,
   "id": "4e3dcb7a",
   "metadata": {},
   "outputs": [
    {
     "ename": "NameError",
     "evalue": "name 'ConvexHull' is not defined",
     "output_type": "error",
     "traceback": [
      "\u001b[0;31m---------------------------------------------------------------------------\u001b[0m",
      "\u001b[0;31mNameError\u001b[0m                                 Traceback (most recent call last)",
      "\u001b[0;32m/var/folders/cs/9snn7fmd4sz6wvcngh6vx9cm0000gp/T/ipykernel_14602/1929865733.py\u001b[0m in \u001b[0;36m<module>\u001b[0;34m\u001b[0m\n\u001b[1;32m     28\u001b[0m \u001b[0;34m\u001b[0m\u001b[0m\n\u001b[1;32m     29\u001b[0m \u001b[0;34m\u001b[0m\u001b[0m\n\u001b[0;32m---> 30\u001b[0;31m     \u001b[0mhull\u001b[0m \u001b[0;34m=\u001b[0m \u001b[0mConvexHull\u001b[0m\u001b[0;34m(\u001b[0m\u001b[0mpoints\u001b[0m\u001b[0;34m)\u001b[0m\u001b[0;34m\u001b[0m\u001b[0;34m\u001b[0m\u001b[0m\n\u001b[0m\u001b[1;32m     31\u001b[0m     \u001b[0;32mfor\u001b[0m \u001b[0midx\u001b[0m \u001b[0;32min\u001b[0m \u001b[0mrange\u001b[0m\u001b[0;34m(\u001b[0m\u001b[0mlen\u001b[0m\u001b[0;34m(\u001b[0m\u001b[0mhull\u001b[0m\u001b[0;34m.\u001b[0m\u001b[0msimplices\u001b[0m\u001b[0;34m)\u001b[0m\u001b[0;34m)\u001b[0m\u001b[0;34m:\u001b[0m\u001b[0;34m\u001b[0m\u001b[0;34m\u001b[0m\u001b[0m\n\u001b[1;32m     32\u001b[0m         \u001b[0mx_s\u001b[0m \u001b[0;34m=\u001b[0m \u001b[0mhull\u001b[0m\u001b[0;34m.\u001b[0m\u001b[0mpoints\u001b[0m\u001b[0;34m[\u001b[0m\u001b[0mhull\u001b[0m\u001b[0;34m.\u001b[0m\u001b[0msimplices\u001b[0m\u001b[0;34m[\u001b[0m\u001b[0midx\u001b[0m\u001b[0;34m,\u001b[0m\u001b[0;36m0\u001b[0m\u001b[0;34m]\u001b[0m\u001b[0;34m,\u001b[0m \u001b[0;36m0\u001b[0m\u001b[0;34m]\u001b[0m\u001b[0;34m.\u001b[0m\u001b[0mastype\u001b[0m\u001b[0;34m(\u001b[0m\u001b[0;34m\"uint16\"\u001b[0m\u001b[0;34m)\u001b[0m\u001b[0;34m\u001b[0m\u001b[0;34m\u001b[0m\u001b[0m\n",
      "\u001b[0;31mNameError\u001b[0m: name 'ConvexHull' is not defined"
     ]
    }
   ],
   "source": [
    "grain = 1512\n",
    "One_grain = df[(df[\"grain_right\"] == grain) | (df[\"grain_left\"] == grain)]\n",
    "\n",
    "\n",
    "width = int(max([max(df.x_end),max(df.x_start)]))+1\n",
    "height = int(max([max(df.y_end),max(df.y_start)]))+1\n",
    "\n",
    "\n",
    "grain_info = df_grains_norm.loc[grain,:]\n",
    "np_img = np.zeros([height, width, 3])\n",
    "\n",
    "\n",
    "x_center = math.floor(One_grain[['x_start','x_end']].mean().mean())\n",
    "y_center = math.floor(One_grain[['y_start','y_end']].mean().mean())\n",
    "\n",
    "\n",
    "if(x_center <2100 and y_center < 2100):    \n",
    "    phi1,Phi,phi2 = grain_info[[\"right_phi1\",\"right_PHI\",\"right_phi2\"]]\n",
    "    #    cv2.putText(np_img, text=str(int(grain)), org=(x_center,y_center),fontFace=2, fontScale=0.4, color=(255,255,255), thickness=1)\n",
    "\n",
    "    start = pd.DataFrame(columns=[\"x\",\"y\"])\n",
    "    end = pd.DataFrame(columns=[\"x\",\"y\"])\n",
    "    start[[\"x\",\"y\"]] = One_grain[['x_start','y_start']]\n",
    "    end[[\"x\",\"y\"]] = One_grain[['x_end','y_end']]\n",
    "    points = pd.concat([start,end])\n",
    "    points.reset_index()\n",
    "\n",
    "\n",
    "\n",
    "    hull = ConvexHull(points)\n",
    "    for idx in range(len(hull.simplices)):\n",
    "        x_s = hull.points[hull.simplices[idx,0], 0].astype(\"uint16\")\n",
    "        y_s = hull.points[hull.simplices[idx,0], 1].astype(\"uint16\")\n",
    "        x_e = hull.points[hull.simplices[idx,1], 0].astype(\"uint16\")\n",
    "        y_e = hull.points[hull.simplices[idx,1], 1].astype(\"uint16\")\n",
    "\n",
    "        rr,cc,a = draw.line_aa(x_s,y_s,x_e,y_e)\n",
    "        np_img[cc,rr] = (1,1,1)\n",
    "\n",
    "    mask = flood(np_img, (y_center, x_center,0))\n",
    "    \n",
    "    np_img[np_img[:,:,1] !=0] =  [phi1,Phi,phi2]\n",
    "    np_img[mask[:,:,1] !=0] = [phi1,Phi,phi2]\n",
    "    \n",
    "plt.imshow(np_img)\n",
    "print(np.sum(mask==1))"
   ]
  },
  {
   "cell_type": "code",
   "execution_count": 62,
   "id": "9034b76f",
   "metadata": {},
   "outputs": [
    {
     "ename": "NameError",
     "evalue": "name 'count' is not defined",
     "output_type": "error",
     "traceback": [
      "\u001b[0;31m---------------------------------------------------------------------------\u001b[0m",
      "\u001b[0;31mNameError\u001b[0m                                 Traceback (most recent call last)",
      "\u001b[0;32m/var/folders/cs/9snn7fmd4sz6wvcngh6vx9cm0000gp/T/ipykernel_14602/1685665527.py\u001b[0m in \u001b[0;36m<module>\u001b[0;34m\u001b[0m\n\u001b[0;32m----> 1\u001b[0;31m \u001b[0mcount\u001b[0m\u001b[0;34m(\u001b[0m\u001b[0mnp_img\u001b[0m\u001b[0;34m==\u001b[0m\u001b[0;36m1\u001b[0m\u001b[0;34m)\u001b[0m\u001b[0;34m\u001b[0m\u001b[0;34m\u001b[0m\u001b[0m\n\u001b[0m",
      "\u001b[0;31mNameError\u001b[0m: name 'count' is not defined"
     ]
    }
   ],
   "source": [
    "count(np_img==1)"
   ]
  },
  {
   "cell_type": "code",
   "execution_count": 63,
   "id": "22f7ddd8",
   "metadata": {},
   "outputs": [],
   "source": [
    "cv2.imshow('f',flood_grains)\n",
    "cv2.waitKey(0)\n",
    "cv2.destroyAllWindows()"
   ]
  },
  {
   "cell_type": "code",
   "execution_count": 64,
   "id": "24fdb8d9",
   "metadata": {},
   "outputs": [
    {
     "name": "stderr",
     "output_type": "stream",
     "text": [
      "/var/folders/cs/9snn7fmd4sz6wvcngh6vx9cm0000gp/T/ipykernel_14602/2232076594.py:1: UserWarning: processing/1_005_partial.png is a low contrast image\n",
      "  io.imsave(\"processing/\"+ file +'_partial.png',np_img)\n",
      "Lossy conversion from float64 to uint8. Range [0, 1]. Convert image to uint8 prior to saving to suppress this warning.\n"
     ]
    }
   ],
   "source": [
    "io.imsave(\"processing/\"+ file +'_partial.png',np_img)"
   ]
  },
  {
   "cell_type": "markdown",
   "id": "88645a2b",
   "metadata": {},
   "source": [
    "Some grains are not in the df_grains dataframe."
   ]
  },
  {
   "cell_type": "code",
   "execution_count": 65,
   "id": "b2c74ec6",
   "metadata": {},
   "outputs": [
    {
     "data": {
      "text/html": [
       "<div>\n",
       "<style scoped>\n",
       "    .dataframe tbody tr th:only-of-type {\n",
       "        vertical-align: middle;\n",
       "    }\n",
       "\n",
       "    .dataframe tbody tr th {\n",
       "        vertical-align: top;\n",
       "    }\n",
       "\n",
       "    .dataframe thead th {\n",
       "        text-align: right;\n",
       "    }\n",
       "</style>\n",
       "<table border=\"1\" class=\"dataframe\">\n",
       "  <thead>\n",
       "    <tr style=\"text-align: right;\">\n",
       "      <th></th>\n",
       "      <th>right_phi1</th>\n",
       "      <th>right_PHI</th>\n",
       "      <th>right_phi2</th>\n",
       "      <th>left_phi1</th>\n",
       "      <th>left_PHI</th>\n",
       "      <th>left_phi2</th>\n",
       "      <th>ori_angle</th>\n",
       "      <th>right_ori_x</th>\n",
       "      <th>right_ori_y</th>\n",
       "      <th>right_ori_z</th>\n",
       "      <th>...</th>\n",
       "      <th>left_ori_y</th>\n",
       "      <th>left_ori_z</th>\n",
       "      <th>length</th>\n",
       "      <th>trace_angle</th>\n",
       "      <th>x_start</th>\n",
       "      <th>y_start</th>\n",
       "      <th>x_end</th>\n",
       "      <th>y_end</th>\n",
       "      <th>grain_right</th>\n",
       "      <th>grain_left</th>\n",
       "    </tr>\n",
       "  </thead>\n",
       "  <tbody>\n",
       "  </tbody>\n",
       "</table>\n",
       "<p>0 rows × 21 columns</p>\n",
       "</div>"
      ],
      "text/plain": [
       "Empty DataFrame\n",
       "Columns: [right_phi1, right_PHI, right_phi2, left_phi1, left_PHI, left_phi2, ori_angle, right_ori_x, right_ori_y, right_ori_z, left_ori_x, left_ori_y, left_ori_z, length, trace_angle, x_start, y_start, x_end, y_end, grain_right, grain_left]\n",
       "Index: []\n",
       "\n",
       "[0 rows x 21 columns]"
      ]
     },
     "execution_count": 65,
     "metadata": {},
     "output_type": "execute_result"
    }
   ],
   "source": [
    "df[df[\"grain_left\"].isnull()]"
   ]
  },
  {
   "cell_type": "code",
   "execution_count": 66,
   "id": "f02de5c6",
   "metadata": {},
   "outputs": [
    {
     "data": {
      "text/plain": [
       "array([1.000e+00, 3.700e+01, 6.400e+01, ..., 4.076e+03, 3.712e+03,\n",
       "       1.300e+02])"
      ]
     },
     "execution_count": 66,
     "metadata": {},
     "output_type": "execute_result"
    }
   ],
   "source": [
    "df[\"grain_left\"].unique()"
   ]
  },
  {
   "cell_type": "code",
   "execution_count": 67,
   "id": "7f00a8f6",
   "metadata": {},
   "outputs": [
    {
     "name": "stdout",
     "output_type": "stream",
     "text": [
      "right not found 593.0\n",
      "right not found 4157.0\n",
      "right not found 4198.0\n",
      "right not found 598.0\n"
     ]
    },
    {
     "ename": "KeyboardInterrupt",
     "evalue": "",
     "output_type": "error",
     "traceback": [
      "\u001b[0;31m---------------------------------------------------------------------------\u001b[0m",
      "\u001b[0;31mKeyboardInterrupt\u001b[0m                         Traceback (most recent call last)",
      "\u001b[0;32m/var/folders/cs/9snn7fmd4sz6wvcngh6vx9cm0000gp/T/ipykernel_14602/1005370022.py\u001b[0m in \u001b[0;36m<module>\u001b[0;34m\u001b[0m\n\u001b[1;32m      4\u001b[0m           \u001b[0;31m# print(\"right found \" + str(a))\u001b[0m\u001b[0;34m\u001b[0m\u001b[0;34m\u001b[0m\u001b[0m\n\u001b[1;32m      5\u001b[0m             \u001b[0;32mbreak\u001b[0m\u001b[0;34m\u001b[0m\u001b[0;34m\u001b[0m\u001b[0m\n\u001b[0;32m----> 6\u001b[0;31m         \u001b[0;32mif\u001b[0m \u001b[0mb\u001b[0m \u001b[0;34m==\u001b[0m \u001b[0mdf\u001b[0m\u001b[0;34m[\u001b[0m\u001b[0;34m\"grain_left\"\u001b[0m\u001b[0;34m]\u001b[0m\u001b[0;34m.\u001b[0m\u001b[0munique\u001b[0m\u001b[0;34m(\u001b[0m\u001b[0;34m)\u001b[0m\u001b[0;34m[\u001b[0m\u001b[0;34m-\u001b[0m\u001b[0;36m1\u001b[0m\u001b[0;34m]\u001b[0m\u001b[0;34m:\u001b[0m\u001b[0;34m\u001b[0m\u001b[0;34m\u001b[0m\u001b[0m\n\u001b[0m\u001b[1;32m      7\u001b[0m             \u001b[0mprint\u001b[0m\u001b[0;34m(\u001b[0m\u001b[0;34m\"right not found \"\u001b[0m \u001b[0;34m+\u001b[0m \u001b[0mstr\u001b[0m\u001b[0;34m(\u001b[0m\u001b[0ma\u001b[0m\u001b[0;34m)\u001b[0m\u001b[0;34m)\u001b[0m\u001b[0;34m\u001b[0m\u001b[0;34m\u001b[0m\u001b[0m\n",
      "\u001b[0;32m~/miniconda3/envs/spyder-env/lib/python3.10/site-packages/pandas/core/series.py\u001b[0m in \u001b[0;36munique\u001b[0;34m(self)\u001b[0m\n\u001b[1;32m   2086\u001b[0m         \u001b[0mCategories\u001b[0m \u001b[0;34m(\u001b[0m\u001b[0;36m3\u001b[0m\u001b[0;34m,\u001b[0m \u001b[0mobject\u001b[0m\u001b[0;34m)\u001b[0m\u001b[0;34m:\u001b[0m \u001b[0;34m[\u001b[0m\u001b[0;34m'a'\u001b[0m \u001b[0;34m<\u001b[0m \u001b[0;34m'b'\u001b[0m \u001b[0;34m<\u001b[0m \u001b[0;34m'c'\u001b[0m\u001b[0;34m]\u001b[0m\u001b[0;34m\u001b[0m\u001b[0;34m\u001b[0m\u001b[0m\n\u001b[1;32m   2087\u001b[0m         \"\"\"\n\u001b[0;32m-> 2088\u001b[0;31m         \u001b[0;32mreturn\u001b[0m \u001b[0msuper\u001b[0m\u001b[0;34m(\u001b[0m\u001b[0;34m)\u001b[0m\u001b[0;34m.\u001b[0m\u001b[0munique\u001b[0m\u001b[0;34m(\u001b[0m\u001b[0;34m)\u001b[0m\u001b[0;34m\u001b[0m\u001b[0;34m\u001b[0m\u001b[0m\n\u001b[0m\u001b[1;32m   2089\u001b[0m \u001b[0;34m\u001b[0m\u001b[0m\n\u001b[1;32m   2090\u001b[0m     \u001b[0;34m@\u001b[0m\u001b[0moverload\u001b[0m\u001b[0;34m\u001b[0m\u001b[0;34m\u001b[0m\u001b[0m\n",
      "\u001b[0;32m~/miniconda3/envs/spyder-env/lib/python3.10/site-packages/pandas/core/base.py\u001b[0m in \u001b[0;36munique\u001b[0;34m(self)\u001b[0m\n\u001b[1;32m    987\u001b[0m                     \u001b[0mresult\u001b[0m \u001b[0;34m=\u001b[0m \u001b[0mnp\u001b[0m\u001b[0;34m.\u001b[0m\u001b[0masarray\u001b[0m\u001b[0;34m(\u001b[0m\u001b[0mresult\u001b[0m\u001b[0;34m)\u001b[0m\u001b[0;34m\u001b[0m\u001b[0;34m\u001b[0m\u001b[0m\n\u001b[1;32m    988\u001b[0m         \u001b[0;32melse\u001b[0m\u001b[0;34m:\u001b[0m\u001b[0;34m\u001b[0m\u001b[0;34m\u001b[0m\u001b[0m\n\u001b[0;32m--> 989\u001b[0;31m             \u001b[0mresult\u001b[0m \u001b[0;34m=\u001b[0m \u001b[0munique1d\u001b[0m\u001b[0;34m(\u001b[0m\u001b[0mvalues\u001b[0m\u001b[0;34m)\u001b[0m\u001b[0;34m\u001b[0m\u001b[0;34m\u001b[0m\u001b[0m\n\u001b[0m\u001b[1;32m    990\u001b[0m \u001b[0;34m\u001b[0m\u001b[0m\n\u001b[1;32m    991\u001b[0m         \u001b[0;32mreturn\u001b[0m \u001b[0mresult\u001b[0m\u001b[0;34m\u001b[0m\u001b[0;34m\u001b[0m\u001b[0m\n",
      "\u001b[0;32m~/miniconda3/envs/spyder-env/lib/python3.10/site-packages/pandas/core/algorithms.py\u001b[0m in \u001b[0;36munique\u001b[0;34m(values)\u001b[0m\n\u001b[1;32m    438\u001b[0m \u001b[0;34m\u001b[0m\u001b[0m\n\u001b[1;32m    439\u001b[0m     \u001b[0mtable\u001b[0m \u001b[0;34m=\u001b[0m \u001b[0mhtable\u001b[0m\u001b[0;34m(\u001b[0m\u001b[0mlen\u001b[0m\u001b[0;34m(\u001b[0m\u001b[0mvalues\u001b[0m\u001b[0;34m)\u001b[0m\u001b[0;34m)\u001b[0m\u001b[0;34m\u001b[0m\u001b[0;34m\u001b[0m\u001b[0m\n\u001b[0;32m--> 440\u001b[0;31m     \u001b[0muniques\u001b[0m \u001b[0;34m=\u001b[0m \u001b[0mtable\u001b[0m\u001b[0;34m.\u001b[0m\u001b[0munique\u001b[0m\u001b[0;34m(\u001b[0m\u001b[0mvalues\u001b[0m\u001b[0;34m)\u001b[0m\u001b[0;34m\u001b[0m\u001b[0;34m\u001b[0m\u001b[0m\n\u001b[0m\u001b[1;32m    441\u001b[0m     \u001b[0muniques\u001b[0m \u001b[0;34m=\u001b[0m \u001b[0m_reconstruct_data\u001b[0m\u001b[0;34m(\u001b[0m\u001b[0muniques\u001b[0m\u001b[0;34m,\u001b[0m \u001b[0moriginal\u001b[0m\u001b[0;34m.\u001b[0m\u001b[0mdtype\u001b[0m\u001b[0;34m,\u001b[0m \u001b[0moriginal\u001b[0m\u001b[0;34m)\u001b[0m\u001b[0;34m\u001b[0m\u001b[0;34m\u001b[0m\u001b[0m\n\u001b[1;32m    442\u001b[0m     \u001b[0;32mreturn\u001b[0m \u001b[0muniques\u001b[0m\u001b[0;34m\u001b[0m\u001b[0;34m\u001b[0m\u001b[0m\n",
      "\u001b[0;31mKeyboardInterrupt\u001b[0m: "
     ]
    }
   ],
   "source": [
    "for a in df[\"grain_right\"].unique():\n",
    "    for b in df[\"grain_left\"].unique():\n",
    "        if a == b:\n",
    "          # print(\"right found \" + str(a))\n",
    "            break\n",
    "        if b == df[\"grain_left\"].unique()[-1]:\n",
    "            print(\"right not found \" + str(a))"
   ]
  },
  {
   "cell_type": "code",
   "execution_count": null,
   "id": "fa67474c",
   "metadata": {},
   "outputs": [],
   "source": [
    "for a in df[\"grain_left\"].unique():\n",
    "    for b in df[\"grain_right\"].unique():\n",
    "        if a == b:\n",
    "          # print(\"right found \" + str(a))\n",
    "            break\n",
    "        if b == df[\"grain_right\"].unique()[-1]:\n",
    "            print(\"left not found \" + str(a))"
   ]
  },
  {
   "cell_type": "markdown",
   "id": "d9777316",
   "metadata": {},
   "source": [
    "## Closing opened grains"
   ]
  },
  {
   "cell_type": "code",
   "execution_count": 68,
   "id": "ba084813",
   "metadata": {},
   "outputs": [
    {
     "data": {
      "text/html": [
       "<div>\n",
       "<style scoped>\n",
       "    .dataframe tbody tr th:only-of-type {\n",
       "        vertical-align: middle;\n",
       "    }\n",
       "\n",
       "    .dataframe tbody tr th {\n",
       "        vertical-align: top;\n",
       "    }\n",
       "\n",
       "    .dataframe thead th {\n",
       "        text-align: right;\n",
       "    }\n",
       "</style>\n",
       "<table border=\"1\" class=\"dataframe\">\n",
       "  <thead>\n",
       "    <tr style=\"text-align: right;\">\n",
       "      <th></th>\n",
       "      <th>index</th>\n",
       "      <th>x</th>\n",
       "      <th>y</th>\n",
       "    </tr>\n",
       "  </thead>\n",
       "  <tbody>\n",
       "    <tr>\n",
       "      <th>0</th>\n",
       "      <td>5766</td>\n",
       "      <td>1091.0</td>\n",
       "      <td>373.55</td>\n",
       "    </tr>\n",
       "    <tr>\n",
       "      <th>1</th>\n",
       "      <td>5767</td>\n",
       "      <td>1091.0</td>\n",
       "      <td>373.55</td>\n",
       "    </tr>\n",
       "    <tr>\n",
       "      <th>2</th>\n",
       "      <td>5778</td>\n",
       "      <td>1094.0</td>\n",
       "      <td>378.74</td>\n",
       "    </tr>\n",
       "    <tr>\n",
       "      <th>3</th>\n",
       "      <td>5779</td>\n",
       "      <td>1134.0</td>\n",
       "      <td>385.67</td>\n",
       "    </tr>\n",
       "    <tr>\n",
       "      <th>4</th>\n",
       "      <td>5811</td>\n",
       "      <td>1100.0</td>\n",
       "      <td>357.96</td>\n",
       "    </tr>\n",
       "    <tr>\n",
       "      <th>5</th>\n",
       "      <td>5861</td>\n",
       "      <td>1109.0</td>\n",
       "      <td>352.76</td>\n",
       "    </tr>\n",
       "    <tr>\n",
       "      <th>6</th>\n",
       "      <td>5909</td>\n",
       "      <td>1122.0</td>\n",
       "      <td>354.49</td>\n",
       "    </tr>\n",
       "    <tr>\n",
       "      <th>7</th>\n",
       "      <td>5941</td>\n",
       "      <td>1129.0</td>\n",
       "      <td>353.92</td>\n",
       "    </tr>\n",
       "    <tr>\n",
       "      <th>8</th>\n",
       "      <td>5973</td>\n",
       "      <td>1133.0</td>\n",
       "      <td>353.92</td>\n",
       "    </tr>\n",
       "    <tr>\n",
       "      <th>9</th>\n",
       "      <td>6018</td>\n",
       "      <td>1139.0</td>\n",
       "      <td>353.92</td>\n",
       "    </tr>\n",
       "    <tr>\n",
       "      <th>10</th>\n",
       "      <td>6021</td>\n",
       "      <td>1140.0</td>\n",
       "      <td>354.49</td>\n",
       "    </tr>\n",
       "    <tr>\n",
       "      <th>11</th>\n",
       "      <td>6053</td>\n",
       "      <td>1147.0</td>\n",
       "      <td>366.62</td>\n",
       "    </tr>\n",
       "    <tr>\n",
       "      <th>12</th>\n",
       "      <td>5766</td>\n",
       "      <td>1094.0</td>\n",
       "      <td>378.74</td>\n",
       "    </tr>\n",
       "    <tr>\n",
       "      <th>13</th>\n",
       "      <td>5767</td>\n",
       "      <td>1100.0</td>\n",
       "      <td>357.96</td>\n",
       "    </tr>\n",
       "    <tr>\n",
       "      <th>14</th>\n",
       "      <td>5778</td>\n",
       "      <td>1134.0</td>\n",
       "      <td>385.67</td>\n",
       "    </tr>\n",
       "    <tr>\n",
       "      <th>15</th>\n",
       "      <td>5779</td>\n",
       "      <td>1148.0</td>\n",
       "      <td>379.90</td>\n",
       "    </tr>\n",
       "    <tr>\n",
       "      <th>16</th>\n",
       "      <td>5811</td>\n",
       "      <td>1109.0</td>\n",
       "      <td>352.76</td>\n",
       "    </tr>\n",
       "    <tr>\n",
       "      <th>17</th>\n",
       "      <td>5861</td>\n",
       "      <td>1110.0</td>\n",
       "      <td>352.18</td>\n",
       "    </tr>\n",
       "    <tr>\n",
       "      <th>18</th>\n",
       "      <td>5909</td>\n",
       "      <td>1125.0</td>\n",
       "      <td>353.92</td>\n",
       "    </tr>\n",
       "    <tr>\n",
       "      <th>19</th>\n",
       "      <td>5941</td>\n",
       "      <td>1133.0</td>\n",
       "      <td>353.92</td>\n",
       "    </tr>\n",
       "    <tr>\n",
       "      <th>20</th>\n",
       "      <td>5973</td>\n",
       "      <td>1137.0</td>\n",
       "      <td>353.92</td>\n",
       "    </tr>\n",
       "    <tr>\n",
       "      <th>21</th>\n",
       "      <td>6018</td>\n",
       "      <td>1140.0</td>\n",
       "      <td>354.49</td>\n",
       "    </tr>\n",
       "    <tr>\n",
       "      <th>22</th>\n",
       "      <td>6021</td>\n",
       "      <td>1147.0</td>\n",
       "      <td>366.62</td>\n",
       "    </tr>\n",
       "    <tr>\n",
       "      <th>23</th>\n",
       "      <td>6053</td>\n",
       "      <td>1148.0</td>\n",
       "      <td>379.90</td>\n",
       "    </tr>\n",
       "  </tbody>\n",
       "</table>\n",
       "</div>"
      ],
      "text/plain": [
       "    index       x       y\n",
       "0    5766  1091.0  373.55\n",
       "1    5767  1091.0  373.55\n",
       "2    5778  1094.0  378.74\n",
       "3    5779  1134.0  385.67\n",
       "4    5811  1100.0  357.96\n",
       "5    5861  1109.0  352.76\n",
       "6    5909  1122.0  354.49\n",
       "7    5941  1129.0  353.92\n",
       "8    5973  1133.0  353.92\n",
       "9    6018  1139.0  353.92\n",
       "10   6021  1140.0  354.49\n",
       "11   6053  1147.0  366.62\n",
       "12   5766  1094.0  378.74\n",
       "13   5767  1100.0  357.96\n",
       "14   5778  1134.0  385.67\n",
       "15   5779  1148.0  379.90\n",
       "16   5811  1109.0  352.76\n",
       "17   5861  1110.0  352.18\n",
       "18   5909  1125.0  353.92\n",
       "19   5941  1133.0  353.92\n",
       "20   5973  1137.0  353.92\n",
       "21   6018  1140.0  354.49\n",
       "22   6021  1147.0  366.62\n",
       "23   6053  1148.0  379.90"
      ]
     },
     "execution_count": 68,
     "metadata": {},
     "output_type": "execute_result"
    }
   ],
   "source": [
    "from scipy.spatial import ConvexHull, convex_hull_plot_2d\n",
    "grain = 1512\n",
    "\n",
    "\n",
    "One_grain = df[(df[\"grain_right\"] == grain) | (df[\"grain_left\"] == grain)]\n",
    "\n",
    "\n",
    "grain_info = df_grains_norm.loc[grain,:]\n",
    "np_img = np.zeros([height, width, 3])\n",
    "\n",
    "start = pd.DataFrame(columns=[\"x\",\"y\"])\n",
    "end = pd.DataFrame(columns=[\"x\",\"y\"])\n",
    "start[[\"x\",\"y\"]] = One_grain[['x_start','y_start']]\n",
    "end[[\"x\",\"y\"]] = One_grain[['x_end','y_end']]\n",
    "points = pd.concat([start,end])\n",
    "points.reset_index()\n",
    "\n",
    "    \n"
   ]
  },
  {
   "cell_type": "code",
   "execution_count": 69,
   "id": "f5a20536",
   "metadata": {},
   "outputs": [],
   "source": [
    "\n",
    "\n",
    "width = int(max([max(df.x_end),max(One_grain.x_start)]))+1\n",
    "height = int(max([max(One_grain.y_end),max(One_grain.y_start)]))+1\n",
    "np_img = np.zeros([height, width, 3])\n",
    "\n",
    "hull = ConvexHull(points)\n",
    "for idx in range(len(hull.simplices)):\n",
    "    x_s = hull.points[hull.simplices[idx,0], 0].astype(\"uint16\")\n",
    "    y_s = hull.points[hull.simplices[idx,0], 1].astype(\"uint16\")\n",
    "    x_e = hull.points[hull.simplices[idx,1], 0].astype(\"uint16\")\n",
    "    y_e = hull.points[hull.simplices[idx,1], 1].astype(\"uint16\")\n",
    "    \n",
    "    rr,cc,a = draw.line_aa(x_s,y_s,x_e,y_e)\n",
    "    np_img[cc,rr] = (1,1,1)\n"
   ]
  },
  {
   "cell_type": "code",
   "execution_count": 70,
   "id": "2230cbc2",
   "metadata": {},
   "outputs": [
    {
     "data": {
      "text/plain": [
       "<matplotlib.image.AxesImage at 0x290fb7b80>"
      ]
     },
     "execution_count": 70,
     "metadata": {},
     "output_type": "execute_result"
    },
    {
     "data": {
      "image/png": "[encoded data removed]",
      "text/plain": [
       "<Figure size 1200x800 with 1 Axes>"
      ]
     },
     "metadata": {
      "needs_background": "light"
     },
     "output_type": "display_data"
    }
   ],
   "source": [
    "plt.imshow(np_img)"
   ]
  },
  {
   "cell_type": "code",
   "execution_count": 71,
   "id": "6a4c0ef8",
   "metadata": {},
   "outputs": [
    {
     "data": {
      "text/plain": [
       "9"
      ]
     },
     "execution_count": 71,
     "metadata": {},
     "output_type": "execute_result"
    }
   ],
   "source": [
    "len(hull.simplices)"
   ]
  },
  {
   "cell_type": "code",
   "execution_count": 72,
   "id": "3684a5a6",
   "metadata": {},
   "outputs": [
    {
     "data": {
      "image/png": "[encoded data removed]",
      "text/plain": [
       "<Figure size 1200x800 with 1 Axes>"
      ]
     },
     "metadata": {
      "needs_background": "light"
     },
     "output_type": "display_data"
    }
   ],
   "source": [
    "hull = ConvexHull(points)\n",
    "a = convex_hull_plot_2d(hull)\n",
    "plt.show()\n"
   ]
  },
  {
   "cell_type": "code",
   "execution_count": null,
   "id": "df57d00c",
   "metadata": {},
   "outputs": [],
   "source": [
    "import cv2\n",
    "np_img = np.zeros([50, 50, 3])\n",
    "test = cv2.fillPoly(np_img, pts = [points.values.tolist()], color =(255,255,255))\n",
    "plt.imshow(test)"
   ]
  },
  {
   "cell_type": "code",
   "execution_count": null,
   "id": "4a14edbd",
   "metadata": {},
   "outputs": [],
   "source": [
    "hull.points[hull.simplices[0,1], :] "
   ]
  }
 ],
 "metadata": {
  "kernelspec": {
   "display_name": "Python 3 (ipykernel)",
   "language": "python",
   "name": "python3"
  },
  "language_info": {
   "codemirror_mode": {
    "name": "ipython",
    "version": 3
   },
   "file_extension": ".py",
   "mimetype": "text/x-python",
   "name": "python",
   "nbconvert_exporter": "python",
   "pygments_lexer": "ipython3",
   "version": "3.10.4"
  }
 },
 "nbformat": 4,
 "nbformat_minor": 5
}
