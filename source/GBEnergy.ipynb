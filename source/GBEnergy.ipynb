{
 "cells": [
  {
   "cell_type": "markdown",
   "id": "8f87fb34",
   "metadata": {},
   "source": [
    "## GB energy with WIELD"
   ]
  },
  {
   "cell_type": "code",
   "execution_count": 1,
   "id": "1d45fdef",
   "metadata": {},
   "outputs": [],
   "source": [
    "import pandas as pd\n",
    "import numpy as np\n",
    "from skimage import draw,io\n",
    "from skimage.segmentation import flood, flood_fill\n",
    "import cv2\n",
    "import math\n",
    "from matplotlib import pyplot as plt\n",
    "from IPython.display import set_matplotlib_formats\n",
    "plt.rcParams['figure.dpi'] = 400\n",
    "plt.rcParams['savefig.dpi'] = 400\n",
    "\n",
    "\n"
   ]
  },
  {
   "cell_type": "code",
   "execution_count": 10,
   "id": "b307cf47",
   "metadata": {},
   "outputs": [
    {
     "name": "stdout",
     "output_type": "stream",
     "text": [
      "Dataframe 1_001 sucessfully imported\n",
      "ETL in Dataframe sucessfully done\n"
     ]
    }
   ],
   "source": [
    "\n",
    "folder = \"../data/\"\n",
    "file = \"1_001\"\n",
    "path = folder + file\n",
    "\n",
    "#%%\n",
    "\n",
    "sample = np.loadtxt(path+ \".txt\")\n",
    "\n",
    "'''\n",
    "# Column 1-3:   right hand average orientation (phi1, PHI, phi2 in radians)\n",
    "# Column 4-6:   left hand average orientation (phi1, PHI, phi2 in radians)\n",
    "# Column 7:     Misorientation Angle\n",
    "# Column 8-10:  Misorientation Axis in Right Hand grain\n",
    "# Column 11-13: Misorientation Axis in Left Hand grain\n",
    "# Column 14:    length (in microns)\n",
    "# Column 15:    trace angle (in degrees)\n",
    "# Column 16-19: x,y coordinates of endpoints (in microns)\n",
    "# Column 20-21: IDs of right hand and left hand grains\n",
    "\n",
    "'''\n",
    "\n",
    "\n",
    "df = pd.DataFrame(  data = sample, \n",
    "                    columns = [\"right_phi1\",\"right_PHI\",\"right_phi2\",                 #1-3\n",
    "                               \"left_phi1\",\"left_PHI\",\"left_phi2\",                    #4-6 \n",
    "                               \"ori_angle\",                                           #7\n",
    "                               \"right_ori_x\",\"right_ori_y\",\"right_ori_z\",              #8-10\n",
    "                               \"left_ori_x\",\"left_ori_y\",\"left_ori_z\",                 #11-13  \n",
    "                               \"length\",                                              #14\n",
    "                               \"trace_angle\",                                         #15\n",
    "                               \"x_start\", \"y_start\", \"x_end\", \"y_end\",                #16-19\n",
    "                               \"grain_right\",\"grain_left\"                             #20-21\n",
    "                               ]                    \n",
    "                 )\n",
    "\n",
    "\n",
    "width = int(max([max(df.x_end),max(df.x_start)]))+1\n",
    "height = int(max([max(df.y_end),max(df.y_start)]))+1\n",
    "\n",
    "print(\"Dataframe \" + file+ \" sucessfully imported\")\n",
    "\n",
    "df_right = df[['right_phi1','right_PHI','right_phi2','grain_right','grain_left','trace_angle']]\n",
    "#df_right = df_right.rename(columns={\"grain_right\": \"grain\"})\n",
    "\n",
    "#df_right = df_right[~df_right.grain.duplicated()].sort_values('grain')\n",
    "#df_right = df_right.set_index('grain')\n",
    "\n",
    "#TODO: Check the completeness of this join\n",
    "\n",
    "#df_grains = df_left.join(df_right, lsuffix='_left', rsuffix='_right')\n",
    "\n",
    "#df_grains_norm = (df_grains - df_grains.min()) / (df_grains.max() - df_grains.min())\n",
    "\n",
    "print(\"ETL in Dataframe sucessfully done\")"
   ]
  },
  {
   "cell_type": "code",
   "execution_count": 49,
   "id": "4168144e",
   "metadata": {},
   "outputs": [],
   "source": [
    "df_r = df_right.groupby(['grain_left', 'grain_right'])\n",
    "df_wield = df_r.first()"
   ]
  },
  {
   "cell_type": "code",
   "execution_count": 52,
   "id": "647bd285",
   "metadata": {},
   "outputs": [
    {
     "ename": "AttributeError",
     "evalue": "'DataFrame' object has no attribute 'get_group'",
     "output_type": "error",
     "traceback": [
      "\u001b[0;31m---------------------------------------------------------------------------\u001b[0m",
      "\u001b[0;31mAttributeError\u001b[0m                            Traceback (most recent call last)",
      "\u001b[0;32m/tmp/ipykernel_3632125/2421983500.py\u001b[0m in \u001b[0;36m<cell line: 1>\u001b[0;34m()\u001b[0m\n\u001b[0;32m----> 1\u001b[0;31m \u001b[0mdf\u001b[0m\u001b[0;34m.\u001b[0m\u001b[0mget_group\u001b[0m\u001b[0;34m(\u001b[0m\u001b[0;34m\"1\"\u001b[0m\u001b[0;34m)\u001b[0m\u001b[0;34m\u001b[0m\u001b[0;34m\u001b[0m\u001b[0m\n\u001b[0m",
      "\u001b[0;32m~/miniconda3/lib/python3.9/site-packages/pandas/core/generic.py\u001b[0m in \u001b[0;36m__getattr__\u001b[0;34m(self, name)\u001b[0m\n\u001b[1;32m   5573\u001b[0m         ):\n\u001b[1;32m   5574\u001b[0m             \u001b[0;32mreturn\u001b[0m \u001b[0mself\u001b[0m\u001b[0;34m[\u001b[0m\u001b[0mname\u001b[0m\u001b[0;34m]\u001b[0m\u001b[0;34m\u001b[0m\u001b[0;34m\u001b[0m\u001b[0m\n\u001b[0;32m-> 5575\u001b[0;31m         \u001b[0;32mreturn\u001b[0m \u001b[0mobject\u001b[0m\u001b[0;34m.\u001b[0m\u001b[0m__getattribute__\u001b[0m\u001b[0;34m(\u001b[0m\u001b[0mself\u001b[0m\u001b[0;34m,\u001b[0m \u001b[0mname\u001b[0m\u001b[0;34m)\u001b[0m\u001b[0;34m\u001b[0m\u001b[0;34m\u001b[0m\u001b[0m\n\u001b[0m\u001b[1;32m   5576\u001b[0m \u001b[0;34m\u001b[0m\u001b[0m\n\u001b[1;32m   5577\u001b[0m     \u001b[0;32mdef\u001b[0m \u001b[0m__setattr__\u001b[0m\u001b[0;34m(\u001b[0m\u001b[0mself\u001b[0m\u001b[0;34m,\u001b[0m \u001b[0mname\u001b[0m\u001b[0;34m:\u001b[0m \u001b[0mstr\u001b[0m\u001b[0;34m,\u001b[0m \u001b[0mvalue\u001b[0m\u001b[0;34m)\u001b[0m \u001b[0;34m->\u001b[0m \u001b[0;32mNone\u001b[0m\u001b[0;34m:\u001b[0m\u001b[0;34m\u001b[0m\u001b[0;34m\u001b[0m\u001b[0m\n",
      "\u001b[0;31mAttributeError\u001b[0m: 'DataFrame' object has no attribute 'get_group'"
     ]
    }
   ],
   "source": [
    "df.get_group(\"1\")"
   ]
  },
  {
   "cell_type": "code",
   "execution_count": 37,
   "id": "6a688af9",
   "metadata": {},
   "outputs": [],
   "source": []
  },
  {
   "cell_type": "code",
   "execution_count": 44,
   "id": "4b19ae66",
   "metadata": {},
   "outputs": [
    {
     "data": {
      "text/plain": [
       "305"
      ]
     },
     "execution_count": 44,
     "metadata": {},
     "output_type": "execute_result"
    }
   ],
   "source": [
    "np.count_nonzero(a)"
   ]
  }
 ],
 "metadata": {
  "kernelspec": {
   "display_name": "Python 3 (ipykernel)",
   "language": "python",
   "name": "python3"
  },
  "language_info": {
   "codemirror_mode": {
    "name": "ipython",
    "version": 3
   },
   "file_extension": ".py",
   "mimetype": "text/x-python",
   "name": "python",
   "nbconvert_exporter": "python",
   "pygments_lexer": "ipython3",
   "version": "3.9.12"
  }
 },
 "nbformat": 4,
 "nbformat_minor": 5
}
