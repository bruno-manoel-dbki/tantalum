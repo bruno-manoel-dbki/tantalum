{
 "cells": [
  {
   "cell_type": "markdown",
   "id": "a8c8c1bc",
   "metadata": {},
   "source": [
    "# Calculating GB energy from DF"
   ]
  },
  {
   "cell_type": "markdown",
   "id": "7f96c1fc",
   "metadata": {},
   "source": [
    "## Objective\n",
    "\n",
    "(i) Select data from boundaries\n",
    "(ii) Organize it for all grains\n",
    "(iii) Calculate the energy with wield"
   ]
  },
  {
   "cell_type": "markdown",
   "id": "961bc087",
   "metadata": {},
   "source": [
    "## Method\n",
    "\n",
    "    * Open Dataframe\n",
    "    * Select attributes of interest from boundaries\n",
    "    * Create a new DF with grain information\n",
    "    * Convert data to wield\n",
    "    * Run wield for all grains\n",
    "    * Store energy in Dataframe"
   ]
  },
  {
   "cell_type": "code",
   "execution_count": 147,
   "id": "8e745837",
   "metadata": {},
   "outputs": [],
   "source": [
    "import pandas as pd\n",
    "import numpy as np\n",
    "from skimage import draw\n",
    "from skimage.segmentation import flood, flood_fill\n",
    "\n",
    "from matplotlib import pyplot as plt\n"
   ]
  },
  {
   "cell_type": "markdown",
   "id": "3a77d4b0",
   "metadata": {},
   "source": [
    "### Open Dataframe\n"
   ]
  },
  {
   "cell_type": "code",
   "execution_count": 2,
   "id": "2b431e03",
   "metadata": {},
   "outputs": [],
   "source": [
    "\n",
    "folder = \"../data/\"\n",
    "file = \"1_005\"\n",
    "path = folder + file\n",
    "\n",
    "#%%\n",
    "\n",
    "sample = np.loadtxt(path+ \".txt\")\n",
    "\n",
    "'''\n",
    "# Column 1-3:   right hand average orientation (phi1, PHI, phi2 in radians)\n",
    "# Column 4-6:   left hand average orientation (phi1, PHI, phi2 in radians)\n",
    "# Column 7:     Misorientation Angle\n",
    "# Column 8-10:  Misorientation Axis in Right Hand grain\n",
    "# Column 11-13: Misorientation Axis in Left Hand grain\n",
    "# Column 14:    length (in microns)\n",
    "# Column 15:    trace angle (in degrees)\n",
    "# Column 16-19: x,y coordinates of endpoints (in microns)\n",
    "# Column 20-21: IDs of right hand and left hand grains\n",
    "\n",
    "'''\n",
    "\n",
    "\n",
    "df = pd.DataFrame(  data = sample, \n",
    "                    columns = [\"right_phi1\",\"right_PHI\",\"right_phi2\",                 #1-3\n",
    "                               \"left_phi1\",\"left_PHI\",\"left_phi2\",                    #4-6 \n",
    "                               \"ori_angle\",                                           #7\n",
    "                               \"right_ori_x\",\"right_ori_y\",\"right_ori_z\",              #8-10\n",
    "                               \"left_ori_x\",\"left_ori_y\",\"left_ori_z\",                 #11-13  \n",
    "                               \"length\",                                              #14\n",
    "                               \"trace_angle\",                                         #15\n",
    "                               \"x_start\", \"y_start\", \"x_end\", \"y_end\",                #16-19\n",
    "                               \"grain_right\",\"grain_left\"                             #20-21\n",
    "                               ]                    \n",
    "                 )\n"
   ]
  },
  {
   "cell_type": "code",
   "execution_count": 3,
   "id": "93f6c643",
   "metadata": {},
   "outputs": [
    {
     "data": {
      "text/plain": [
       "10      1120.0\n",
       "25      2455.0\n",
       "35      3207.0\n",
       "39      3372.0\n",
       "44      3595.0\n",
       "         ...  \n",
       "7311    1901.0\n",
       "7324    2874.0\n",
       "7328    2486.0\n",
       "7330    3008.0\n",
       "7340     130.0\n",
       "Name: grain_right, Length: 420, dtype: float64"
      ]
     },
     "execution_count": 3,
     "metadata": {},
     "output_type": "execute_result"
    }
   ],
   "source": [
    "df.grain_right.drop_duplicates(keep = False)"
   ]
  },
  {
   "cell_type": "markdown",
   "id": "d59bca62",
   "metadata": {},
   "source": [
    "### Select attributes of interest from boundaries\n",
    "\n",
    "The group of information that is directly related to the grain: \n",
    "* Column 1-3:   right hand average orientation (phi1, PHI, phi2 in radians)\n",
    "* Column 4-6:   left hand average orientation (phi1, PHI, phi2 in radians)\n",
    "* Column 7:     Misorientation Angle\n",
    "* Column 8-10:  Misorientation Axis in Right Hand grain\n",
    "* Column 11-13: Misorientation Axis in Left Hand grain\n",
    "* Column 20-21: IDs of right hand and left hand grains\n",
    "\n",
    "The Columns 20-21 describe the grain of interest\n",
    "\n",
    "The Columns 1-6 depends on grain itself, **here we are interested**\n",
    "\n",
    "The Columns 7-13 depends on left and right grains"
   ]
  },
  {
   "cell_type": "code",
   "execution_count": 4,
   "id": "7b1419bd",
   "metadata": {},
   "outputs": [],
   "source": [
    "#df_left = df[['ori_angle','left_phi1','left_PHI','left_phi2','left_ori_x','left_ori_y','left_ori_z','grain_left']]\n",
    "#df_right = df[['right_phi1','right_PHI','right_phi2','right_ori_x','right_ori_y','right_ori_z','grain_right']]\n",
    "\n",
    "# left_ori is related with other grain, than is not interesting to keep in this case\n",
    "\n",
    "df_left = df[['left_phi1','left_PHI','left_phi2','grain_left']]\n",
    "df_left = df_left.rename(columns={\"grain_left\": \"grain\"})\n",
    "\n",
    "\n",
    "df_right = df[['right_phi1','right_PHI','right_phi2','grain_right']]\n",
    "df_right = df_right.rename(columns={\"grain_right\": \"grain\"})\n"
   ]
  },
  {
   "cell_type": "code",
   "execution_count": null,
   "id": "6e035e21",
   "metadata": {},
   "outputs": [],
   "source": [
    "df_left = df_left[~df_left.grain.duplicated()].sort_values('grain')\n",
    "df_left = df_left.set_index('grain')\n"
   ]
  },
  {
   "cell_type": "code",
   "execution_count": null,
   "id": "bbe1bafa",
   "metadata": {},
   "outputs": [],
   "source": [
    "df_right = df_right[~df_right.grain.duplicated()].sort_values('grain')\n",
    "df_right = df_right.set_index('grain')\n"
   ]
  },
  {
   "cell_type": "code",
   "execution_count": null,
   "id": "48b6ded0",
   "metadata": {},
   "outputs": [],
   "source": [
    "#df_grains = pd.concat([df_left,df_right])\n",
    "df_grains = df_left.join(df_right)"
   ]
  },
  {
   "cell_type": "code",
   "execution_count": null,
   "id": "477f7afd",
   "metadata": {},
   "outputs": [],
   "source": [
    "df_grains.sort_values('grain')"
   ]
  },
  {
   "cell_type": "code",
   "execution_count": null,
   "id": "eb2340ff",
   "metadata": {},
   "outputs": [],
   "source": [
    "df_grains.left_phi1.equals(df_grains.right_phi1)"
   ]
  },
  {
   "cell_type": "markdown",
   "id": "d87e8679",
   "metadata": {},
   "source": [
    "## Fill Grains based on phi1, PHI, and phi2"
   ]
  },
  {
   "cell_type": "code",
   "execution_count": 76,
   "id": "c3095081",
   "metadata": {},
   "outputs": [
    {
     "data": {
      "text/html": [
       "<div>\n",
       "<style scoped>\n",
       "    .dataframe tbody tr th:only-of-type {\n",
       "        vertical-align: middle;\n",
       "    }\n",
       "\n",
       "    .dataframe tbody tr th {\n",
       "        vertical-align: top;\n",
       "    }\n",
       "\n",
       "    .dataframe thead th {\n",
       "        text-align: right;\n",
       "    }\n",
       "</style>\n",
       "<table border=\"1\" class=\"dataframe\">\n",
       "  <thead>\n",
       "    <tr style=\"text-align: right;\">\n",
       "      <th></th>\n",
       "      <th>right_phi1</th>\n",
       "      <th>right_PHI</th>\n",
       "      <th>right_phi2</th>\n",
       "      <th>left_phi1</th>\n",
       "      <th>left_PHI</th>\n",
       "      <th>left_phi2</th>\n",
       "      <th>ori_angle</th>\n",
       "      <th>right_ori_x</th>\n",
       "      <th>right_ori_y</th>\n",
       "      <th>right_ori_z</th>\n",
       "      <th>...</th>\n",
       "      <th>left_ori_y</th>\n",
       "      <th>left_ori_z</th>\n",
       "      <th>length</th>\n",
       "      <th>trace_angle</th>\n",
       "      <th>x_start</th>\n",
       "      <th>y_start</th>\n",
       "      <th>x_end</th>\n",
       "      <th>y_end</th>\n",
       "      <th>grain_right</th>\n",
       "      <th>grain_left</th>\n",
       "    </tr>\n",
       "  </thead>\n",
       "  <tbody>\n",
       "    <tr>\n",
       "      <th>408</th>\n",
       "      <td>1.917</td>\n",
       "      <td>0.639</td>\n",
       "      <td>5.135</td>\n",
       "      <td>6.271</td>\n",
       "      <td>0.745</td>\n",
       "      <td>0.120</td>\n",
       "      <td>51.29</td>\n",
       "      <td>-21.0</td>\n",
       "      <td>-18.0</td>\n",
       "      <td>-5.0</td>\n",
       "      <td>...</td>\n",
       "      <td>-18.0</td>\n",
       "      <td>-5.0</td>\n",
       "      <td>17.243</td>\n",
       "      <td>129.6</td>\n",
       "      <td>29.0</td>\n",
       "      <td>47.92</td>\n",
       "      <td>40.0</td>\n",
       "      <td>61.20</td>\n",
       "      <td>119.0</td>\n",
       "      <td>100.0</td>\n",
       "    </tr>\n",
       "    <tr>\n",
       "      <th>409</th>\n",
       "      <td>6.271</td>\n",
       "      <td>0.745</td>\n",
       "      <td>0.120</td>\n",
       "      <td>0.858</td>\n",
       "      <td>0.219</td>\n",
       "      <td>5.426</td>\n",
       "      <td>36.96</td>\n",
       "      <td>18.0</td>\n",
       "      <td>-6.0</td>\n",
       "      <td>5.0</td>\n",
       "      <td>...</td>\n",
       "      <td>-6.0</td>\n",
       "      <td>5.0</td>\n",
       "      <td>13.614</td>\n",
       "      <td>42.7</td>\n",
       "      <td>29.0</td>\n",
       "      <td>47.92</td>\n",
       "      <td>39.0</td>\n",
       "      <td>38.68</td>\n",
       "      <td>100.0</td>\n",
       "      <td>79.0</td>\n",
       "    </tr>\n",
       "    <tr>\n",
       "      <th>458</th>\n",
       "      <td>3.569</td>\n",
       "      <td>0.749</td>\n",
       "      <td>2.910</td>\n",
       "      <td>6.271</td>\n",
       "      <td>0.745</td>\n",
       "      <td>0.120</td>\n",
       "      <td>12.89</td>\n",
       "      <td>14.0</td>\n",
       "      <td>-22.0</td>\n",
       "      <td>9.0</td>\n",
       "      <td>...</td>\n",
       "      <td>-22.0</td>\n",
       "      <td>9.0</td>\n",
       "      <td>16.042</td>\n",
       "      <td>4.1</td>\n",
       "      <td>39.0</td>\n",
       "      <td>38.68</td>\n",
       "      <td>55.0</td>\n",
       "      <td>37.53</td>\n",
       "      <td>2.0</td>\n",
       "      <td>100.0</td>\n",
       "    </tr>\n",
       "    <tr>\n",
       "      <th>462</th>\n",
       "      <td>6.271</td>\n",
       "      <td>0.745</td>\n",
       "      <td>0.120</td>\n",
       "      <td>3.202</td>\n",
       "      <td>0.343</td>\n",
       "      <td>3.108</td>\n",
       "      <td>28.15</td>\n",
       "      <td>-17.0</td>\n",
       "      <td>0.0</td>\n",
       "      <td>3.0</td>\n",
       "      <td>...</td>\n",
       "      <td>0.0</td>\n",
       "      <td>3.0</td>\n",
       "      <td>27.301</td>\n",
       "      <td>171.5</td>\n",
       "      <td>40.0</td>\n",
       "      <td>61.20</td>\n",
       "      <td>67.0</td>\n",
       "      <td>65.24</td>\n",
       "      <td>100.0</td>\n",
       "      <td>133.0</td>\n",
       "    </tr>\n",
       "    <tr>\n",
       "      <th>463</th>\n",
       "      <td>6.271</td>\n",
       "      <td>0.745</td>\n",
       "      <td>0.120</td>\n",
       "      <td>3.202</td>\n",
       "      <td>0.343</td>\n",
       "      <td>3.108</td>\n",
       "      <td>28.15</td>\n",
       "      <td>-17.0</td>\n",
       "      <td>0.0</td>\n",
       "      <td>3.0</td>\n",
       "      <td>...</td>\n",
       "      <td>0.0</td>\n",
       "      <td>3.0</td>\n",
       "      <td>9.165</td>\n",
       "      <td>70.9</td>\n",
       "      <td>67.0</td>\n",
       "      <td>65.24</td>\n",
       "      <td>70.0</td>\n",
       "      <td>56.58</td>\n",
       "      <td>100.0</td>\n",
       "      <td>133.0</td>\n",
       "    </tr>\n",
       "    <tr>\n",
       "      <th>532</th>\n",
       "      <td>6.271</td>\n",
       "      <td>0.745</td>\n",
       "      <td>0.120</td>\n",
       "      <td>2.559</td>\n",
       "      <td>0.670</td>\n",
       "      <td>3.099</td>\n",
       "      <td>40.34</td>\n",
       "      <td>-3.0</td>\n",
       "      <td>12.0</td>\n",
       "      <td>13.0</td>\n",
       "      <td>...</td>\n",
       "      <td>12.0</td>\n",
       "      <td>13.0</td>\n",
       "      <td>11.136</td>\n",
       "      <td>128.9</td>\n",
       "      <td>55.0</td>\n",
       "      <td>37.53</td>\n",
       "      <td>62.0</td>\n",
       "      <td>46.19</td>\n",
       "      <td>100.0</td>\n",
       "      <td>80.0</td>\n",
       "    </tr>\n",
       "    <tr>\n",
       "      <th>566</th>\n",
       "      <td>6.271</td>\n",
       "      <td>0.745</td>\n",
       "      <td>0.120</td>\n",
       "      <td>0.695</td>\n",
       "      <td>0.562</td>\n",
       "      <td>6.276</td>\n",
       "      <td>36.48</td>\n",
       "      <td>7.0</td>\n",
       "      <td>-20.0</td>\n",
       "      <td>-20.0</td>\n",
       "      <td>...</td>\n",
       "      <td>-20.0</td>\n",
       "      <td>-20.0</td>\n",
       "      <td>13.115</td>\n",
       "      <td>127.6</td>\n",
       "      <td>62.0</td>\n",
       "      <td>46.19</td>\n",
       "      <td>70.0</td>\n",
       "      <td>56.58</td>\n",
       "      <td>100.0</td>\n",
       "      <td>103.0</td>\n",
       "    </tr>\n",
       "  </tbody>\n",
       "</table>\n",
       "<p>7 rows × 21 columns</p>\n",
       "</div>"
      ],
      "text/plain": [
       "     right_phi1  right_PHI  right_phi2  left_phi1  left_PHI  left_phi2  \\\n",
       "408       1.917      0.639       5.135      6.271     0.745      0.120   \n",
       "409       6.271      0.745       0.120      0.858     0.219      5.426   \n",
       "458       3.569      0.749       2.910      6.271     0.745      0.120   \n",
       "462       6.271      0.745       0.120      3.202     0.343      3.108   \n",
       "463       6.271      0.745       0.120      3.202     0.343      3.108   \n",
       "532       6.271      0.745       0.120      2.559     0.670      3.099   \n",
       "566       6.271      0.745       0.120      0.695     0.562      6.276   \n",
       "\n",
       "     ori_angle  right_ori_x  right_ori_y  right_ori_z  ...  left_ori_y  \\\n",
       "408      51.29        -21.0        -18.0         -5.0  ...       -18.0   \n",
       "409      36.96         18.0         -6.0          5.0  ...        -6.0   \n",
       "458      12.89         14.0        -22.0          9.0  ...       -22.0   \n",
       "462      28.15        -17.0          0.0          3.0  ...         0.0   \n",
       "463      28.15        -17.0          0.0          3.0  ...         0.0   \n",
       "532      40.34         -3.0         12.0         13.0  ...        12.0   \n",
       "566      36.48          7.0        -20.0        -20.0  ...       -20.0   \n",
       "\n",
       "     left_ori_z  length  trace_angle  x_start  y_start  x_end  y_end  \\\n",
       "408        -5.0  17.243        129.6     29.0    47.92   40.0  61.20   \n",
       "409         5.0  13.614         42.7     29.0    47.92   39.0  38.68   \n",
       "458         9.0  16.042          4.1     39.0    38.68   55.0  37.53   \n",
       "462         3.0  27.301        171.5     40.0    61.20   67.0  65.24   \n",
       "463         3.0   9.165         70.9     67.0    65.24   70.0  56.58   \n",
       "532        13.0  11.136        128.9     55.0    37.53   62.0  46.19   \n",
       "566       -20.0  13.115        127.6     62.0    46.19   70.0  56.58   \n",
       "\n",
       "     grain_right  grain_left  \n",
       "408        119.0       100.0  \n",
       "409        100.0        79.0  \n",
       "458          2.0       100.0  \n",
       "462        100.0       133.0  \n",
       "463        100.0       133.0  \n",
       "532        100.0        80.0  \n",
       "566        100.0       103.0  \n",
       "\n",
       "[7 rows x 21 columns]"
      ]
     },
     "execution_count": 76,
     "metadata": {},
     "output_type": "execute_result"
    }
   ],
   "source": [
    "grain = 100\n",
    "One_grain = df[(df[\"grain_right\"] == grain) | (df[\"grain_left\"] == grain)]\n",
    "One_grain"
   ]
  },
  {
   "cell_type": "code",
   "execution_count": 155,
   "id": "31275ee1",
   "metadata": {},
   "outputs": [
    {
     "data": {
      "text/plain": [
       "(71, 66)"
      ]
     },
     "execution_count": 155,
     "metadata": {},
     "output_type": "execute_result"
    }
   ],
   "source": [
    "\n",
    "width = int(max([max(One_grain.x_end),max(One_grain.x_start)]))+1\n",
    "height = int(max([max(One_grain.y_end),max(One_grain.y_start)]))+1\n",
    "\n",
    "width,height"
   ]
  },
  {
   "cell_type": "code",
   "execution_count": 170,
   "id": "833302c5",
   "metadata": {},
   "outputs": [
    {
     "data": {
      "text/plain": [
       "(66, 71, 1)"
      ]
     },
     "execution_count": 170,
     "metadata": {},
     "output_type": "execute_result"
    }
   ],
   "source": [
    "np_img.shape"
   ]
  },
  {
   "cell_type": "code",
   "execution_count": 231,
   "id": "586b9b62",
   "metadata": {},
   "outputs": [
    {
     "data": {
      "text/plain": [
       "(51.71428571428571, 50.47714285714285)"
      ]
     },
     "execution_count": 231,
     "metadata": {},
     "output_type": "execute_result"
    }
   ],
   "source": [
    "One_grain[['x_start','x_end']].mean().mean(),One_grain[['y_start','y_end']].mean().mean()"
   ]
  },
  {
   "cell_type": "code",
   "execution_count": 229,
   "id": "cd45f110",
   "metadata": {},
   "outputs": [
    {
     "name": "stderr",
     "output_type": "stream",
     "text": [
      "Clipping input data to the valid range for imshow with RGB data ([0..1] for floats or [0..255] for integers).\n"
     ]
    },
    {
     "name": "stdout",
     "output_type": "stream",
     "text": [
      "29 47 40 61\n",
      "\n",
      "29 47 39 38\n",
      "\n",
      "39 38 55 37\n",
      "\n",
      "40 61 67 65\n",
      "\n",
      "67 65 70 56\n",
      "\n",
      "55 37 62 46\n",
      "\n",
      "62 46 70 56\n",
      "\n"
     ]
    },
    {
     "data": {
      "text/plain": [
       "<matplotlib.image.AxesImage at 0x16a3c64a0>"
      ]
     },
     "execution_count": 229,
     "metadata": {},
     "output_type": "execute_result"
    },
    {
     "data": {
      "image/png": "[encoded data removed]",
      "text/plain": [
       "<Figure size 432x288 with 1 Axes>"
      ]
     },
     "metadata": {
      "needs_background": "light"
     },
     "output_type": "display_data"
    }
   ],
   "source": [
    "\n",
    "np_img = np.zeros([height, width, 3])\n",
    "\n",
    "for idx, row in One_grain.iterrows():\n",
    "    print(\"%d %d %d %d\\n\" %(row.x_start.astype(\"uint16\"),row.y_start.astype(\"uint16\"),row.x_end.astype(\"uint16\"),row.y_end.astype(\"uint16\")))\n",
    "    #rr,cc = draw.polygon(One_grain.x_start, One_grain.y_start, np_img.shape)\n",
    "    rr,cc,a = draw.line(row.x_start.astype(\"uint16\"),row.y_start.astype(\"uint16\"),row.x_end.astype(\"uint16\"),row.y_end.astype(\"uint16\"))\n",
    "    np_img[cc,rr,:3] = (1,255,1)\n",
    "    \n",
    "np_img = flood_fill(np_img, (50, 52,1), 255 )\n",
    "#np_img = flood_fill(np_img, (50, 52,0), 155 )\n",
    "plt.imshow(np_img)\n",
    "\n"
   ]
  },
  {
   "cell_type": "code",
   "execution_count": 130,
   "id": "3b800cbb",
   "metadata": {},
   "outputs": [
    {
     "data": {
      "text/plain": [
       "409    47.92\n",
       "458    38.68\n",
       "Name: y_start, dtype: float64"
      ]
     },
     "execution_count": 130,
     "metadata": {},
     "output_type": "execute_result"
    }
   ],
   "source": [
    "One_grain.y_start.iloc[1:3]"
   ]
  },
  {
   "cell_type": "code",
   "execution_count": 142,
   "id": "36d05663",
   "metadata": {},
   "outputs": [
    {
     "name": "stderr",
     "output_type": "stream",
     "text": [
      "Clipping input data to the valid range for imshow with RGB data ([0..1] for floats or [0..255] for integers).\n"
     ]
    },
    {
     "data": {
      "text/plain": [
       "<matplotlib.image.AxesImage at 0x13a5f8220>"
      ]
     },
     "execution_count": 142,
     "metadata": {},
     "output_type": "execute_result"
    },
    {
     "data": {
      "image/png": "[encoded data removed]",
      "text/plain": [
       "<Figure size 432x288 with 1 Axes>"
      ]
     },
     "metadata": {
      "needs_background": "light"
     },
     "output_type": "display_data"
    }
   ],
   "source": [
    "\n",
    "np_img = np.zeros([height, width, 3])\n",
    "\n",
    "\n",
    "rr,cc = draw.polygon(One_grain.x_start, One_grain.y_start, np_img.shape)\n",
    "np_img[cc,rr,:] = (0,255,255)\n",
    "#rr,cc = draw.polygon_perimeter(One_grain.x_start.iloc[3:8], One_grain.y_start.iloc[3:8], np_img.shape)\n",
    "#np_img[cc,rr,:] = (0,255,255)\n",
    "\n",
    "    \n",
    "plt.imshow(np_img)"
   ]
  },
  {
   "cell_type": "code",
   "execution_count": 120,
   "id": "6cc79e88",
   "metadata": {},
   "outputs": [
    {
     "data": {
      "text/plain": [
       "array([[29.  , 47.92, 40.  , 61.2 ],\n",
       "       [29.  , 47.92, 39.  , 38.68],\n",
       "       [39.  , 38.68, 55.  , 37.53],\n",
       "       [40.  , 61.2 , 67.  , 65.24],\n",
       "       [67.  , 65.24, 70.  , 56.58],\n",
       "       [55.  , 37.53, 62.  , 46.19],\n",
       "       [62.  , 46.19, 70.  , 56.58]])"
      ]
     },
     "execution_count": 120,
     "metadata": {},
     "output_type": "execute_result"
    }
   ],
   "source": [
    "a = One_grain[['x_start','y_start','x_end','y_end']].to_numpy()\n",
    "\n",
    "a"
   ]
  },
  {
   "cell_type": "markdown",
   "id": "990fa7db",
   "metadata": {},
   "source": [
    "The method polygon_fill do not work because it uses the Even–odd rule and fill all closed paths based on directions provided as parameters. As the order or parameters meters and in our case is not ordered, this method is not helpful.\n"
   ]
  },
  {
   "cell_type": "markdown",
   "id": "1e76f034",
   "metadata": {},
   "source": [
    "## Flood Fill method"
   ]
  },
  {
   "cell_type": "code",
   "execution_count": 232,
   "id": "9d2cf638",
   "metadata": {},
   "outputs": [
    {
     "name": "stderr",
     "output_type": "stream",
     "text": [
      "Clipping input data to the valid range for imshow with RGB data ([0..1] for floats or [0..255] for integers).\n"
     ]
    },
    {
     "name": "stdout",
     "output_type": "stream",
     "text": [
      "29 47 40 61\n",
      "\n",
      "29 47 39 38\n",
      "\n",
      "39 38 55 37\n",
      "\n",
      "40 61 67 65\n",
      "\n",
      "67 65 70 56\n",
      "\n",
      "55 37 62 46\n",
      "\n",
      "62 46 70 56\n",
      "\n"
     ]
    },
    {
     "data": {
      "text/plain": [
       "<matplotlib.image.AxesImage at 0x16a42dea0>"
      ]
     },
     "execution_count": 232,
     "metadata": {},
     "output_type": "execute_result"
    },
    {
     "data": {
      "image/png": "[encoded data removed]",
      "text/plain": [
       "<Figure size 432x288 with 1 Axes>"
      ]
     },
     "metadata": {
      "needs_background": "light"
     },
     "output_type": "display_data"
    }
   ],
   "source": [
    "\n",
    "np_img = np.zeros([height, width, 3])\n",
    "\n",
    "for idx, row in One_grain.iterrows():\n",
    "    print(\"%d %d %d %d\\n\" %(row.x_start.astype(\"uint16\"),row.y_start.astype(\"uint16\"),row.x_end.astype(\"uint16\"),row.y_end.astype(\"uint16\")))\n",
    "    #rr,cc = draw.polygon(One_grain.x_start, One_grain.y_start, np_img.shape)\n",
    "    rr,cc,a = draw.line_aa(row.x_start.astype(\"uint16\"),row.y_start.astype(\"uint16\"),row.x_end.astype(\"uint16\"),row.y_end.astype(\"uint16\"))\n",
    "    np_img[cc,rr,:3] = (1,255,1)\n",
    "    \n",
    "np_img = flood_fill(np_img, (50, 52,1), 255 )\n",
    "#np_img = flood_fill(np_img, (50, 52,0), 155 )\n",
    "plt.imshow(np_img)\n",
    "\n"
   ]
  },
  {
   "cell_type": "markdown",
   "id": "7c919b11",
   "metadata": {},
   "source": [
    "The method floodfill worked but only to binary images. As we need to fill with 3 channels, phi1, PHI, phi2, we need to use the method from another librarby or implement by hand."
   ]
  }
 ],
 "metadata": {
  "kernelspec": {
   "display_name": "Python 3 (ipykernel)",
   "language": "python",
   "name": "python3"
  },
  "language_info": {
   "codemirror_mode": {
    "name": "ipython",
    "version": 3
   },
   "file_extension": ".py",
   "mimetype": "text/x-python",
   "name": "python",
   "nbconvert_exporter": "python",
   "pygments_lexer": "ipython3",
   "version": "3.10.4"
  }
 },
 "nbformat": 4,
 "nbformat_minor": 5
}
